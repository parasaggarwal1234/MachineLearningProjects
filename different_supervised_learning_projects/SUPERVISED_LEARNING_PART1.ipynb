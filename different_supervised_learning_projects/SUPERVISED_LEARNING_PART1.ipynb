{
 "cells": [
  {
   "cell_type": "markdown",
   "id": "b2c880ba",
   "metadata": {},
   "source": [
    "# Part I: Supervised Learning"
   ]
  },
  {
   "cell_type": "code",
   "execution_count": 1,
   "id": "b99e6e12",
   "metadata": {},
   "outputs": [],
   "source": [
    "import pandas as pd\n",
    "import numpy as np\n",
    "import matplotlib.pyplot as plt\n",
    "import seaborn as sns"
   ]
  },
  {
   "cell_type": "code",
   "execution_count": 2,
   "id": "a041334d",
   "metadata": {},
   "outputs": [],
   "source": [
    "\n",
    "from sklearn.metrics import confusion_matrix,classification_report,accuracy_score,roc_auc_score,roc_curve"
   ]
  },
  {
   "cell_type": "code",
   "execution_count": 3,
   "id": "0a9cea22",
   "metadata": {},
   "outputs": [
    {
     "data": {
      "text/html": [
       "<div>\n",
       "<style scoped>\n",
       "    .dataframe tbody tr th:only-of-type {\n",
       "        vertical-align: middle;\n",
       "    }\n",
       "\n",
       "    .dataframe tbody tr th {\n",
       "        vertical-align: top;\n",
       "    }\n",
       "\n",
       "    .dataframe thead th {\n",
       "        text-align: right;\n",
       "    }\n",
       "</style>\n",
       "<table border=\"1\" class=\"dataframe\">\n",
       "  <thead>\n",
       "    <tr style=\"text-align: right;\">\n",
       "      <th></th>\n",
       "      <th>age</th>\n",
       "      <th>job</th>\n",
       "      <th>marital</th>\n",
       "      <th>education</th>\n",
       "      <th>default</th>\n",
       "      <th>housing</th>\n",
       "      <th>loan</th>\n",
       "      <th>contact</th>\n",
       "      <th>month</th>\n",
       "      <th>day_of_week</th>\n",
       "      <th>...</th>\n",
       "      <th>campaign</th>\n",
       "      <th>pdays</th>\n",
       "      <th>previous</th>\n",
       "      <th>poutcome</th>\n",
       "      <th>emp.var.rate</th>\n",
       "      <th>cons.price.idx</th>\n",
       "      <th>cons.conf.idx</th>\n",
       "      <th>euribor3m</th>\n",
       "      <th>nr.employed</th>\n",
       "      <th>y</th>\n",
       "    </tr>\n",
       "  </thead>\n",
       "  <tbody>\n",
       "    <tr>\n",
       "      <th>0</th>\n",
       "      <td>56</td>\n",
       "      <td>housemaid</td>\n",
       "      <td>married</td>\n",
       "      <td>basic.4y</td>\n",
       "      <td>no</td>\n",
       "      <td>no</td>\n",
       "      <td>no</td>\n",
       "      <td>telephone</td>\n",
       "      <td>may</td>\n",
       "      <td>mon</td>\n",
       "      <td>...</td>\n",
       "      <td>1</td>\n",
       "      <td>999</td>\n",
       "      <td>0</td>\n",
       "      <td>nonexistent</td>\n",
       "      <td>1.1</td>\n",
       "      <td>93.994</td>\n",
       "      <td>-36.4</td>\n",
       "      <td>4.857</td>\n",
       "      <td>5191.0</td>\n",
       "      <td>no</td>\n",
       "    </tr>\n",
       "    <tr>\n",
       "      <th>1</th>\n",
       "      <td>57</td>\n",
       "      <td>services</td>\n",
       "      <td>married</td>\n",
       "      <td>high.school</td>\n",
       "      <td>unknown</td>\n",
       "      <td>no</td>\n",
       "      <td>no</td>\n",
       "      <td>telephone</td>\n",
       "      <td>may</td>\n",
       "      <td>mon</td>\n",
       "      <td>...</td>\n",
       "      <td>1</td>\n",
       "      <td>999</td>\n",
       "      <td>0</td>\n",
       "      <td>nonexistent</td>\n",
       "      <td>1.1</td>\n",
       "      <td>93.994</td>\n",
       "      <td>-36.4</td>\n",
       "      <td>4.857</td>\n",
       "      <td>5191.0</td>\n",
       "      <td>no</td>\n",
       "    </tr>\n",
       "    <tr>\n",
       "      <th>2</th>\n",
       "      <td>37</td>\n",
       "      <td>services</td>\n",
       "      <td>married</td>\n",
       "      <td>high.school</td>\n",
       "      <td>no</td>\n",
       "      <td>yes</td>\n",
       "      <td>no</td>\n",
       "      <td>telephone</td>\n",
       "      <td>may</td>\n",
       "      <td>mon</td>\n",
       "      <td>...</td>\n",
       "      <td>1</td>\n",
       "      <td>999</td>\n",
       "      <td>0</td>\n",
       "      <td>nonexistent</td>\n",
       "      <td>1.1</td>\n",
       "      <td>93.994</td>\n",
       "      <td>-36.4</td>\n",
       "      <td>4.857</td>\n",
       "      <td>5191.0</td>\n",
       "      <td>no</td>\n",
       "    </tr>\n",
       "    <tr>\n",
       "      <th>3</th>\n",
       "      <td>40</td>\n",
       "      <td>admin.</td>\n",
       "      <td>married</td>\n",
       "      <td>basic.6y</td>\n",
       "      <td>no</td>\n",
       "      <td>no</td>\n",
       "      <td>no</td>\n",
       "      <td>telephone</td>\n",
       "      <td>may</td>\n",
       "      <td>mon</td>\n",
       "      <td>...</td>\n",
       "      <td>1</td>\n",
       "      <td>999</td>\n",
       "      <td>0</td>\n",
       "      <td>nonexistent</td>\n",
       "      <td>1.1</td>\n",
       "      <td>93.994</td>\n",
       "      <td>-36.4</td>\n",
       "      <td>4.857</td>\n",
       "      <td>5191.0</td>\n",
       "      <td>no</td>\n",
       "    </tr>\n",
       "    <tr>\n",
       "      <th>4</th>\n",
       "      <td>56</td>\n",
       "      <td>services</td>\n",
       "      <td>married</td>\n",
       "      <td>high.school</td>\n",
       "      <td>no</td>\n",
       "      <td>no</td>\n",
       "      <td>yes</td>\n",
       "      <td>telephone</td>\n",
       "      <td>may</td>\n",
       "      <td>mon</td>\n",
       "      <td>...</td>\n",
       "      <td>1</td>\n",
       "      <td>999</td>\n",
       "      <td>0</td>\n",
       "      <td>nonexistent</td>\n",
       "      <td>1.1</td>\n",
       "      <td>93.994</td>\n",
       "      <td>-36.4</td>\n",
       "      <td>4.857</td>\n",
       "      <td>5191.0</td>\n",
       "      <td>no</td>\n",
       "    </tr>\n",
       "  </tbody>\n",
       "</table>\n",
       "<p>5 rows × 21 columns</p>\n",
       "</div>"
      ],
      "text/plain": [
       "   age        job  marital    education  default housing loan    contact  \\\n",
       "0   56  housemaid  married     basic.4y       no      no   no  telephone   \n",
       "1   57   services  married  high.school  unknown      no   no  telephone   \n",
       "2   37   services  married  high.school       no     yes   no  telephone   \n",
       "3   40     admin.  married     basic.6y       no      no   no  telephone   \n",
       "4   56   services  married  high.school       no      no  yes  telephone   \n",
       "\n",
       "  month day_of_week  ...  campaign  pdays  previous     poutcome emp.var.rate  \\\n",
       "0   may         mon  ...         1    999         0  nonexistent          1.1   \n",
       "1   may         mon  ...         1    999         0  nonexistent          1.1   \n",
       "2   may         mon  ...         1    999         0  nonexistent          1.1   \n",
       "3   may         mon  ...         1    999         0  nonexistent          1.1   \n",
       "4   may         mon  ...         1    999         0  nonexistent          1.1   \n",
       "\n",
       "   cons.price.idx  cons.conf.idx  euribor3m  nr.employed   y  \n",
       "0          93.994          -36.4      4.857       5191.0  no  \n",
       "1          93.994          -36.4      4.857       5191.0  no  \n",
       "2          93.994          -36.4      4.857       5191.0  no  \n",
       "3          93.994          -36.4      4.857       5191.0  no  \n",
       "4          93.994          -36.4      4.857       5191.0  no  \n",
       "\n",
       "[5 rows x 21 columns]"
      ]
     },
     "execution_count": 3,
     "metadata": {},
     "output_type": "execute_result"
    }
   ],
   "source": [
    "df =pd.read_csv('bank.csv',sep=';')\n",
    "df.head()"
   ]
  },
  {
   "cell_type": "code",
   "execution_count": 4,
   "id": "dc2740f3",
   "metadata": {},
   "outputs": [
    {
     "data": {
      "text/plain": [
       "(41188, 21)"
      ]
     },
     "execution_count": 4,
     "metadata": {},
     "output_type": "execute_result"
    }
   ],
   "source": [
    "df.shape"
   ]
  },
  {
   "cell_type": "markdown",
   "id": "40df8447",
   "metadata": {},
   "source": [
    "### Missing Value Analysis (checking null/missing values)"
   ]
  },
  {
   "cell_type": "code",
   "execution_count": 5,
   "id": "1b233cad",
   "metadata": {},
   "outputs": [
    {
     "data": {
      "text/plain": [
       "age               0\n",
       "job               0\n",
       "marital           0\n",
       "education         0\n",
       "default           0\n",
       "housing           0\n",
       "loan              0\n",
       "contact           0\n",
       "month             0\n",
       "day_of_week       0\n",
       "duration          0\n",
       "campaign          0\n",
       "pdays             0\n",
       "previous          0\n",
       "poutcome          0\n",
       "emp.var.rate      0\n",
       "cons.price.idx    0\n",
       "cons.conf.idx     0\n",
       "euribor3m         0\n",
       "nr.employed       0\n",
       "y                 0\n",
       "dtype: int64"
      ]
     },
     "execution_count": 5,
     "metadata": {},
     "output_type": "execute_result"
    }
   ],
   "source": [
    "df.isnull().sum()"
   ]
  },
  {
   "cell_type": "markdown",
   "id": "58d5e9e3",
   "metadata": {},
   "source": [
    "#### inference: no missing or null value found"
   ]
  },
  {
   "cell_type": "markdown",
   "id": "2c1a60f8",
   "metadata": {},
   "source": [
    "#### Handling duplicate values"
   ]
  },
  {
   "cell_type": "code",
   "execution_count": 6,
   "id": "4e733b0f",
   "metadata": {},
   "outputs": [
    {
     "data": {
      "text/plain": [
       "12"
      ]
     },
     "execution_count": 6,
     "metadata": {},
     "output_type": "execute_result"
    }
   ],
   "source": [
    "df.duplicated().sum()"
   ]
  },
  {
   "cell_type": "code",
   "execution_count": 7,
   "id": "93435870",
   "metadata": {},
   "outputs": [],
   "source": [
    "df.drop_duplicates(inplace=True)"
   ]
  },
  {
   "cell_type": "code",
   "execution_count": 8,
   "id": "0642a7f6",
   "metadata": {},
   "outputs": [
    {
     "data": {
      "text/plain": [
       "0"
      ]
     },
     "execution_count": 8,
     "metadata": {},
     "output_type": "execute_result"
    }
   ],
   "source": [
    "df.duplicated().sum()"
   ]
  },
  {
   "cell_type": "code",
   "execution_count": 9,
   "id": "cfd0cb64",
   "metadata": {},
   "outputs": [
    {
     "data": {
      "text/plain": [
       "object     11\n",
       "int64       5\n",
       "float64     5\n",
       "dtype: int64"
      ]
     },
     "execution_count": 9,
     "metadata": {},
     "output_type": "execute_result"
    }
   ],
   "source": [
    "df.dtypes.value_counts()"
   ]
  },
  {
   "cell_type": "code",
   "execution_count": 10,
   "id": "8e5e21f9",
   "metadata": {},
   "outputs": [
    {
     "name": "stdout",
     "output_type": "stream",
     "text": [
      "['job', 'marital', 'education', 'default', 'housing', 'loan', 'contact', 'month', 'day_of_week', 'poutcome', 'y'] \n",
      "\n",
      "\n",
      "['age', 'duration', 'campaign', 'pdays', 'previous', 'emp.var.rate', 'cons.price.idx', 'cons.conf.idx', 'euribor3m', 'nr.employed']\n"
     ]
    }
   ],
   "source": [
    "cat_cols = [i for i in df.columns if df[i].dtypes=='object']\n",
    "num_cols = [i for i in df.columns if df[i].dtypes!='object']\n",
    "\n",
    "print(cat_cols,'\\n\\n')\n",
    "print(num_cols)"
   ]
  },
  {
   "cell_type": "code",
   "execution_count": 11,
   "id": "157548c6",
   "metadata": {
    "scrolled": true
   },
   "outputs": [
    {
     "name": "stdout",
     "output_type": "stream",
     "text": [
      "Int64Index([    0,     1,     2,     3,     4,     5,     6,     7,     8,\n",
      "                9,\n",
      "            ...\n",
      "            41178, 41179, 41180, 41181, 41182, 41183, 41184, 41185, 41186,\n",
      "            41187],\n",
      "           dtype='int64', length=41176)\n",
      "31    1947\n",
      "32    1845\n",
      "33    1833\n",
      "36    1779\n",
      "35    1758\n",
      "      ... \n",
      "89       2\n",
      "91       2\n",
      "94       1\n",
      "87       1\n",
      "95       1\n",
      "Name: age, Length: 78, dtype: int64\n",
      "Int64Index([    0,     1,     2,     3,     4,     5,     6,     7,     8,\n",
      "                9,\n",
      "            ...\n",
      "            41178, 41179, 41180, 41181, 41182, 41183, 41184, 41185, 41186,\n",
      "            41187],\n",
      "           dtype='int64', length=41176)\n",
      "90      170\n",
      "85      170\n",
      "136     168\n",
      "73      167\n",
      "124     163\n",
      "       ... \n",
      "1569      1\n",
      "1053      1\n",
      "1263      1\n",
      "1169      1\n",
      "1868      1\n",
      "Name: duration, Length: 1544, dtype: int64\n",
      "Int64Index([    0,     1,     2,     3,     4,     5,     6,     7,     8,\n",
      "                9,\n",
      "            ...\n",
      "            41178, 41179, 41180, 41181, 41182, 41183, 41184, 41185, 41186,\n",
      "            41187],\n",
      "           dtype='int64', length=41176)\n",
      "1     17634\n",
      "2     10568\n",
      "3      5340\n",
      "4      2650\n",
      "5      1599\n",
      "6       979\n",
      "7       629\n",
      "8       400\n",
      "9       283\n",
      "10      225\n",
      "11      177\n",
      "12      125\n",
      "13       92\n",
      "14       69\n",
      "17       58\n",
      "16       51\n",
      "15       51\n",
      "18       33\n",
      "20       30\n",
      "19       26\n",
      "21       24\n",
      "22       17\n",
      "23       16\n",
      "24       15\n",
      "27       11\n",
      "29       10\n",
      "28        8\n",
      "26        8\n",
      "25        8\n",
      "31        7\n",
      "30        7\n",
      "35        5\n",
      "32        4\n",
      "33        4\n",
      "34        3\n",
      "42        2\n",
      "40        2\n",
      "43        2\n",
      "56        1\n",
      "39        1\n",
      "41        1\n",
      "37        1\n",
      "Name: campaign, dtype: int64\n",
      "Int64Index([    0,     1,     2,     3,     4,     5,     6,     7,     8,\n",
      "                9,\n",
      "            ...\n",
      "            41178, 41179, 41180, 41181, 41182, 41183, 41184, 41185, 41186,\n",
      "            41187],\n",
      "           dtype='int64', length=41176)\n",
      "999    39661\n",
      "3        439\n",
      "6        412\n",
      "4        118\n",
      "9         64\n",
      "2         61\n",
      "7         60\n",
      "12        58\n",
      "10        52\n",
      "5         46\n",
      "13        36\n",
      "11        28\n",
      "1         26\n",
      "15        24\n",
      "14        20\n",
      "8         18\n",
      "0         15\n",
      "16        11\n",
      "17         8\n",
      "18         7\n",
      "22         3\n",
      "19         3\n",
      "21         2\n",
      "25         1\n",
      "26         1\n",
      "27         1\n",
      "20         1\n",
      "Name: pdays, dtype: int64\n",
      "Int64Index([    0,     1,     2,     3,     4,     5,     6,     7,     8,\n",
      "                9,\n",
      "            ...\n",
      "            41178, 41179, 41180, 41181, 41182, 41183, 41184, 41185, 41186,\n",
      "            41187],\n",
      "           dtype='int64', length=41176)\n",
      "0    35551\n",
      "1     4561\n",
      "2      754\n",
      "3      216\n",
      "4       70\n",
      "5       18\n",
      "6        5\n",
      "7        1\n",
      "Name: previous, dtype: int64\n",
      "Int64Index([    0,     1,     2,     3,     4,     5,     6,     7,     8,\n",
      "                9,\n",
      "            ...\n",
      "            41178, 41179, 41180, 41181, 41182, 41183, 41184, 41185, 41186,\n",
      "            41187],\n",
      "           dtype='int64', length=41176)\n",
      " 1.4    16228\n",
      "-1.8     9182\n",
      " 1.1     7762\n",
      "-0.1     3682\n",
      "-2.9     1662\n",
      "-3.4     1070\n",
      "-1.7      773\n",
      "-1.1      635\n",
      "-3.0      172\n",
      "-0.2       10\n",
      "Name: emp.var.rate, dtype: int64\n",
      "Int64Index([    0,     1,     2,     3,     4,     5,     6,     7,     8,\n",
      "                9,\n",
      "            ...\n",
      "            41178, 41179, 41180, 41181, 41182, 41183, 41184, 41185, 41186,\n",
      "            41187],\n",
      "           dtype='int64', length=41176)\n",
      "93.994    7762\n",
      "93.918    6681\n",
      "92.893    5793\n",
      "93.444    5173\n",
      "94.465    4374\n",
      "93.200    3615\n",
      "93.075    2457\n",
      "92.201     770\n",
      "92.963     715\n",
      "92.431     446\n",
      "92.649     357\n",
      "94.215     311\n",
      "94.199     303\n",
      "92.843     282\n",
      "92.379     267\n",
      "93.369     264\n",
      "94.027     233\n",
      "94.055     229\n",
      "93.876     212\n",
      "94.601     204\n",
      "92.469     177\n",
      "93.749     174\n",
      "92.713     172\n",
      "94.767     128\n",
      "93.798      67\n",
      "92.756      10\n",
      "Name: cons.price.idx, dtype: int64\n",
      "Int64Index([    0,     1,     2,     3,     4,     5,     6,     7,     8,\n",
      "                9,\n",
      "            ...\n",
      "            41178, 41179, 41180, 41181, 41182, 41183, 41184, 41185, 41186,\n",
      "            41187],\n",
      "           dtype='int64', length=41176)\n",
      "-36.4    7762\n",
      "-42.7    6681\n",
      "-46.2    5793\n",
      "-36.1    5173\n",
      "-41.8    4374\n",
      "-42.0    3615\n",
      "-47.1    2457\n",
      "-31.4     770\n",
      "-40.8     715\n",
      "-26.9     446\n",
      "-30.1     357\n",
      "-40.3     311\n",
      "-37.5     303\n",
      "-50.0     282\n",
      "-29.8     267\n",
      "-34.8     264\n",
      "-38.3     233\n",
      "-39.8     229\n",
      "-40.0     212\n",
      "-49.5     204\n",
      "-33.6     177\n",
      "-34.6     174\n",
      "-33.0     172\n",
      "-50.8     128\n",
      "-40.4      67\n",
      "-45.9      10\n",
      "Name: cons.conf.idx, dtype: int64\n",
      "Int64Index([    0,     1,     2,     3,     4,     5,     6,     7,     8,\n",
      "                9,\n",
      "            ...\n",
      "            41178, 41179, 41180, 41181, 41182, 41183, 41184, 41185, 41186,\n",
      "            41187],\n",
      "           dtype='int64', length=41176)\n",
      "4.857    2868\n",
      "4.962    2611\n",
      "4.963    2487\n",
      "4.961    1902\n",
      "4.856    1210\n",
      "         ... \n",
      "3.853       1\n",
      "3.901       1\n",
      "0.969       1\n",
      "0.956       1\n",
      "3.669       1\n",
      "Name: euribor3m, Length: 316, dtype: int64\n",
      "Int64Index([    0,     1,     2,     3,     4,     5,     6,     7,     8,\n",
      "                9,\n",
      "            ...\n",
      "            41178, 41179, 41180, 41181, 41182, 41183, 41184, 41185, 41186,\n",
      "            41187],\n",
      "           dtype='int64', length=41176)\n",
      "5228.1    16228\n",
      "5099.1     8532\n",
      "5191.0     7762\n",
      "5195.8     3682\n",
      "5076.2     1662\n",
      "5017.5     1070\n",
      "4991.6      773\n",
      "5008.7      650\n",
      "4963.6      635\n",
      "5023.5      172\n",
      "5176.3       10\n",
      "Name: nr.employed, dtype: int64\n"
     ]
    }
   ],
   "source": [
    "for i in num_cols:\n",
    "    print(df[i].index)\n",
    "    print(df[i].value_counts())\n",
    "    "
   ]
  },
  {
   "cell_type": "markdown",
   "id": "43e2ce2c",
   "metadata": {},
   "source": [
    " inference: there no categorical type column in numerical columns"
   ]
  },
  {
   "cell_type": "markdown",
   "id": "6e2e5916",
   "metadata": {},
   "source": [
    "###  primary analysis of several categorical features\n"
   ]
  },
  {
   "cell_type": "code",
   "execution_count": 12,
   "id": "cdc35432",
   "metadata": {},
   "outputs": [
    {
     "data": {
      "image/png": "[encoded data removed]",
      "text/plain": [
       "<Figure size 432x288 with 1 Axes>"
      ]
     },
     "metadata": {
      "needs_background": "light"
     },
     "output_type": "display_data"
    },
    {
     "data": {
      "image/png": "[encoded data removed]",
      "text/plain": [
       "<Figure size 432x288 with 1 Axes>"
      ]
     },
     "metadata": {
      "needs_background": "light"
     },
     "output_type": "display_data"
    },
    {
     "data": {
      "image/png": "[encoded data removed]",
      "text/plain": [
       "<Figure size 432x288 with 1 Axes>"
      ]
     },
     "metadata": {
      "needs_background": "light"
     },
     "output_type": "display_data"
    },
    {
     "data": {
      "image/png": "[encoded data removed]",
      "text/plain": [
       "<Figure size 432x288 with 1 Axes>"
      ]
     },
     "metadata": {
      "needs_background": "light"
     },
     "output_type": "display_data"
    },
    {
     "data": {
      "image/png": "[encoded data removed]",
      "text/plain": [
       "<Figure size 432x288 with 1 Axes>"
      ]
     },
     "metadata": {
      "needs_background": "light"
     },
     "output_type": "display_data"
    },
    {
     "data": {
      "image/png": "[encoded data removed]",
      "text/plain": [
       "<Figure size 432x288 with 1 Axes>"
      ]
     },
     "metadata": {
      "needs_background": "light"
     },
     "output_type": "display_data"
    },
    {
     "data": {
      "image/png": "[encoded data removed]",
      "text/plain": [
       "<Figure size 432x288 with 1 Axes>"
      ]
     },
     "metadata": {
      "needs_background": "light"
     },
     "output_type": "display_data"
    },
    {
     "data": {
      "image/png": "[encoded data removed]",
      "text/plain": [
       "<Figure size 432x288 with 1 Axes>"
      ]
     },
     "metadata": {
      "needs_background": "light"
     },
     "output_type": "display_data"
    },
    {
     "data": {
      "image/png": "[encoded data removed]",
      "text/plain": [
       "<Figure size 432x288 with 1 Axes>"
      ]
     },
     "metadata": {
      "needs_background": "light"
     },
     "output_type": "display_data"
    },
    {
     "data": {
      "image/png": "[encoded data removed]",
      "text/plain": [
       "<Figure size 432x288 with 1 Axes>"
      ]
     },
     "metadata": {
      "needs_background": "light"
     },
     "output_type": "display_data"
    },
    {
     "data": {
      "image/png": "[encoded data removed]",
      "text/plain": [
       "<Figure size 432x288 with 1 Axes>"
      ]
     },
     "metadata": {
      "needs_background": "light"
     },
     "output_type": "display_data"
    }
   ],
   "source": [
    "for i in cat_cols:\n",
    "    sns.countplot(x=df['y'],hue=df[i])\n",
    "    plt.title(i)\n",
    "    plt.show()"
   ]
  },
  {
   "cell_type": "markdown",
   "id": "4575a795",
   "metadata": {},
   "source": [
    "#### inference:\n",
    "    \n",
    "    job: category from whom most people subscribed-> admin and category from whom most people who did not subscribed->admin  \n",
    "   \n",
    "    marital: category from whom most people subscribed-> married and category from whom most people who did not subscribed->married  \n",
    "    \n",
    "    education:category from whom most people subscribed->illiterate and category from whom most people who did not subscribed->illiterate  \n",
    "    \n",
    "    default:category from whom most people subscribed-> non-defaulters and category from whom most people who did not subscribed->non defaulters  \n",
    "    \n",
    "    housing:category from whom most people subscribed-> having house loan and category from whom most people who did not subscribed->having house loan  \n",
    "    \n",
    "    loan:category from whom most people subscribed-> having no loan and category from whom most people who did not subscribed-> having no loan  \n",
    "    \n",
    "    contact: category from whom most people subscribed-> cellular user and category from whom most people who did not subscribed->cellular user  \n",
    "    \n",
    "    month: people who have may as their last contact month subscibred the most from people of all other month and people who have may as their last contact month are also the one in majority who have not subscribed the most  \n",
    "    \n",
    "    day_of_week: people whom we last contacted on monday are the one who didn't subscribed the most and people whom we last contacted on thursday are the one who did subscribed the most    \n",
    "    \n",
    "    poutcome: as per previous market analysis people who subscribed the most are nonexistent and people who didnt subscribed are also nonexistent  "
   ]
  },
  {
   "cell_type": "code",
   "execution_count": 13,
   "id": "506da295",
   "metadata": {},
   "outputs": [
    {
     "data": {
      "text/plain": [
       "university.degree      12164\n",
       "high.school             9512\n",
       "basic.9y                6045\n",
       "professional.course     5240\n",
       "basic.4y                4176\n",
       "basic.6y                2291\n",
       "unknown                 1730\n",
       "illiterate                18\n",
       "Name: education, dtype: int64"
      ]
     },
     "execution_count": 13,
     "metadata": {},
     "output_type": "execute_result"
    }
   ],
   "source": [
    "df['education'].value_counts()"
   ]
  },
  {
   "cell_type": "code",
   "execution_count": 14,
   "id": "8bc237ed",
   "metadata": {},
   "outputs": [],
   "source": [
    "# here in education we get 3 similar category(basic.4y,basic.9y,basic.6y) we can club them \n",
    "# to reduce our different types in this column"
   ]
  },
  {
   "cell_type": "code",
   "execution_count": 15,
   "id": "b48dcf73",
   "metadata": {},
   "outputs": [
    {
     "data": {
      "text/plain": [
       "university.degree      17060\n",
       "high.school            14059\n",
       "professional.course     7482\n",
       "unknown                 2556\n",
       "illiterate                18\n",
       "basic.4y                   1\n",
       "Name: education, dtype: int64"
      ]
     },
     "execution_count": 15,
     "metadata": {},
     "output_type": "execute_result"
    }
   ],
   "source": [
    "df['education'] = df['education'].replace(['basic.9y','basic.4y','basic.6y','basic'])\n",
    "df['education'].value_counts()"
   ]
  },
  {
   "cell_type": "markdown",
   "id": "9f665bed",
   "metadata": {},
   "source": [
    "### Checking/handling outliers"
   ]
  },
  {
   "cell_type": "code",
   "execution_count": 16,
   "id": "38a2c14a",
   "metadata": {},
   "outputs": [
    {
     "data": {
      "image/png": "[encoded data removed]",
      "text/plain": [
       "<Figure size 432x288 with 1 Axes>"
      ]
     },
     "metadata": {
      "needs_background": "light"
     },
     "output_type": "display_data"
    },
    {
     "data": {
      "image/png": "[encoded data removed]",
      "text/plain": [
       "<Figure size 432x288 with 1 Axes>"
      ]
     },
     "metadata": {
      "needs_background": "light"
     },
     "output_type": "display_data"
    },
    {
     "data": {
      "image/png": "[encoded data removed]",
      "text/plain": [
       "<Figure size 432x288 with 1 Axes>"
      ]
     },
     "metadata": {
      "needs_background": "light"
     },
     "output_type": "display_data"
    },
    {
     "data": {
      "image/png": "[encoded data removed]",
      "text/plain": [
       "<Figure size 432x288 with 1 Axes>"
      ]
     },
     "metadata": {
      "needs_background": "light"
     },
     "output_type": "display_data"
    },
    {
     "data": {
      "image/png": "[encoded data removed]",
      "text/plain": [
       "<Figure size 432x288 with 1 Axes>"
      ]
     },
     "metadata": {
      "needs_background": "light"
     },
     "output_type": "display_data"
    },
    {
     "data": {
      "image/png": "[encoded data removed]",
      "text/plain": [
       "<Figure size 432x288 with 1 Axes>"
      ]
     },
     "metadata": {
      "needs_background": "light"
     },
     "output_type": "display_data"
    },
    {
     "data": {
      "image/png": "[encoded data removed]",
      "text/plain": [
       "<Figure size 432x288 with 1 Axes>"
      ]
     },
     "metadata": {
      "needs_background": "light"
     },
     "output_type": "display_data"
    },
    {
     "data": {
      "image/png": "[encoded data removed]",
      "text/plain": [
       "<Figure size 432x288 with 1 Axes>"
      ]
     },
     "metadata": {
      "needs_background": "light"
     },
     "output_type": "display_data"
    },
    {
     "data": {
      "image/png": "[encoded data removed]",
      "text/plain": [
       "<Figure size 432x288 with 1 Axes>"
      ]
     },
     "metadata": {
      "needs_background": "light"
     },
     "output_type": "display_data"
    },
    {
     "data": {
      "image/png": "[encoded data removed]",
      "text/plain": [
       "<Figure size 432x288 with 1 Axes>"
      ]
     },
     "metadata": {
      "needs_background": "light"
     },
     "output_type": "display_data"
    }
   ],
   "source": [
    "for i in num_cols: # for finding outliers \n",
    "    sns.boxplot(x=df[i])\n",
    "    plt.title(i)\n",
    "    plt.show()"
   ]
  },
  {
   "cell_type": "markdown",
   "id": "7988221b",
   "metadata": {},
   "source": [
    "#### inference: age , duration,campaign,previous have outliers in large amount and pdays,cons.conf.idx have minimal outliers"
   ]
  },
  {
   "cell_type": "code",
   "execution_count": 17,
   "id": "73cc2fe8",
   "metadata": {},
   "outputs": [
    {
     "data": {
      "text/html": [
       "<div>\n",
       "<style scoped>\n",
       "    .dataframe tbody tr th:only-of-type {\n",
       "        vertical-align: middle;\n",
       "    }\n",
       "\n",
       "    .dataframe tbody tr th {\n",
       "        vertical-align: top;\n",
       "    }\n",
       "\n",
       "    .dataframe thead th {\n",
       "        text-align: right;\n",
       "    }\n",
       "</style>\n",
       "<table border=\"1\" class=\"dataframe\">\n",
       "  <thead>\n",
       "    <tr style=\"text-align: right;\">\n",
       "      <th></th>\n",
       "      <th>count</th>\n",
       "      <th>mean</th>\n",
       "      <th>std</th>\n",
       "      <th>min</th>\n",
       "      <th>1%</th>\n",
       "      <th>2%</th>\n",
       "      <th>3%</th>\n",
       "      <th>50%</th>\n",
       "      <th>97%</th>\n",
       "      <th>98%</th>\n",
       "      <th>99%</th>\n",
       "      <th>max</th>\n",
       "    </tr>\n",
       "  </thead>\n",
       "  <tbody>\n",
       "    <tr>\n",
       "      <th>age</th>\n",
       "      <td>41176.0</td>\n",
       "      <td>40.023800</td>\n",
       "      <td>10.420680</td>\n",
       "      <td>17.000</td>\n",
       "      <td>23.000</td>\n",
       "      <td>24.000</td>\n",
       "      <td>25.000</td>\n",
       "      <td>38.000</td>\n",
       "      <td>59.000</td>\n",
       "      <td>62.000</td>\n",
       "      <td>71.000</td>\n",
       "      <td>98.000</td>\n",
       "    </tr>\n",
       "    <tr>\n",
       "      <th>duration</th>\n",
       "      <td>41176.0</td>\n",
       "      <td>258.315815</td>\n",
       "      <td>259.305321</td>\n",
       "      <td>0.000</td>\n",
       "      <td>11.000</td>\n",
       "      <td>17.000</td>\n",
       "      <td>23.000</td>\n",
       "      <td>180.000</td>\n",
       "      <td>911.000</td>\n",
       "      <td>1052.500</td>\n",
       "      <td>1271.250</td>\n",
       "      <td>4918.000</td>\n",
       "    </tr>\n",
       "    <tr>\n",
       "      <th>campaign</th>\n",
       "      <td>41176.0</td>\n",
       "      <td>2.567879</td>\n",
       "      <td>2.770318</td>\n",
       "      <td>1.000</td>\n",
       "      <td>1.000</td>\n",
       "      <td>1.000</td>\n",
       "      <td>1.000</td>\n",
       "      <td>2.000</td>\n",
       "      <td>9.000</td>\n",
       "      <td>11.000</td>\n",
       "      <td>14.000</td>\n",
       "      <td>56.000</td>\n",
       "    </tr>\n",
       "    <tr>\n",
       "      <th>pdays</th>\n",
       "      <td>41176.0</td>\n",
       "      <td>962.464810</td>\n",
       "      <td>186.937102</td>\n",
       "      <td>0.000</td>\n",
       "      <td>3.000</td>\n",
       "      <td>6.000</td>\n",
       "      <td>9.000</td>\n",
       "      <td>999.000</td>\n",
       "      <td>999.000</td>\n",
       "      <td>999.000</td>\n",
       "      <td>999.000</td>\n",
       "      <td>999.000</td>\n",
       "    </tr>\n",
       "    <tr>\n",
       "      <th>previous</th>\n",
       "      <td>41176.0</td>\n",
       "      <td>0.173013</td>\n",
       "      <td>0.494964</td>\n",
       "      <td>0.000</td>\n",
       "      <td>0.000</td>\n",
       "      <td>0.000</td>\n",
       "      <td>0.000</td>\n",
       "      <td>0.000</td>\n",
       "      <td>1.000</td>\n",
       "      <td>2.000</td>\n",
       "      <td>2.000</td>\n",
       "      <td>7.000</td>\n",
       "    </tr>\n",
       "    <tr>\n",
       "      <th>emp.var.rate</th>\n",
       "      <td>41176.0</td>\n",
       "      <td>0.081922</td>\n",
       "      <td>1.570883</td>\n",
       "      <td>-3.400</td>\n",
       "      <td>-3.400</td>\n",
       "      <td>-3.400</td>\n",
       "      <td>-3.000</td>\n",
       "      <td>1.100</td>\n",
       "      <td>1.400</td>\n",
       "      <td>1.400</td>\n",
       "      <td>1.400</td>\n",
       "      <td>1.400</td>\n",
       "    </tr>\n",
       "    <tr>\n",
       "      <th>cons.price.idx</th>\n",
       "      <td>41176.0</td>\n",
       "      <td>93.575720</td>\n",
       "      <td>0.578839</td>\n",
       "      <td>92.201</td>\n",
       "      <td>92.201</td>\n",
       "      <td>92.379</td>\n",
       "      <td>92.431</td>\n",
       "      <td>93.749</td>\n",
       "      <td>94.465</td>\n",
       "      <td>94.465</td>\n",
       "      <td>94.465</td>\n",
       "      <td>94.767</td>\n",
       "    </tr>\n",
       "    <tr>\n",
       "      <th>cons.conf.idx</th>\n",
       "      <td>41176.0</td>\n",
       "      <td>-40.502863</td>\n",
       "      <td>4.627860</td>\n",
       "      <td>-50.800</td>\n",
       "      <td>-49.500</td>\n",
       "      <td>-47.100</td>\n",
       "      <td>-47.100</td>\n",
       "      <td>-41.800</td>\n",
       "      <td>-31.400</td>\n",
       "      <td>-30.100</td>\n",
       "      <td>-26.900</td>\n",
       "      <td>-26.900</td>\n",
       "    </tr>\n",
       "    <tr>\n",
       "      <th>euribor3m</th>\n",
       "      <td>41176.0</td>\n",
       "      <td>3.621293</td>\n",
       "      <td>1.734437</td>\n",
       "      <td>0.634</td>\n",
       "      <td>0.658</td>\n",
       "      <td>0.714</td>\n",
       "      <td>0.720</td>\n",
       "      <td>4.857</td>\n",
       "      <td>4.967</td>\n",
       "      <td>4.968</td>\n",
       "      <td>4.968</td>\n",
       "      <td>5.045</td>\n",
       "    </tr>\n",
       "    <tr>\n",
       "      <th>nr.employed</th>\n",
       "      <td>41176.0</td>\n",
       "      <td>5167.034870</td>\n",
       "      <td>72.251364</td>\n",
       "      <td>4963.600</td>\n",
       "      <td>4963.600</td>\n",
       "      <td>4991.600</td>\n",
       "      <td>4991.600</td>\n",
       "      <td>5191.000</td>\n",
       "      <td>5228.100</td>\n",
       "      <td>5228.100</td>\n",
       "      <td>5228.100</td>\n",
       "      <td>5228.100</td>\n",
       "    </tr>\n",
       "  </tbody>\n",
       "</table>\n",
       "</div>"
      ],
      "text/plain": [
       "                  count         mean         std       min        1%  \\\n",
       "age             41176.0    40.023800   10.420680    17.000    23.000   \n",
       "duration        41176.0   258.315815  259.305321     0.000    11.000   \n",
       "campaign        41176.0     2.567879    2.770318     1.000     1.000   \n",
       "pdays           41176.0   962.464810  186.937102     0.000     3.000   \n",
       "previous        41176.0     0.173013    0.494964     0.000     0.000   \n",
       "emp.var.rate    41176.0     0.081922    1.570883    -3.400    -3.400   \n",
       "cons.price.idx  41176.0    93.575720    0.578839    92.201    92.201   \n",
       "cons.conf.idx   41176.0   -40.502863    4.627860   -50.800   -49.500   \n",
       "euribor3m       41176.0     3.621293    1.734437     0.634     0.658   \n",
       "nr.employed     41176.0  5167.034870   72.251364  4963.600  4963.600   \n",
       "\n",
       "                      2%        3%       50%       97%       98%       99%  \\\n",
       "age               24.000    25.000    38.000    59.000    62.000    71.000   \n",
       "duration          17.000    23.000   180.000   911.000  1052.500  1271.250   \n",
       "campaign           1.000     1.000     2.000     9.000    11.000    14.000   \n",
       "pdays              6.000     9.000   999.000   999.000   999.000   999.000   \n",
       "previous           0.000     0.000     0.000     1.000     2.000     2.000   \n",
       "emp.var.rate      -3.400    -3.000     1.100     1.400     1.400     1.400   \n",
       "cons.price.idx    92.379    92.431    93.749    94.465    94.465    94.465   \n",
       "cons.conf.idx    -47.100   -47.100   -41.800   -31.400   -30.100   -26.900   \n",
       "euribor3m          0.714     0.720     4.857     4.967     4.968     4.968   \n",
       "nr.employed     4991.600  4991.600  5191.000  5228.100  5228.100  5228.100   \n",
       "\n",
       "                     max  \n",
       "age               98.000  \n",
       "duration        4918.000  \n",
       "campaign          56.000  \n",
       "pdays            999.000  \n",
       "previous           7.000  \n",
       "emp.var.rate       1.400  \n",
       "cons.price.idx    94.767  \n",
       "cons.conf.idx    -26.900  \n",
       "euribor3m          5.045  \n",
       "nr.employed     5228.100  "
      ]
     },
     "execution_count": 17,
     "metadata": {},
     "output_type": "execute_result"
    }
   ],
   "source": [
    "df.describe(percentiles=[0.01,0.02,0.03,0.97,0.98,0.99]).T"
   ]
  },
  {
   "cell_type": "markdown",
   "id": "f44040db",
   "metadata": {},
   "source": [
    "outliers found in age(min,max) ,duration,campaign,previous,nr_employed(min) and from graph we have found outliers in columns other these columns so its better to apply outlier treatement on them also"
   ]
  },
  {
   "cell_type": "code",
   "execution_count": 18,
   "id": "4a06a6e2",
   "metadata": {},
   "outputs": [],
   "source": [
    "def outliers_handle(x):\n",
    "    x=x.clip(upper=x.quantile(0.99))\n",
    "    x=x.clip(lower=x.quantile(0.01))\n",
    "    return x"
   ]
  },
  {
   "cell_type": "code",
   "execution_count": 19,
   "id": "e71e2493",
   "metadata": {},
   "outputs": [],
   "source": [
    "outliers_cols = ['age','duration','campaign','previous','nr.employed', 'pdays','cons.conf.idx']\n",
    "\n",
    "df[outliers_cols] = df[outliers_cols].apply(outliers_handle)"
   ]
  },
  {
   "cell_type": "markdown",
   "id": "dd41af86",
   "metadata": {},
   "source": [
    "#### Checing for correlation"
   ]
  },
  {
   "cell_type": "code",
   "execution_count": 20,
   "id": "7129188a",
   "metadata": {},
   "outputs": [
    {
     "data": {
      "text/html": [
       "<div>\n",
       "<style scoped>\n",
       "    .dataframe tbody tr th:only-of-type {\n",
       "        vertical-align: middle;\n",
       "    }\n",
       "\n",
       "    .dataframe tbody tr th {\n",
       "        vertical-align: top;\n",
       "    }\n",
       "\n",
       "    .dataframe thead th {\n",
       "        text-align: right;\n",
       "    }\n",
       "</style>\n",
       "<table border=\"1\" class=\"dataframe\">\n",
       "  <thead>\n",
       "    <tr style=\"text-align: right;\">\n",
       "      <th></th>\n",
       "      <th>age</th>\n",
       "      <th>duration</th>\n",
       "      <th>campaign</th>\n",
       "      <th>pdays</th>\n",
       "      <th>previous</th>\n",
       "      <th>emp.var.rate</th>\n",
       "      <th>cons.price.idx</th>\n",
       "      <th>cons.conf.idx</th>\n",
       "      <th>euribor3m</th>\n",
       "      <th>nr.employed</th>\n",
       "    </tr>\n",
       "  </thead>\n",
       "  <tbody>\n",
       "    <tr>\n",
       "      <th>age</th>\n",
       "      <td>1.000000</td>\n",
       "      <td>-0.000761</td>\n",
       "      <td>0.005342</td>\n",
       "      <td>-0.029646</td>\n",
       "      <td>0.018539</td>\n",
       "      <td>0.007575</td>\n",
       "      <td>0.004531</td>\n",
       "      <td>0.128480</td>\n",
       "      <td>0.019279</td>\n",
       "      <td>-0.007821</td>\n",
       "    </tr>\n",
       "    <tr>\n",
       "      <th>duration</th>\n",
       "      <td>-0.000761</td>\n",
       "      <td>1.000000</td>\n",
       "      <td>-0.074140</td>\n",
       "      <td>-0.052480</td>\n",
       "      <td>0.023255</td>\n",
       "      <td>-0.031400</td>\n",
       "      <td>0.004875</td>\n",
       "      <td>-0.008990</td>\n",
       "      <td>-0.037546</td>\n",
       "      <td>-0.050009</td>\n",
       "    </tr>\n",
       "    <tr>\n",
       "      <th>campaign</th>\n",
       "      <td>0.005342</td>\n",
       "      <td>-0.074140</td>\n",
       "      <td>1.000000</td>\n",
       "      <td>0.057582</td>\n",
       "      <td>-0.090222</td>\n",
       "      <td>0.158474</td>\n",
       "      <td>0.128326</td>\n",
       "      <td>-0.012828</td>\n",
       "      <td>0.141089</td>\n",
       "      <td>0.151729</td>\n",
       "    </tr>\n",
       "    <tr>\n",
       "      <th>pdays</th>\n",
       "      <td>-0.029646</td>\n",
       "      <td>-0.052480</td>\n",
       "      <td>0.057582</td>\n",
       "      <td>1.000000</td>\n",
       "      <td>-0.571331</td>\n",
       "      <td>0.271066</td>\n",
       "      <td>0.078917</td>\n",
       "      <td>-0.093031</td>\n",
       "      <td>0.296950</td>\n",
       "      <td>0.372668</td>\n",
       "    </tr>\n",
       "    <tr>\n",
       "      <th>previous</th>\n",
       "      <td>0.018539</td>\n",
       "      <td>0.023255</td>\n",
       "      <td>-0.090222</td>\n",
       "      <td>-0.571331</td>\n",
       "      <td>1.000000</td>\n",
       "      <td>-0.453136</td>\n",
       "      <td>-0.248271</td>\n",
       "      <td>-0.059083</td>\n",
       "      <td>-0.480342</td>\n",
       "      <td>-0.513392</td>\n",
       "    </tr>\n",
       "    <tr>\n",
       "      <th>emp.var.rate</th>\n",
       "      <td>0.007575</td>\n",
       "      <td>-0.031400</td>\n",
       "      <td>0.158474</td>\n",
       "      <td>0.271066</td>\n",
       "      <td>-0.453136</td>\n",
       "      <td>1.000000</td>\n",
       "      <td>0.775293</td>\n",
       "      <td>0.195359</td>\n",
       "      <td>0.972244</td>\n",
       "      <td>0.906949</td>\n",
       "    </tr>\n",
       "    <tr>\n",
       "      <th>cons.price.idx</th>\n",
       "      <td>0.004531</td>\n",
       "      <td>0.004875</td>\n",
       "      <td>0.128326</td>\n",
       "      <td>0.078917</td>\n",
       "      <td>-0.248271</td>\n",
       "      <td>0.775293</td>\n",
       "      <td>1.000000</td>\n",
       "      <td>0.060230</td>\n",
       "      <td>0.688180</td>\n",
       "      <td>0.521945</td>\n",
       "    </tr>\n",
       "    <tr>\n",
       "      <th>cons.conf.idx</th>\n",
       "      <td>0.128480</td>\n",
       "      <td>-0.008990</td>\n",
       "      <td>-0.012828</td>\n",
       "      <td>-0.093031</td>\n",
       "      <td>-0.059083</td>\n",
       "      <td>0.195359</td>\n",
       "      <td>0.060230</td>\n",
       "      <td>1.000000</td>\n",
       "      <td>0.276638</td>\n",
       "      <td>0.097848</td>\n",
       "    </tr>\n",
       "    <tr>\n",
       "      <th>euribor3m</th>\n",
       "      <td>0.019279</td>\n",
       "      <td>-0.037546</td>\n",
       "      <td>0.141089</td>\n",
       "      <td>0.296950</td>\n",
       "      <td>-0.480342</td>\n",
       "      <td>0.972244</td>\n",
       "      <td>0.688180</td>\n",
       "      <td>0.276638</td>\n",
       "      <td>1.000000</td>\n",
       "      <td>0.945146</td>\n",
       "    </tr>\n",
       "    <tr>\n",
       "      <th>nr.employed</th>\n",
       "      <td>-0.007821</td>\n",
       "      <td>-0.050009</td>\n",
       "      <td>0.151729</td>\n",
       "      <td>0.372668</td>\n",
       "      <td>-0.513392</td>\n",
       "      <td>0.906949</td>\n",
       "      <td>0.521945</td>\n",
       "      <td>0.097848</td>\n",
       "      <td>0.945146</td>\n",
       "      <td>1.000000</td>\n",
       "    </tr>\n",
       "  </tbody>\n",
       "</table>\n",
       "</div>"
      ],
      "text/plain": [
       "                     age  duration  campaign     pdays  previous  \\\n",
       "age             1.000000 -0.000761  0.005342 -0.029646  0.018539   \n",
       "duration       -0.000761  1.000000 -0.074140 -0.052480  0.023255   \n",
       "campaign        0.005342 -0.074140  1.000000  0.057582 -0.090222   \n",
       "pdays          -0.029646 -0.052480  0.057582  1.000000 -0.571331   \n",
       "previous        0.018539  0.023255 -0.090222 -0.571331  1.000000   \n",
       "emp.var.rate    0.007575 -0.031400  0.158474  0.271066 -0.453136   \n",
       "cons.price.idx  0.004531  0.004875  0.128326  0.078917 -0.248271   \n",
       "cons.conf.idx   0.128480 -0.008990 -0.012828 -0.093031 -0.059083   \n",
       "euribor3m       0.019279 -0.037546  0.141089  0.296950 -0.480342   \n",
       "nr.employed    -0.007821 -0.050009  0.151729  0.372668 -0.513392   \n",
       "\n",
       "                emp.var.rate  cons.price.idx  cons.conf.idx  euribor3m  \\\n",
       "age                 0.007575        0.004531       0.128480   0.019279   \n",
       "duration           -0.031400        0.004875      -0.008990  -0.037546   \n",
       "campaign            0.158474        0.128326      -0.012828   0.141089   \n",
       "pdays               0.271066        0.078917      -0.093031   0.296950   \n",
       "previous           -0.453136       -0.248271      -0.059083  -0.480342   \n",
       "emp.var.rate        1.000000        0.775293       0.195359   0.972244   \n",
       "cons.price.idx      0.775293        1.000000       0.060230   0.688180   \n",
       "cons.conf.idx       0.195359        0.060230       1.000000   0.276638   \n",
       "euribor3m           0.972244        0.688180       0.276638   1.000000   \n",
       "nr.employed         0.906949        0.521945       0.097848   0.945146   \n",
       "\n",
       "                nr.employed  \n",
       "age               -0.007821  \n",
       "duration          -0.050009  \n",
       "campaign           0.151729  \n",
       "pdays              0.372668  \n",
       "previous          -0.513392  \n",
       "emp.var.rate       0.906949  \n",
       "cons.price.idx     0.521945  \n",
       "cons.conf.idx      0.097848  \n",
       "euribor3m          0.945146  \n",
       "nr.employed        1.000000  "
      ]
     },
     "execution_count": 20,
     "metadata": {},
     "output_type": "execute_result"
    }
   ],
   "source": [
    "corr =df.corr()\n",
    "corr"
   ]
  },
  {
   "cell_type": "code",
   "execution_count": 21,
   "id": "a3c5422f",
   "metadata": {},
   "outputs": [
    {
     "data": {
      "image/png": "[encoded data removed]",
      "text/plain": [
       "<Figure size 1008x936 with 2 Axes>"
      ]
     },
     "metadata": {
      "needs_background": "light"
     },
     "output_type": "display_data"
    }
   ],
   "source": [
    "plt.figure(figsize=(14,13))\n",
    "sns.heatmap(corr,annot=True,cmap='coolwarm')\n",
    "plt.show()"
   ]
  },
  {
   "cell_type": "markdown",
   "id": "aa9f6a3c",
   "metadata": {},
   "source": [
    "we can exclude nr_employed , euribor3m, emp.var.rate but for now we will check feature importance then decide which column will be excluded"
   ]
  },
  {
   "cell_type": "code",
   "execution_count": 22,
   "id": "c299fd43",
   "metadata": {},
   "outputs": [
    {
     "data": {
      "text/html": [
       "<div>\n",
       "<style scoped>\n",
       "    .dataframe tbody tr th:only-of-type {\n",
       "        vertical-align: middle;\n",
       "    }\n",
       "\n",
       "    .dataframe tbody tr th {\n",
       "        vertical-align: top;\n",
       "    }\n",
       "\n",
       "    .dataframe thead th {\n",
       "        text-align: right;\n",
       "    }\n",
       "</style>\n",
       "<table border=\"1\" class=\"dataframe\">\n",
       "  <thead>\n",
       "    <tr style=\"text-align: right;\">\n",
       "      <th></th>\n",
       "      <th>age</th>\n",
       "      <th>job</th>\n",
       "      <th>marital</th>\n",
       "      <th>education</th>\n",
       "      <th>default</th>\n",
       "      <th>housing</th>\n",
       "      <th>loan</th>\n",
       "      <th>contact</th>\n",
       "      <th>month</th>\n",
       "      <th>day_of_week</th>\n",
       "      <th>...</th>\n",
       "      <th>campaign</th>\n",
       "      <th>pdays</th>\n",
       "      <th>previous</th>\n",
       "      <th>poutcome</th>\n",
       "      <th>emp.var.rate</th>\n",
       "      <th>cons.price.idx</th>\n",
       "      <th>cons.conf.idx</th>\n",
       "      <th>euribor3m</th>\n",
       "      <th>nr.employed</th>\n",
       "      <th>y</th>\n",
       "    </tr>\n",
       "  </thead>\n",
       "  <tbody>\n",
       "    <tr>\n",
       "      <th>0</th>\n",
       "      <td>56.0</td>\n",
       "      <td>housemaid</td>\n",
       "      <td>married</td>\n",
       "      <td>basic.4y</td>\n",
       "      <td>no</td>\n",
       "      <td>no</td>\n",
       "      <td>no</td>\n",
       "      <td>telephone</td>\n",
       "      <td>may</td>\n",
       "      <td>mon</td>\n",
       "      <td>...</td>\n",
       "      <td>1.0</td>\n",
       "      <td>999.0</td>\n",
       "      <td>0.0</td>\n",
       "      <td>nonexistent</td>\n",
       "      <td>1.1</td>\n",
       "      <td>93.994</td>\n",
       "      <td>-36.4</td>\n",
       "      <td>4.857</td>\n",
       "      <td>5191.0</td>\n",
       "      <td>no</td>\n",
       "    </tr>\n",
       "    <tr>\n",
       "      <th>1</th>\n",
       "      <td>57.0</td>\n",
       "      <td>services</td>\n",
       "      <td>married</td>\n",
       "      <td>high.school</td>\n",
       "      <td>unknown</td>\n",
       "      <td>no</td>\n",
       "      <td>no</td>\n",
       "      <td>telephone</td>\n",
       "      <td>may</td>\n",
       "      <td>mon</td>\n",
       "      <td>...</td>\n",
       "      <td>1.0</td>\n",
       "      <td>999.0</td>\n",
       "      <td>0.0</td>\n",
       "      <td>nonexistent</td>\n",
       "      <td>1.1</td>\n",
       "      <td>93.994</td>\n",
       "      <td>-36.4</td>\n",
       "      <td>4.857</td>\n",
       "      <td>5191.0</td>\n",
       "      <td>no</td>\n",
       "    </tr>\n",
       "    <tr>\n",
       "      <th>2</th>\n",
       "      <td>37.0</td>\n",
       "      <td>services</td>\n",
       "      <td>married</td>\n",
       "      <td>high.school</td>\n",
       "      <td>no</td>\n",
       "      <td>yes</td>\n",
       "      <td>no</td>\n",
       "      <td>telephone</td>\n",
       "      <td>may</td>\n",
       "      <td>mon</td>\n",
       "      <td>...</td>\n",
       "      <td>1.0</td>\n",
       "      <td>999.0</td>\n",
       "      <td>0.0</td>\n",
       "      <td>nonexistent</td>\n",
       "      <td>1.1</td>\n",
       "      <td>93.994</td>\n",
       "      <td>-36.4</td>\n",
       "      <td>4.857</td>\n",
       "      <td>5191.0</td>\n",
       "      <td>no</td>\n",
       "    </tr>\n",
       "    <tr>\n",
       "      <th>3</th>\n",
       "      <td>40.0</td>\n",
       "      <td>admin.</td>\n",
       "      <td>married</td>\n",
       "      <td>high.school</td>\n",
       "      <td>no</td>\n",
       "      <td>no</td>\n",
       "      <td>no</td>\n",
       "      <td>telephone</td>\n",
       "      <td>may</td>\n",
       "      <td>mon</td>\n",
       "      <td>...</td>\n",
       "      <td>1.0</td>\n",
       "      <td>999.0</td>\n",
       "      <td>0.0</td>\n",
       "      <td>nonexistent</td>\n",
       "      <td>1.1</td>\n",
       "      <td>93.994</td>\n",
       "      <td>-36.4</td>\n",
       "      <td>4.857</td>\n",
       "      <td>5191.0</td>\n",
       "      <td>no</td>\n",
       "    </tr>\n",
       "    <tr>\n",
       "      <th>4</th>\n",
       "      <td>56.0</td>\n",
       "      <td>services</td>\n",
       "      <td>married</td>\n",
       "      <td>high.school</td>\n",
       "      <td>no</td>\n",
       "      <td>no</td>\n",
       "      <td>yes</td>\n",
       "      <td>telephone</td>\n",
       "      <td>may</td>\n",
       "      <td>mon</td>\n",
       "      <td>...</td>\n",
       "      <td>1.0</td>\n",
       "      <td>999.0</td>\n",
       "      <td>0.0</td>\n",
       "      <td>nonexistent</td>\n",
       "      <td>1.1</td>\n",
       "      <td>93.994</td>\n",
       "      <td>-36.4</td>\n",
       "      <td>4.857</td>\n",
       "      <td>5191.0</td>\n",
       "      <td>no</td>\n",
       "    </tr>\n",
       "  </tbody>\n",
       "</table>\n",
       "<p>5 rows × 21 columns</p>\n",
       "</div>"
      ],
      "text/plain": [
       "    age        job  marital    education  default housing loan    contact  \\\n",
       "0  56.0  housemaid  married     basic.4y       no      no   no  telephone   \n",
       "1  57.0   services  married  high.school  unknown      no   no  telephone   \n",
       "2  37.0   services  married  high.school       no     yes   no  telephone   \n",
       "3  40.0     admin.  married  high.school       no      no   no  telephone   \n",
       "4  56.0   services  married  high.school       no      no  yes  telephone   \n",
       "\n",
       "  month day_of_week  ...  campaign  pdays  previous     poutcome emp.var.rate  \\\n",
       "0   may         mon  ...       1.0  999.0       0.0  nonexistent          1.1   \n",
       "1   may         mon  ...       1.0  999.0       0.0  nonexistent          1.1   \n",
       "2   may         mon  ...       1.0  999.0       0.0  nonexistent          1.1   \n",
       "3   may         mon  ...       1.0  999.0       0.0  nonexistent          1.1   \n",
       "4   may         mon  ...       1.0  999.0       0.0  nonexistent          1.1   \n",
       "\n",
       "   cons.price.idx  cons.conf.idx  euribor3m  nr.employed   y  \n",
       "0          93.994          -36.4      4.857       5191.0  no  \n",
       "1          93.994          -36.4      4.857       5191.0  no  \n",
       "2          93.994          -36.4      4.857       5191.0  no  \n",
       "3          93.994          -36.4      4.857       5191.0  no  \n",
       "4          93.994          -36.4      4.857       5191.0  no  \n",
       "\n",
       "[5 rows x 21 columns]"
      ]
     },
     "execution_count": 22,
     "metadata": {},
     "output_type": "execute_result"
    }
   ],
   "source": [
    "df1 = df.copy()\n",
    "df1.head()"
   ]
  },
  {
   "cell_type": "code",
   "execution_count": 23,
   "id": "bf47b27f",
   "metadata": {},
   "outputs": [],
   "source": [
    "from sklearn.preprocessing import LabelEncoder"
   ]
  },
  {
   "cell_type": "code",
   "execution_count": 24,
   "id": "39d2687f",
   "metadata": {},
   "outputs": [],
   "source": [
    "lb = LabelEncoder()\n",
    "for i in cat_cols:\n",
    "    df1[i] = lb.fit_transform(df1[i])"
   ]
  },
  {
   "cell_type": "code",
   "execution_count": 25,
   "id": "1ef35dad",
   "metadata": {},
   "outputs": [
    {
     "data": {
      "text/html": [
       "<div>\n",
       "<style scoped>\n",
       "    .dataframe tbody tr th:only-of-type {\n",
       "        vertical-align: middle;\n",
       "    }\n",
       "\n",
       "    .dataframe tbody tr th {\n",
       "        vertical-align: top;\n",
       "    }\n",
       "\n",
       "    .dataframe thead th {\n",
       "        text-align: right;\n",
       "    }\n",
       "</style>\n",
       "<table border=\"1\" class=\"dataframe\">\n",
       "  <thead>\n",
       "    <tr style=\"text-align: right;\">\n",
       "      <th></th>\n",
       "      <th>age</th>\n",
       "      <th>job</th>\n",
       "      <th>marital</th>\n",
       "      <th>education</th>\n",
       "      <th>default</th>\n",
       "      <th>housing</th>\n",
       "      <th>loan</th>\n",
       "      <th>contact</th>\n",
       "      <th>month</th>\n",
       "      <th>day_of_week</th>\n",
       "      <th>...</th>\n",
       "      <th>campaign</th>\n",
       "      <th>pdays</th>\n",
       "      <th>previous</th>\n",
       "      <th>poutcome</th>\n",
       "      <th>emp.var.rate</th>\n",
       "      <th>cons.price.idx</th>\n",
       "      <th>cons.conf.idx</th>\n",
       "      <th>euribor3m</th>\n",
       "      <th>nr.employed</th>\n",
       "      <th>y</th>\n",
       "    </tr>\n",
       "  </thead>\n",
       "  <tbody>\n",
       "    <tr>\n",
       "      <th>0</th>\n",
       "      <td>56.0</td>\n",
       "      <td>3</td>\n",
       "      <td>1</td>\n",
       "      <td>0</td>\n",
       "      <td>0</td>\n",
       "      <td>0</td>\n",
       "      <td>0</td>\n",
       "      <td>1</td>\n",
       "      <td>6</td>\n",
       "      <td>1</td>\n",
       "      <td>...</td>\n",
       "      <td>1.0</td>\n",
       "      <td>999.0</td>\n",
       "      <td>0.0</td>\n",
       "      <td>1</td>\n",
       "      <td>1.1</td>\n",
       "      <td>93.994</td>\n",
       "      <td>-36.4</td>\n",
       "      <td>4.857</td>\n",
       "      <td>5191.0</td>\n",
       "      <td>0</td>\n",
       "    </tr>\n",
       "    <tr>\n",
       "      <th>1</th>\n",
       "      <td>57.0</td>\n",
       "      <td>7</td>\n",
       "      <td>1</td>\n",
       "      <td>1</td>\n",
       "      <td>1</td>\n",
       "      <td>0</td>\n",
       "      <td>0</td>\n",
       "      <td>1</td>\n",
       "      <td>6</td>\n",
       "      <td>1</td>\n",
       "      <td>...</td>\n",
       "      <td>1.0</td>\n",
       "      <td>999.0</td>\n",
       "      <td>0.0</td>\n",
       "      <td>1</td>\n",
       "      <td>1.1</td>\n",
       "      <td>93.994</td>\n",
       "      <td>-36.4</td>\n",
       "      <td>4.857</td>\n",
       "      <td>5191.0</td>\n",
       "      <td>0</td>\n",
       "    </tr>\n",
       "    <tr>\n",
       "      <th>2</th>\n",
       "      <td>37.0</td>\n",
       "      <td>7</td>\n",
       "      <td>1</td>\n",
       "      <td>1</td>\n",
       "      <td>0</td>\n",
       "      <td>2</td>\n",
       "      <td>0</td>\n",
       "      <td>1</td>\n",
       "      <td>6</td>\n",
       "      <td>1</td>\n",
       "      <td>...</td>\n",
       "      <td>1.0</td>\n",
       "      <td>999.0</td>\n",
       "      <td>0.0</td>\n",
       "      <td>1</td>\n",
       "      <td>1.1</td>\n",
       "      <td>93.994</td>\n",
       "      <td>-36.4</td>\n",
       "      <td>4.857</td>\n",
       "      <td>5191.0</td>\n",
       "      <td>0</td>\n",
       "    </tr>\n",
       "    <tr>\n",
       "      <th>3</th>\n",
       "      <td>40.0</td>\n",
       "      <td>0</td>\n",
       "      <td>1</td>\n",
       "      <td>1</td>\n",
       "      <td>0</td>\n",
       "      <td>0</td>\n",
       "      <td>0</td>\n",
       "      <td>1</td>\n",
       "      <td>6</td>\n",
       "      <td>1</td>\n",
       "      <td>...</td>\n",
       "      <td>1.0</td>\n",
       "      <td>999.0</td>\n",
       "      <td>0.0</td>\n",
       "      <td>1</td>\n",
       "      <td>1.1</td>\n",
       "      <td>93.994</td>\n",
       "      <td>-36.4</td>\n",
       "      <td>4.857</td>\n",
       "      <td>5191.0</td>\n",
       "      <td>0</td>\n",
       "    </tr>\n",
       "    <tr>\n",
       "      <th>4</th>\n",
       "      <td>56.0</td>\n",
       "      <td>7</td>\n",
       "      <td>1</td>\n",
       "      <td>1</td>\n",
       "      <td>0</td>\n",
       "      <td>0</td>\n",
       "      <td>2</td>\n",
       "      <td>1</td>\n",
       "      <td>6</td>\n",
       "      <td>1</td>\n",
       "      <td>...</td>\n",
       "      <td>1.0</td>\n",
       "      <td>999.0</td>\n",
       "      <td>0.0</td>\n",
       "      <td>1</td>\n",
       "      <td>1.1</td>\n",
       "      <td>93.994</td>\n",
       "      <td>-36.4</td>\n",
       "      <td>4.857</td>\n",
       "      <td>5191.0</td>\n",
       "      <td>0</td>\n",
       "    </tr>\n",
       "  </tbody>\n",
       "</table>\n",
       "<p>5 rows × 21 columns</p>\n",
       "</div>"
      ],
      "text/plain": [
       "    age  job  marital  education  default  housing  loan  contact  month  \\\n",
       "0  56.0    3        1          0        0        0     0        1      6   \n",
       "1  57.0    7        1          1        1        0     0        1      6   \n",
       "2  37.0    7        1          1        0        2     0        1      6   \n",
       "3  40.0    0        1          1        0        0     0        1      6   \n",
       "4  56.0    7        1          1        0        0     2        1      6   \n",
       "\n",
       "   day_of_week  ...  campaign  pdays  previous  poutcome  emp.var.rate  \\\n",
       "0            1  ...       1.0  999.0       0.0         1           1.1   \n",
       "1            1  ...       1.0  999.0       0.0         1           1.1   \n",
       "2            1  ...       1.0  999.0       0.0         1           1.1   \n",
       "3            1  ...       1.0  999.0       0.0         1           1.1   \n",
       "4            1  ...       1.0  999.0       0.0         1           1.1   \n",
       "\n",
       "   cons.price.idx  cons.conf.idx  euribor3m  nr.employed  y  \n",
       "0          93.994          -36.4      4.857       5191.0  0  \n",
       "1          93.994          -36.4      4.857       5191.0  0  \n",
       "2          93.994          -36.4      4.857       5191.0  0  \n",
       "3          93.994          -36.4      4.857       5191.0  0  \n",
       "4          93.994          -36.4      4.857       5191.0  0  \n",
       "\n",
       "[5 rows x 21 columns]"
      ]
     },
     "execution_count": 25,
     "metadata": {},
     "output_type": "execute_result"
    }
   ],
   "source": [
    "df1.head()"
   ]
  },
  {
   "cell_type": "code",
   "execution_count": 26,
   "id": "79276946",
   "metadata": {},
   "outputs": [
    {
     "data": {
      "text/plain": [
       "int32      11\n",
       "float64    10\n",
       "dtype: int64"
      ]
     },
     "execution_count": 26,
     "metadata": {},
     "output_type": "execute_result"
    }
   ],
   "source": [
    "df1.dtypes.value_counts()"
   ]
  },
  {
   "cell_type": "code",
   "execution_count": 27,
   "id": "067e599a",
   "metadata": {},
   "outputs": [
    {
     "name": "stdout",
     "output_type": "stream",
     "text": [
      "(41176, 20)\n",
      "(41176,)\n"
     ]
    }
   ],
   "source": [
    "x = df1.drop('y',axis=1)\n",
    "y =df['y']\n",
    "\n",
    "print(x.shape)\n",
    "print(y.shape)"
   ]
  },
  {
   "cell_type": "code",
   "execution_count": 28,
   "id": "a5c94211",
   "metadata": {},
   "outputs": [],
   "source": [
    "from sklearn.model_selection import train_test_split"
   ]
  },
  {
   "cell_type": "code",
   "execution_count": 29,
   "id": "6ba9de8f",
   "metadata": {},
   "outputs": [
    {
     "name": "stdout",
     "output_type": "stream",
     "text": [
      "(30882, 20)\n",
      "(10294, 20)\n",
      "(30882,)\n",
      "(10294,)\n"
     ]
    }
   ],
   "source": [
    "from sklearn.model_selection import train_test_split\n",
    "x_train,x_test,y_train,y_test = train_test_split(x,y,test_size=0.25,random_state= 50)\n",
    "print(x_train.shape)\n",
    "print(x_test.shape)\n",
    "print(y_train.shape)\n",
    "print(y_test.shape)"
   ]
  },
  {
   "cell_type": "code",
   "execution_count": 30,
   "id": "111d0886",
   "metadata": {},
   "outputs": [],
   "source": [
    "from sklearn.ensemble import RandomForestClassifier\n",
    "from sklearn.metrics import confusion_matrix,classification_report,accuracy_score,roc_auc_score,roc_curve"
   ]
  },
  {
   "cell_type": "code",
   "execution_count": 31,
   "id": "63e4308d",
   "metadata": {},
   "outputs": [],
   "source": [
    "def gen_metrics(model,x_train,x_test,y_train,y_test):\n",
    "    model.fit(x_train,y_train)\n",
    "    train_score = model.score(x_train,y_train)\n",
    "    test_score = model.score(x_test,y_test)\n",
    "    y_pred = model.predict(x_test)\n",
    "    acc = accuracy_score(y_test,y_pred)\n",
    "    print('Prediction\\n',y_pred)\n",
    "    print('Training score',train_score)\n",
    "    print('Testing score',test_score)\n",
    "    print('Accuracy_Score',acc)\n",
    "    cm = confusion_matrix(y_test,y_pred)\n",
    "    print('Confusion Matrix\\n',cm)\n",
    "    print('Classification Report\\n',classification_report(y_test,y_pred))\n",
    "    auc_score  = roc_auc_score(y_test,model.predict_proba(x_test)[:,1])\n",
    "    print('AUC Score',auc_score)\n",
    "    return acc,auc_score,train_score,test_score\n"
   ]
  },
  {
   "cell_type": "code",
   "execution_count": 32,
   "id": "37d16340",
   "metadata": {},
   "outputs": [
    {
     "name": "stdout",
     "output_type": "stream",
     "text": [
      "Prediction\n",
      " ['yes' 'no' 'no' ... 'yes' 'no' 'no']\n",
      "Training score 0.945923191503141\n",
      "Testing score 0.9149018845929667\n",
      "Accuracy_Score 0.9149018845929667\n",
      "Confusion Matrix\n",
      " [[8840  292]\n",
      " [ 584  578]]\n",
      "Classification Report\n",
      "               precision    recall  f1-score   support\n",
      "\n",
      "          no       0.94      0.97      0.95      9132\n",
      "         yes       0.66      0.50      0.57      1162\n",
      "\n",
      "    accuracy                           0.91     10294\n",
      "   macro avg       0.80      0.73      0.76     10294\n",
      "weighted avg       0.91      0.91      0.91     10294\n",
      "\n",
      "AUC Score 0.944581404272996\n"
     ]
    }
   ],
   "source": [
    "m1 = RandomForestClassifier(n_estimators=120,criterion='gini',max_depth=12,min_samples_split=15)\n",
    "\n",
    "acc,auc_score1,train_score1,test_score1=gen_metrics(m1,x_train,x_test,y_train,y_test)"
   ]
  },
  {
   "cell_type": "code",
   "execution_count": 33,
   "id": "c90c7a3c",
   "metadata": {},
   "outputs": [
    {
     "name": "stdout",
     "output_type": "stream",
     "text": [
      "0.9149018845929667 0.944581404272996 0.945923191503141 0.9149018845929667\n"
     ]
    }
   ],
   "source": [
    "print(acc,auc_score1,train_score1,test_score1)"
   ]
  },
  {
   "cell_type": "markdown",
   "id": "1b0e3167",
   "metadata": {},
   "source": [
    "####  Selecting important features based on Random Forest"
   ]
  },
  {
   "cell_type": "code",
   "execution_count": 34,
   "id": "379cc836",
   "metadata": {},
   "outputs": [
    {
     "data": {
      "text/html": [
       "<div>\n",
       "<style scoped>\n",
       "    .dataframe tbody tr th:only-of-type {\n",
       "        vertical-align: middle;\n",
       "    }\n",
       "\n",
       "    .dataframe tbody tr th {\n",
       "        vertical-align: top;\n",
       "    }\n",
       "\n",
       "    .dataframe thead th {\n",
       "        text-align: right;\n",
       "    }\n",
       "</style>\n",
       "<table border=\"1\" class=\"dataframe\">\n",
       "  <thead>\n",
       "    <tr style=\"text-align: right;\">\n",
       "      <th></th>\n",
       "      <th>Features</th>\n",
       "      <th>Norm_Imp</th>\n",
       "    </tr>\n",
       "  </thead>\n",
       "  <tbody>\n",
       "    <tr>\n",
       "      <th>10</th>\n",
       "      <td>duration</td>\n",
       "      <td>39.125977</td>\n",
       "    </tr>\n",
       "    <tr>\n",
       "      <th>19</th>\n",
       "      <td>nr.employed</td>\n",
       "      <td>12.727646</td>\n",
       "    </tr>\n",
       "    <tr>\n",
       "      <th>18</th>\n",
       "      <td>euribor3m</td>\n",
       "      <td>10.741214</td>\n",
       "    </tr>\n",
       "    <tr>\n",
       "      <th>14</th>\n",
       "      <td>poutcome</td>\n",
       "      <td>5.391547</td>\n",
       "    </tr>\n",
       "    <tr>\n",
       "      <th>12</th>\n",
       "      <td>pdays</td>\n",
       "      <td>4.962303</td>\n",
       "    </tr>\n",
       "    <tr>\n",
       "      <th>0</th>\n",
       "      <td>age</td>\n",
       "      <td>4.224970</td>\n",
       "    </tr>\n",
       "    <tr>\n",
       "      <th>17</th>\n",
       "      <td>cons.conf.idx</td>\n",
       "      <td>3.465264</td>\n",
       "    </tr>\n",
       "    <tr>\n",
       "      <th>16</th>\n",
       "      <td>cons.price.idx</td>\n",
       "      <td>2.878607</td>\n",
       "    </tr>\n",
       "    <tr>\n",
       "      <th>15</th>\n",
       "      <td>emp.var.rate</td>\n",
       "      <td>2.818509</td>\n",
       "    </tr>\n",
       "    <tr>\n",
       "      <th>8</th>\n",
       "      <td>month</td>\n",
       "      <td>2.176450</td>\n",
       "    </tr>\n",
       "    <tr>\n",
       "      <th>9</th>\n",
       "      <td>day_of_week</td>\n",
       "      <td>1.993423</td>\n",
       "    </tr>\n",
       "    <tr>\n",
       "      <th>1</th>\n",
       "      <td>job</td>\n",
       "      <td>1.947317</td>\n",
       "    </tr>\n",
       "    <tr>\n",
       "      <th>11</th>\n",
       "      <td>campaign</td>\n",
       "      <td>1.828687</td>\n",
       "    </tr>\n",
       "    <tr>\n",
       "      <th>3</th>\n",
       "      <td>education</td>\n",
       "      <td>1.187771</td>\n",
       "    </tr>\n",
       "    <tr>\n",
       "      <th>7</th>\n",
       "      <td>contact</td>\n",
       "      <td>0.961034</td>\n",
       "    </tr>\n",
       "    <tr>\n",
       "      <th>13</th>\n",
       "      <td>previous</td>\n",
       "      <td>0.903510</td>\n",
       "    </tr>\n",
       "    <tr>\n",
       "      <th>2</th>\n",
       "      <td>marital</td>\n",
       "      <td>0.899557</td>\n",
       "    </tr>\n",
       "    <tr>\n",
       "      <th>6</th>\n",
       "      <td>loan</td>\n",
       "      <td>0.629775</td>\n",
       "    </tr>\n",
       "    <tr>\n",
       "      <th>5</th>\n",
       "      <td>housing</td>\n",
       "      <td>0.609596</td>\n",
       "    </tr>\n",
       "    <tr>\n",
       "      <th>4</th>\n",
       "      <td>default</td>\n",
       "      <td>0.526841</td>\n",
       "    </tr>\n",
       "  </tbody>\n",
       "</table>\n",
       "</div>"
      ],
      "text/plain": [
       "          Features   Norm_Imp\n",
       "10        duration  39.125977\n",
       "19     nr.employed  12.727646\n",
       "18       euribor3m  10.741214\n",
       "14        poutcome   5.391547\n",
       "12           pdays   4.962303\n",
       "0              age   4.224970\n",
       "17   cons.conf.idx   3.465264\n",
       "16  cons.price.idx   2.878607\n",
       "15    emp.var.rate   2.818509\n",
       "8            month   2.176450\n",
       "9      day_of_week   1.993423\n",
       "1              job   1.947317\n",
       "11        campaign   1.828687\n",
       "3        education   1.187771\n",
       "7          contact   0.961034\n",
       "13        previous   0.903510\n",
       "2          marital   0.899557\n",
       "6             loan   0.629775\n",
       "5          housing   0.609596\n",
       "4          default   0.526841"
      ]
     },
     "execution_count": 34,
     "metadata": {},
     "output_type": "execute_result"
    }
   ],
   "source": [
    "fimp_m1 = pd.DataFrame({'Features':x_train.columns,\n",
    "                       'Norm_Imp':m1.feature_importances_*100}) # m1.feature_importances_*100 for converting it into percentage\n",
    "\n",
    "fimp_m1.sort_values('Norm_Imp',ascending=False)"
   ]
  },
  {
   "cell_type": "markdown",
   "id": "0fca5a03",
   "metadata": {},
   "source": [
    "#### threshold taking for selecting important features is 1.780250"
   ]
  },
  {
   "cell_type": "code",
   "execution_count": 35,
   "id": "2ae5f287",
   "metadata": {},
   "outputs": [
    {
     "data": {
      "text/html": [
       "<div>\n",
       "<style scoped>\n",
       "    .dataframe tbody tr th:only-of-type {\n",
       "        vertical-align: middle;\n",
       "    }\n",
       "\n",
       "    .dataframe tbody tr th {\n",
       "        vertical-align: top;\n",
       "    }\n",
       "\n",
       "    .dataframe thead th {\n",
       "        text-align: right;\n",
       "    }\n",
       "</style>\n",
       "<table border=\"1\" class=\"dataframe\">\n",
       "  <thead>\n",
       "    <tr style=\"text-align: right;\">\n",
       "      <th></th>\n",
       "      <th>Features</th>\n",
       "      <th>Norm_Imp</th>\n",
       "    </tr>\n",
       "  </thead>\n",
       "  <tbody>\n",
       "    <tr>\n",
       "      <th>10</th>\n",
       "      <td>duration</td>\n",
       "      <td>39.125977</td>\n",
       "    </tr>\n",
       "    <tr>\n",
       "      <th>19</th>\n",
       "      <td>nr.employed</td>\n",
       "      <td>12.727646</td>\n",
       "    </tr>\n",
       "    <tr>\n",
       "      <th>18</th>\n",
       "      <td>euribor3m</td>\n",
       "      <td>10.741214</td>\n",
       "    </tr>\n",
       "    <tr>\n",
       "      <th>14</th>\n",
       "      <td>poutcome</td>\n",
       "      <td>5.391547</td>\n",
       "    </tr>\n",
       "    <tr>\n",
       "      <th>12</th>\n",
       "      <td>pdays</td>\n",
       "      <td>4.962303</td>\n",
       "    </tr>\n",
       "    <tr>\n",
       "      <th>0</th>\n",
       "      <td>age</td>\n",
       "      <td>4.224970</td>\n",
       "    </tr>\n",
       "    <tr>\n",
       "      <th>17</th>\n",
       "      <td>cons.conf.idx</td>\n",
       "      <td>3.465264</td>\n",
       "    </tr>\n",
       "    <tr>\n",
       "      <th>16</th>\n",
       "      <td>cons.price.idx</td>\n",
       "      <td>2.878607</td>\n",
       "    </tr>\n",
       "    <tr>\n",
       "      <th>15</th>\n",
       "      <td>emp.var.rate</td>\n",
       "      <td>2.818509</td>\n",
       "    </tr>\n",
       "    <tr>\n",
       "      <th>8</th>\n",
       "      <td>month</td>\n",
       "      <td>2.176450</td>\n",
       "    </tr>\n",
       "    <tr>\n",
       "      <th>9</th>\n",
       "      <td>day_of_week</td>\n",
       "      <td>1.993423</td>\n",
       "    </tr>\n",
       "    <tr>\n",
       "      <th>1</th>\n",
       "      <td>job</td>\n",
       "      <td>1.947317</td>\n",
       "    </tr>\n",
       "    <tr>\n",
       "      <th>11</th>\n",
       "      <td>campaign</td>\n",
       "      <td>1.828687</td>\n",
       "    </tr>\n",
       "  </tbody>\n",
       "</table>\n",
       "</div>"
      ],
      "text/plain": [
       "          Features   Norm_Imp\n",
       "10        duration  39.125977\n",
       "19     nr.employed  12.727646\n",
       "18       euribor3m  10.741214\n",
       "14        poutcome   5.391547\n",
       "12           pdays   4.962303\n",
       "0              age   4.224970\n",
       "17   cons.conf.idx   3.465264\n",
       "16  cons.price.idx   2.878607\n",
       "15    emp.var.rate   2.818509\n",
       "8            month   2.176450\n",
       "9      day_of_week   1.993423\n",
       "1              job   1.947317\n",
       "11        campaign   1.828687"
      ]
     },
     "execution_count": 35,
     "metadata": {},
     "output_type": "execute_result"
    }
   ],
   "source": [
    "sig_feat = fimp_m1[fimp_m1['Norm_Imp']>=1.780250]\n",
    "\n",
    "sig_feat.sort_values(by='Norm_Imp',ascending=False)"
   ]
  },
  {
   "cell_type": "code",
   "execution_count": 36,
   "id": "efd421cd",
   "metadata": {},
   "outputs": [
    {
     "data": {
      "text/html": [
       "<div>\n",
       "<style scoped>\n",
       "    .dataframe tbody tr th:only-of-type {\n",
       "        vertical-align: middle;\n",
       "    }\n",
       "\n",
       "    .dataframe tbody tr th {\n",
       "        vertical-align: top;\n",
       "    }\n",
       "\n",
       "    .dataframe thead th {\n",
       "        text-align: right;\n",
       "    }\n",
       "</style>\n",
       "<table border=\"1\" class=\"dataframe\">\n",
       "  <thead>\n",
       "    <tr style=\"text-align: right;\">\n",
       "      <th></th>\n",
       "      <th>age</th>\n",
       "      <th>job</th>\n",
       "      <th>month</th>\n",
       "      <th>day_of_week</th>\n",
       "      <th>duration</th>\n",
       "      <th>campaign</th>\n",
       "      <th>pdays</th>\n",
       "      <th>poutcome</th>\n",
       "      <th>emp.var.rate</th>\n",
       "      <th>cons.price.idx</th>\n",
       "      <th>cons.conf.idx</th>\n",
       "      <th>euribor3m</th>\n",
       "      <th>nr.employed</th>\n",
       "    </tr>\n",
       "  </thead>\n",
       "  <tbody>\n",
       "    <tr>\n",
       "      <th>0</th>\n",
       "      <td>56.0</td>\n",
       "      <td>3</td>\n",
       "      <td>6</td>\n",
       "      <td>1</td>\n",
       "      <td>261.0</td>\n",
       "      <td>1.0</td>\n",
       "      <td>999.0</td>\n",
       "      <td>1</td>\n",
       "      <td>1.1</td>\n",
       "      <td>93.994</td>\n",
       "      <td>-36.4</td>\n",
       "      <td>4.857</td>\n",
       "      <td>5191.0</td>\n",
       "    </tr>\n",
       "    <tr>\n",
       "      <th>1</th>\n",
       "      <td>57.0</td>\n",
       "      <td>7</td>\n",
       "      <td>6</td>\n",
       "      <td>1</td>\n",
       "      <td>149.0</td>\n",
       "      <td>1.0</td>\n",
       "      <td>999.0</td>\n",
       "      <td>1</td>\n",
       "      <td>1.1</td>\n",
       "      <td>93.994</td>\n",
       "      <td>-36.4</td>\n",
       "      <td>4.857</td>\n",
       "      <td>5191.0</td>\n",
       "    </tr>\n",
       "    <tr>\n",
       "      <th>2</th>\n",
       "      <td>37.0</td>\n",
       "      <td>7</td>\n",
       "      <td>6</td>\n",
       "      <td>1</td>\n",
       "      <td>226.0</td>\n",
       "      <td>1.0</td>\n",
       "      <td>999.0</td>\n",
       "      <td>1</td>\n",
       "      <td>1.1</td>\n",
       "      <td>93.994</td>\n",
       "      <td>-36.4</td>\n",
       "      <td>4.857</td>\n",
       "      <td>5191.0</td>\n",
       "    </tr>\n",
       "    <tr>\n",
       "      <th>3</th>\n",
       "      <td>40.0</td>\n",
       "      <td>0</td>\n",
       "      <td>6</td>\n",
       "      <td>1</td>\n",
       "      <td>151.0</td>\n",
       "      <td>1.0</td>\n",
       "      <td>999.0</td>\n",
       "      <td>1</td>\n",
       "      <td>1.1</td>\n",
       "      <td>93.994</td>\n",
       "      <td>-36.4</td>\n",
       "      <td>4.857</td>\n",
       "      <td>5191.0</td>\n",
       "    </tr>\n",
       "    <tr>\n",
       "      <th>4</th>\n",
       "      <td>56.0</td>\n",
       "      <td>7</td>\n",
       "      <td>6</td>\n",
       "      <td>1</td>\n",
       "      <td>307.0</td>\n",
       "      <td>1.0</td>\n",
       "      <td>999.0</td>\n",
       "      <td>1</td>\n",
       "      <td>1.1</td>\n",
       "      <td>93.994</td>\n",
       "      <td>-36.4</td>\n",
       "      <td>4.857</td>\n",
       "      <td>5191.0</td>\n",
       "    </tr>\n",
       "    <tr>\n",
       "      <th>...</th>\n",
       "      <td>...</td>\n",
       "      <td>...</td>\n",
       "      <td>...</td>\n",
       "      <td>...</td>\n",
       "      <td>...</td>\n",
       "      <td>...</td>\n",
       "      <td>...</td>\n",
       "      <td>...</td>\n",
       "      <td>...</td>\n",
       "      <td>...</td>\n",
       "      <td>...</td>\n",
       "      <td>...</td>\n",
       "      <td>...</td>\n",
       "    </tr>\n",
       "    <tr>\n",
       "      <th>41183</th>\n",
       "      <td>71.0</td>\n",
       "      <td>5</td>\n",
       "      <td>7</td>\n",
       "      <td>0</td>\n",
       "      <td>334.0</td>\n",
       "      <td>1.0</td>\n",
       "      <td>999.0</td>\n",
       "      <td>1</td>\n",
       "      <td>-1.1</td>\n",
       "      <td>94.767</td>\n",
       "      <td>-49.5</td>\n",
       "      <td>1.028</td>\n",
       "      <td>4963.6</td>\n",
       "    </tr>\n",
       "    <tr>\n",
       "      <th>41184</th>\n",
       "      <td>46.0</td>\n",
       "      <td>1</td>\n",
       "      <td>7</td>\n",
       "      <td>0</td>\n",
       "      <td>383.0</td>\n",
       "      <td>1.0</td>\n",
       "      <td>999.0</td>\n",
       "      <td>1</td>\n",
       "      <td>-1.1</td>\n",
       "      <td>94.767</td>\n",
       "      <td>-49.5</td>\n",
       "      <td>1.028</td>\n",
       "      <td>4963.6</td>\n",
       "    </tr>\n",
       "    <tr>\n",
       "      <th>41185</th>\n",
       "      <td>56.0</td>\n",
       "      <td>5</td>\n",
       "      <td>7</td>\n",
       "      <td>0</td>\n",
       "      <td>189.0</td>\n",
       "      <td>2.0</td>\n",
       "      <td>999.0</td>\n",
       "      <td>1</td>\n",
       "      <td>-1.1</td>\n",
       "      <td>94.767</td>\n",
       "      <td>-49.5</td>\n",
       "      <td>1.028</td>\n",
       "      <td>4963.6</td>\n",
       "    </tr>\n",
       "    <tr>\n",
       "      <th>41186</th>\n",
       "      <td>44.0</td>\n",
       "      <td>9</td>\n",
       "      <td>7</td>\n",
       "      <td>0</td>\n",
       "      <td>442.0</td>\n",
       "      <td>1.0</td>\n",
       "      <td>999.0</td>\n",
       "      <td>1</td>\n",
       "      <td>-1.1</td>\n",
       "      <td>94.767</td>\n",
       "      <td>-49.5</td>\n",
       "      <td>1.028</td>\n",
       "      <td>4963.6</td>\n",
       "    </tr>\n",
       "    <tr>\n",
       "      <th>41187</th>\n",
       "      <td>71.0</td>\n",
       "      <td>5</td>\n",
       "      <td>7</td>\n",
       "      <td>0</td>\n",
       "      <td>239.0</td>\n",
       "      <td>3.0</td>\n",
       "      <td>999.0</td>\n",
       "      <td>0</td>\n",
       "      <td>-1.1</td>\n",
       "      <td>94.767</td>\n",
       "      <td>-49.5</td>\n",
       "      <td>1.028</td>\n",
       "      <td>4963.6</td>\n",
       "    </tr>\n",
       "  </tbody>\n",
       "</table>\n",
       "<p>41176 rows × 13 columns</p>\n",
       "</div>"
      ],
      "text/plain": [
       "        age  job  month  day_of_week  duration  campaign  pdays  poutcome  \\\n",
       "0      56.0    3      6            1     261.0       1.0  999.0         1   \n",
       "1      57.0    7      6            1     149.0       1.0  999.0         1   \n",
       "2      37.0    7      6            1     226.0       1.0  999.0         1   \n",
       "3      40.0    0      6            1     151.0       1.0  999.0         1   \n",
       "4      56.0    7      6            1     307.0       1.0  999.0         1   \n",
       "...     ...  ...    ...          ...       ...       ...    ...       ...   \n",
       "41183  71.0    5      7            0     334.0       1.0  999.0         1   \n",
       "41184  46.0    1      7            0     383.0       1.0  999.0         1   \n",
       "41185  56.0    5      7            0     189.0       2.0  999.0         1   \n",
       "41186  44.0    9      7            0     442.0       1.0  999.0         1   \n",
       "41187  71.0    5      7            0     239.0       3.0  999.0         0   \n",
       "\n",
       "       emp.var.rate  cons.price.idx  cons.conf.idx  euribor3m  nr.employed  \n",
       "0               1.1          93.994          -36.4      4.857       5191.0  \n",
       "1               1.1          93.994          -36.4      4.857       5191.0  \n",
       "2               1.1          93.994          -36.4      4.857       5191.0  \n",
       "3               1.1          93.994          -36.4      4.857       5191.0  \n",
       "4               1.1          93.994          -36.4      4.857       5191.0  \n",
       "...             ...             ...            ...        ...          ...  \n",
       "41183          -1.1          94.767          -49.5      1.028       4963.6  \n",
       "41184          -1.1          94.767          -49.5      1.028       4963.6  \n",
       "41185          -1.1          94.767          -49.5      1.028       4963.6  \n",
       "41186          -1.1          94.767          -49.5      1.028       4963.6  \n",
       "41187          -1.1          94.767          -49.5      1.028       4963.6  \n",
       "\n",
       "[41176 rows x 13 columns]"
      ]
     },
     "execution_count": 36,
     "metadata": {},
     "output_type": "execute_result"
    }
   ],
   "source": [
    "x_sig = df1[sig_feat['Features'].values]\n",
    "x_sig\n"
   ]
  },
  {
   "cell_type": "markdown",
   "id": "14139f37",
   "metadata": {},
   "source": [
    "here we have selected important features based on Random forest<br>\n",
    "its not clear in question that we need to use this significant features in model building but its wriiten that we need to select imp features so after selecting we have to utilized them so we are going to use these features in model building rather than using full datafram features\n"
   ]
  },
  {
   "cell_type": "markdown",
   "id": "8fc45504",
   "metadata": {},
   "source": [
    "## Handling unbalanced data using SMOTE"
   ]
  },
  {
   "cell_type": "code",
   "execution_count": 37,
   "id": "bc3df15b",
   "metadata": {},
   "outputs": [],
   "source": [
    "from imblearn.over_sampling import SMOTE\n",
    "from collections import Counter"
   ]
  },
  {
   "cell_type": "code",
   "execution_count": 38,
   "id": "aee6eb40",
   "metadata": {
    "scrolled": true
   },
   "outputs": [
    {
     "data": {
      "text/plain": [
       "Counter({'no': 36537, 'yes': 4639})"
      ]
     },
     "execution_count": 38,
     "metadata": {},
     "output_type": "execute_result"
    }
   ],
   "source": [
    "Counter(y)"
   ]
  },
  {
   "cell_type": "markdown",
   "id": "9a8c99ff",
   "metadata": {},
   "source": [
    "inference: data is clearly imbalanced"
   ]
  },
  {
   "cell_type": "code",
   "execution_count": 39,
   "id": "619f01bc",
   "metadata": {},
   "outputs": [
    {
     "name": "stdout",
     "output_type": "stream",
     "text": [
      "(41176, 13)\n",
      "(41176,)\n"
     ]
    }
   ],
   "source": [
    "print(x_sig.shape)\n",
    "print(y.shape)"
   ]
  },
  {
   "cell_type": "code",
   "execution_count": 40,
   "id": "971e99b0",
   "metadata": {},
   "outputs": [],
   "source": [
    "sm = SMOTE()\n",
    "x_sm,y_sm = sm.fit_resample(x_sig,y)"
   ]
  },
  {
   "cell_type": "code",
   "execution_count": 41,
   "id": "403d4d00",
   "metadata": {
    "scrolled": true
   },
   "outputs": [
    {
     "name": "stdout",
     "output_type": "stream",
     "text": [
      "(73074, 13)\n",
      "(10294, 20)\n",
      "(73074,)\n",
      "(10294,)\n"
     ]
    }
   ],
   "source": [
    "print(x_sm.shape)\n",
    "print(x_test.shape)\n",
    "\n",
    "print(y_sm.shape)\n",
    "print(y_test.shape)"
   ]
  },
  {
   "cell_type": "markdown",
   "id": "e5dadb23",
   "metadata": {},
   "source": [
    "### Standardize the data using the anyone of the scalers provided by sklearn\n"
   ]
  },
  {
   "cell_type": "markdown",
   "id": "8b7a6421",
   "metadata": {},
   "source": [
    "note: usually standardization applied before splitting but here we have already splitted because its provided in the problem statement so now we have to apply scalling on all train and test features\n"
   ]
  },
  {
   "cell_type": "code",
   "execution_count": 42,
   "id": "5316ba0a",
   "metadata": {},
   "outputs": [],
   "source": [
    "from sklearn.preprocessing import StandardScaler"
   ]
  },
  {
   "cell_type": "markdown",
   "id": "a26b320b",
   "metadata": {},
   "source": [
    "#### applying StandardScaler"
   ]
  },
  {
   "cell_type": "code",
   "execution_count": 43,
   "id": "56608280",
   "metadata": {},
   "outputs": [],
   "source": [
    "sc = StandardScaler()"
   ]
  },
  {
   "cell_type": "code",
   "execution_count": 44,
   "id": "274d0fc8",
   "metadata": {},
   "outputs": [],
   "source": [
    "x_sm_std = sc.fit_transform(x_sm)"
   ]
  },
  {
   "cell_type": "markdown",
   "id": "524786c8",
   "metadata": {},
   "source": [
    "splitting new train test values"
   ]
  },
  {
   "cell_type": "code",
   "execution_count": 45,
   "id": "6ed95261",
   "metadata": {},
   "outputs": [
    {
     "name": "stdout",
     "output_type": "stream",
     "text": [
      "(54805, 13)\n",
      "(18269, 13)\n",
      "(54805,)\n",
      "(18269,)\n"
     ]
    }
   ],
   "source": [
    "x_train1,x_test1,y_train1,y_test1 = train_test_split(x_sm_std,y_sm,test_size=0.25,random_state=15)\n",
    "print(x_train1.shape)\n",
    "print(x_test1.shape)\n",
    "print(y_train1.shape)\n",
    "print(y_test1.shape)\n"
   ]
  },
  {
   "cell_type": "code",
   "execution_count": 46,
   "id": "85985927",
   "metadata": {},
   "outputs": [
    {
     "data": {
      "text/html": [
       "<div>\n",
       "<style scoped>\n",
       "    .dataframe tbody tr th:only-of-type {\n",
       "        vertical-align: middle;\n",
       "    }\n",
       "\n",
       "    .dataframe tbody tr th {\n",
       "        vertical-align: top;\n",
       "    }\n",
       "\n",
       "    .dataframe thead th {\n",
       "        text-align: right;\n",
       "    }\n",
       "</style>\n",
       "<table border=\"1\" class=\"dataframe\">\n",
       "  <thead>\n",
       "    <tr style=\"text-align: right;\">\n",
       "      <th></th>\n",
       "      <th>Model</th>\n",
       "      <th>Accuracy</th>\n",
       "      <th>auc_score</th>\n",
       "      <th>training_score</th>\n",
       "      <th>test_score</th>\n",
       "    </tr>\n",
       "  </thead>\n",
       "  <tbody>\n",
       "  </tbody>\n",
       "</table>\n",
       "</div>"
      ],
      "text/plain": [
       "Empty DataFrame\n",
       "Columns: [Model, Accuracy, auc_score, training_score, test_score]\n",
       "Index: []"
      ]
     },
     "execution_count": 46,
     "metadata": {},
     "output_type": "execute_result"
    }
   ],
   "source": [
    "models = pd.DataFrame(columns=[\"Model\", \"Accuracy\", \"auc_score\", \"training_score\",'test_score'])\n",
    "models"
   ]
  },
  {
   "cell_type": "markdown",
   "id": "ccd1e2d1",
   "metadata": {},
   "source": [
    "# Building Supervised Models"
   ]
  },
  {
   "cell_type": "markdown",
   "id": "5945592c",
   "metadata": {},
   "source": [
    "## Logistic Regression"
   ]
  },
  {
   "cell_type": "code",
   "execution_count": 47,
   "id": "535e1267",
   "metadata": {},
   "outputs": [
    {
     "data": {
      "text/html": [
       "<style>#sk-container-id-1 {color: black;background-color: white;}#sk-container-id-1 pre{padding: 0;}#sk-container-id-1 div.sk-toggleable {background-color: white;}#sk-container-id-1 label.sk-toggleable__label {cursor: pointer;display: block;width: 100%;margin-bottom: 0;padding: 0.3em;box-sizing: border-box;text-align: center;}#sk-container-id-1 label.sk-toggleable__label-arrow:before {content: \"▸\";float: left;margin-right: 0.25em;color: #696969;}#sk-container-id-1 label.sk-toggleable__label-arrow:hover:before {color: black;}#sk-container-id-1 div.sk-estimator:hover label.sk-toggleable__label-arrow:before {color: black;}#sk-container-id-1 div.sk-toggleable__content {max-height: 0;max-width: 0;overflow: hidden;text-align: left;background-color: #f0f8ff;}#sk-container-id-1 div.sk-toggleable__content pre {margin: 0.2em;color: black;border-radius: 0.25em;background-color: #f0f8ff;}#sk-container-id-1 input.sk-toggleable__control:checked~div.sk-toggleable__content {max-height: 200px;max-width: 100%;overflow: auto;}#sk-container-id-1 input.sk-toggleable__control:checked~label.sk-toggleable__label-arrow:before {content: \"▾\";}#sk-container-id-1 div.sk-estimator input.sk-toggleable__control:checked~label.sk-toggleable__label {background-color: #d4ebff;}#sk-container-id-1 div.sk-label input.sk-toggleable__control:checked~label.sk-toggleable__label {background-color: #d4ebff;}#sk-container-id-1 input.sk-hidden--visually {border: 0;clip: rect(1px 1px 1px 1px);clip: rect(1px, 1px, 1px, 1px);height: 1px;margin: -1px;overflow: hidden;padding: 0;position: absolute;width: 1px;}#sk-container-id-1 div.sk-estimator {font-family: monospace;background-color: #f0f8ff;border: 1px dotted black;border-radius: 0.25em;box-sizing: border-box;margin-bottom: 0.5em;}#sk-container-id-1 div.sk-estimator:hover {background-color: #d4ebff;}#sk-container-id-1 div.sk-parallel-item::after {content: \"\";width: 100%;border-bottom: 1px solid gray;flex-grow: 1;}#sk-container-id-1 div.sk-label:hover label.sk-toggleable__label {background-color: #d4ebff;}#sk-container-id-1 div.sk-serial::before {content: \"\";position: absolute;border-left: 1px solid gray;box-sizing: border-box;top: 0;bottom: 0;left: 50%;z-index: 0;}#sk-container-id-1 div.sk-serial {display: flex;flex-direction: column;align-items: center;background-color: white;padding-right: 0.2em;padding-left: 0.2em;position: relative;}#sk-container-id-1 div.sk-item {position: relative;z-index: 1;}#sk-container-id-1 div.sk-parallel {display: flex;align-items: stretch;justify-content: center;background-color: white;position: relative;}#sk-container-id-1 div.sk-item::before, #sk-container-id-1 div.sk-parallel-item::before {content: \"\";position: absolute;border-left: 1px solid gray;box-sizing: border-box;top: 0;bottom: 0;left: 50%;z-index: -1;}#sk-container-id-1 div.sk-parallel-item {display: flex;flex-direction: column;z-index: 1;position: relative;background-color: white;}#sk-container-id-1 div.sk-parallel-item:first-child::after {align-self: flex-end;width: 50%;}#sk-container-id-1 div.sk-parallel-item:last-child::after {align-self: flex-start;width: 50%;}#sk-container-id-1 div.sk-parallel-item:only-child::after {width: 0;}#sk-container-id-1 div.sk-dashed-wrapped {border: 1px dashed gray;margin: 0 0.4em 0.5em 0.4em;box-sizing: border-box;padding-bottom: 0.4em;background-color: white;}#sk-container-id-1 div.sk-label label {font-family: monospace;font-weight: bold;display: inline-block;line-height: 1.2em;}#sk-container-id-1 div.sk-label-container {text-align: center;}#sk-container-id-1 div.sk-container {/* jupyter's `normalize.less` sets `[hidden] { display: none; }` but bootstrap.min.css set `[hidden] { display: none !important; }` so we also need the `!important` here to be able to override the default hidden behavior on the sphinx rendered scikit-learn.org. See: https://github.com/scikit-learn/scikit-learn/issues/21755 */display: inline-block !important;position: relative;}#sk-container-id-1 div.sk-text-repr-fallback {display: none;}</style><div id=\"sk-container-id-1\" class=\"sk-top-container\"><div class=\"sk-text-repr-fallback\"><pre>LogisticRegression()</pre><b>In a Jupyter environment, please rerun this cell to show the HTML representation or trust the notebook. <br />On GitHub, the HTML representation is unable to render, please try loading this page with nbviewer.org.</b></div><div class=\"sk-container\" hidden><div class=\"sk-item\"><div class=\"sk-estimator sk-toggleable\"><input class=\"sk-toggleable__control sk-hidden--visually\" id=\"sk-estimator-id-1\" type=\"checkbox\" checked><label for=\"sk-estimator-id-1\" class=\"sk-toggleable__label sk-toggleable__label-arrow\">LogisticRegression</label><div class=\"sk-toggleable__content\"><pre>LogisticRegression()</pre></div></div></div></div></div>"
      ],
      "text/plain": [
       "LogisticRegression()"
      ]
     },
     "execution_count": 47,
     "metadata": {},
     "output_type": "execute_result"
    }
   ],
   "source": [
    "from sklearn.linear_model import LogisticRegression\n",
    "m2 = LogisticRegression() \n",
    "m2.fit(x_train1,y_train1)"
   ]
  },
  {
   "cell_type": "code",
   "execution_count": 48,
   "id": "3b0fef4a",
   "metadata": {},
   "outputs": [
    {
     "name": "stdout",
     "output_type": "stream",
     "text": [
      "Prediction\n",
      " ['yes' 'no' 'no' ... 'yes' 'no' 'yes']\n",
      "Training score 0.8651947814980385\n",
      "Testing score 0.8643056543872133\n",
      "Accuracy_Score 0.8643056543872133\n",
      "Confusion Matrix\n",
      " [[7825 1382]\n",
      " [1097 7965]]\n",
      "Classification Report\n",
      "               precision    recall  f1-score   support\n",
      "\n",
      "          no       0.88      0.85      0.86      9207\n",
      "         yes       0.85      0.88      0.87      9062\n",
      "\n",
      "    accuracy                           0.86     18269\n",
      "   macro avg       0.86      0.86      0.86     18269\n",
      "weighted avg       0.86      0.86      0.86     18269\n",
      "\n",
      "AUC Score 0.9337138216613657\n"
     ]
    }
   ],
   "source": [
    "acc,auc_score1,train_score1,test_score1=gen_metrics(m2,x_train1,x_test1,y_train1,y_test1)"
   ]
  },
  {
   "cell_type": "code",
   "execution_count": 80,
   "id": "62546d91",
   "metadata": {},
   "outputs": [
    {
     "data": {
      "text/html": [
       "<div>\n",
       "<style scoped>\n",
       "    .dataframe tbody tr th:only-of-type {\n",
       "        vertical-align: middle;\n",
       "    }\n",
       "\n",
       "    .dataframe tbody tr th {\n",
       "        vertical-align: top;\n",
       "    }\n",
       "\n",
       "    .dataframe thead th {\n",
       "        text-align: right;\n",
       "    }\n",
       "</style>\n",
       "<table border=\"1\" class=\"dataframe\">\n",
       "  <thead>\n",
       "    <tr style=\"text-align: right;\">\n",
       "      <th></th>\n",
       "      <th>Model</th>\n",
       "      <th>Accuracy</th>\n",
       "      <th>auc_score</th>\n",
       "      <th>training_score</th>\n",
       "      <th>test_score</th>\n",
       "    </tr>\n",
       "  </thead>\n",
       "  <tbody>\n",
       "    <tr>\n",
       "      <th>0</th>\n",
       "      <td>LogisticRegression</td>\n",
       "      <td>0.864306</td>\n",
       "      <td>0.933714</td>\n",
       "      <td>0.865195</td>\n",
       "      <td>0.864306</td>\n",
       "    </tr>\n",
       "  </tbody>\n",
       "</table>\n",
       "</div>"
      ],
      "text/plain": [
       "                Model  Accuracy  auc_score  training_score  test_score\n",
       "0  LogisticRegression  0.864306   0.933714        0.865195    0.864306"
      ]
     },
     "execution_count": 80,
     "metadata": {},
     "output_type": "execute_result"
    }
   ],
   "source": [
    "new_row = {\"Model\": \"LogisticRegression\",\"Accuracy\":acc, \"auc_score\":auc_score1, \"training_score\":train_score1,'test_score':test_score1}\n",
    "models = models.append(new_row,ignore_index=True)\n",
    "models"
   ]
  },
  {
   "cell_type": "markdown",
   "id": "1218cb4b",
   "metadata": {},
   "source": [
    "## AdaBoost"
   ]
  },
  {
   "cell_type": "code",
   "execution_count": 50,
   "id": "74f0af1e",
   "metadata": {},
   "outputs": [],
   "source": [
    "from sklearn.ensemble import AdaBoostClassifier"
   ]
  },
  {
   "cell_type": "code",
   "execution_count": 51,
   "id": "8c7bb220",
   "metadata": {},
   "outputs": [],
   "source": [
    "clf = AdaBoostClassifier(random_state=96)"
   ]
  },
  {
   "cell_type": "code",
   "execution_count": 72,
   "id": "4d7a5605",
   "metadata": {},
   "outputs": [
    {
     "name": "stdout",
     "output_type": "stream",
     "text": [
      "Prediction\n",
      " ['yes' 'no' 'no' ... 'yes' 'no' 'yes']\n",
      "Training score 0.9058844995894535\n",
      "Testing score 0.9059061798675352\n",
      "Accuracy_Score 0.9059061798675352\n",
      "Confusion Matrix\n",
      " [[8284  923]\n",
      " [ 796 8266]]\n",
      "Classification Report\n",
      "               precision    recall  f1-score   support\n",
      "\n",
      "          no       0.91      0.90      0.91      9207\n",
      "         yes       0.90      0.91      0.91      9062\n",
      "\n",
      "    accuracy                           0.91     18269\n",
      "   macro avg       0.91      0.91      0.91     18269\n",
      "weighted avg       0.91      0.91      0.91     18269\n",
      "\n",
      "AUC Score 0.9693400880990319\n"
     ]
    }
   ],
   "source": [
    "acc2,auc_score2,train_score2,test_score2=gen_metrics(clf,x_train1,x_test1,y_train1,y_test1)"
   ]
  },
  {
   "cell_type": "code",
   "execution_count": 81,
   "id": "d0e87a1f",
   "metadata": {},
   "outputs": [
    {
     "data": {
      "text/html": [
       "<div>\n",
       "<style scoped>\n",
       "    .dataframe tbody tr th:only-of-type {\n",
       "        vertical-align: middle;\n",
       "    }\n",
       "\n",
       "    .dataframe tbody tr th {\n",
       "        vertical-align: top;\n",
       "    }\n",
       "\n",
       "    .dataframe thead th {\n",
       "        text-align: right;\n",
       "    }\n",
       "</style>\n",
       "<table border=\"1\" class=\"dataframe\">\n",
       "  <thead>\n",
       "    <tr style=\"text-align: right;\">\n",
       "      <th></th>\n",
       "      <th>Model</th>\n",
       "      <th>Accuracy</th>\n",
       "      <th>auc_score</th>\n",
       "      <th>training_score</th>\n",
       "      <th>test_score</th>\n",
       "    </tr>\n",
       "  </thead>\n",
       "  <tbody>\n",
       "    <tr>\n",
       "      <th>0</th>\n",
       "      <td>LogisticRegression</td>\n",
       "      <td>0.864306</td>\n",
       "      <td>0.933714</td>\n",
       "      <td>0.865195</td>\n",
       "      <td>0.864306</td>\n",
       "    </tr>\n",
       "    <tr>\n",
       "      <th>1</th>\n",
       "      <td>AdaBoost</td>\n",
       "      <td>0.905906</td>\n",
       "      <td>0.969340</td>\n",
       "      <td>0.905884</td>\n",
       "      <td>0.905906</td>\n",
       "    </tr>\n",
       "  </tbody>\n",
       "</table>\n",
       "</div>"
      ],
      "text/plain": [
       "                Model  Accuracy  auc_score  training_score  test_score\n",
       "0  LogisticRegression  0.864306   0.933714        0.865195    0.864306\n",
       "1            AdaBoost  0.905906   0.969340        0.905884    0.905906"
      ]
     },
     "execution_count": 81,
     "metadata": {},
     "output_type": "execute_result"
    }
   ],
   "source": [
    "new_row = {\"Model\": \"AdaBoost\",\"Accuracy\":acc2, \"auc_score\":auc_score2, \"training_score\":train_score2,'test_score':test_score2}\n",
    "models = models.append(new_row,ignore_index=True)\n",
    "models"
   ]
  },
  {
   "cell_type": "markdown",
   "id": "f77324b2",
   "metadata": {},
   "source": [
    "## Naïve Bayes\n"
   ]
  },
  {
   "cell_type": "code",
   "execution_count": 54,
   "id": "3c4f1600",
   "metadata": {},
   "outputs": [],
   "source": [
    "from sklearn.naive_bayes import GaussianNB,MultinomialNB"
   ]
  },
  {
   "cell_type": "code",
   "execution_count": 55,
   "id": "419ec1c3",
   "metadata": {},
   "outputs": [],
   "source": [
    "gaussiannb= GaussianNB(priors=[0.5,0.5])"
   ]
  },
  {
   "cell_type": "code",
   "execution_count": 56,
   "id": "c8c2ad15",
   "metadata": {},
   "outputs": [
    {
     "name": "stdout",
     "output_type": "stream",
     "text": [
      "Prediction\n",
      " ['yes' 'no' 'no' ... 'yes' 'no' 'yes']\n",
      "Training score 0.7933947632515281\n",
      "Testing score 0.7955005747441021\n",
      "Accuracy_Score 0.7955005747441021\n",
      "Confusion Matrix\n",
      " [[7288 1919]\n",
      " [1817 7245]]\n",
      "Classification Report\n",
      "               precision    recall  f1-score   support\n",
      "\n",
      "          no       0.80      0.79      0.80      9207\n",
      "         yes       0.79      0.80      0.80      9062\n",
      "\n",
      "    accuracy                           0.80     18269\n",
      "   macro avg       0.80      0.80      0.80     18269\n",
      "weighted avg       0.80      0.80      0.80     18269\n",
      "\n",
      "AUC Score 0.8823905239689692\n"
     ]
    }
   ],
   "source": [
    "acc3,auc_score3,train_score3,test_score3=gen_metrics(gaussiannb,x_train1,x_test1,y_train1,y_test1)"
   ]
  },
  {
   "cell_type": "code",
   "execution_count": 82,
   "id": "b6c82f24",
   "metadata": {
    "scrolled": true
   },
   "outputs": [
    {
     "data": {
      "text/html": [
       "<div>\n",
       "<style scoped>\n",
       "    .dataframe tbody tr th:only-of-type {\n",
       "        vertical-align: middle;\n",
       "    }\n",
       "\n",
       "    .dataframe tbody tr th {\n",
       "        vertical-align: top;\n",
       "    }\n",
       "\n",
       "    .dataframe thead th {\n",
       "        text-align: right;\n",
       "    }\n",
       "</style>\n",
       "<table border=\"1\" class=\"dataframe\">\n",
       "  <thead>\n",
       "    <tr style=\"text-align: right;\">\n",
       "      <th></th>\n",
       "      <th>Model</th>\n",
       "      <th>Accuracy</th>\n",
       "      <th>auc_score</th>\n",
       "      <th>training_score</th>\n",
       "      <th>test_score</th>\n",
       "    </tr>\n",
       "  </thead>\n",
       "  <tbody>\n",
       "    <tr>\n",
       "      <th>0</th>\n",
       "      <td>LogisticRegression</td>\n",
       "      <td>0.864306</td>\n",
       "      <td>0.933714</td>\n",
       "      <td>0.865195</td>\n",
       "      <td>0.864306</td>\n",
       "    </tr>\n",
       "    <tr>\n",
       "      <th>1</th>\n",
       "      <td>AdaBoost</td>\n",
       "      <td>0.905906</td>\n",
       "      <td>0.969340</td>\n",
       "      <td>0.905884</td>\n",
       "      <td>0.905906</td>\n",
       "    </tr>\n",
       "    <tr>\n",
       "      <th>2</th>\n",
       "      <td>Naive_gaussian</td>\n",
       "      <td>0.795501</td>\n",
       "      <td>0.882391</td>\n",
       "      <td>0.793395</td>\n",
       "      <td>0.795501</td>\n",
       "    </tr>\n",
       "  </tbody>\n",
       "</table>\n",
       "</div>"
      ],
      "text/plain": [
       "                Model  Accuracy  auc_score  training_score  test_score\n",
       "0  LogisticRegression  0.864306   0.933714        0.865195    0.864306\n",
       "1            AdaBoost  0.905906   0.969340        0.905884    0.905906\n",
       "2      Naive_gaussian  0.795501   0.882391        0.793395    0.795501"
      ]
     },
     "execution_count": 82,
     "metadata": {},
     "output_type": "execute_result"
    }
   ],
   "source": [
    "new_row = {\"Model\": \"Naive_gaussian\",\"Accuracy\":acc3, \"auc_score\":auc_score3, \"training_score\":train_score3,'test_score':test_score3}\n",
    "models = models.append(new_row,ignore_index=True)\n",
    "models"
   ]
  },
  {
   "cell_type": "markdown",
   "id": "453c5235",
   "metadata": {},
   "source": [
    "## KNN\n"
   ]
  },
  {
   "cell_type": "code",
   "execution_count": 58,
   "id": "86bfbc7e",
   "metadata": {},
   "outputs": [],
   "source": [
    "from sklearn.neighbors import KNeighborsClassifier"
   ]
  },
  {
   "cell_type": "code",
   "execution_count": 59,
   "id": "28ad3d0b",
   "metadata": {},
   "outputs": [],
   "source": [
    "knn = KNeighborsClassifier(n_neighbors=7)"
   ]
  },
  {
   "cell_type": "code",
   "execution_count": 74,
   "id": "e9873236",
   "metadata": {},
   "outputs": [
    {
     "name": "stdout",
     "output_type": "stream",
     "text": [
      "Prediction\n",
      " ['yes' 'no' 'no' ... 'yes' 'no' 'yes']\n",
      "Training score 0.7933947632515281\n",
      "Testing score 0.7955005747441021\n",
      "Accuracy_Score 0.7955005747441021\n",
      "Confusion Matrix\n",
      " [[7288 1919]\n",
      " [1817 7245]]\n",
      "Classification Report\n",
      "               precision    recall  f1-score   support\n",
      "\n",
      "          no       0.80      0.79      0.80      9207\n",
      "         yes       0.79      0.80      0.80      9062\n",
      "\n",
      "    accuracy                           0.80     18269\n",
      "   macro avg       0.80      0.80      0.80     18269\n",
      "weighted avg       0.80      0.80      0.80     18269\n",
      "\n",
      "AUC Score 0.8823905239689692\n"
     ]
    }
   ],
   "source": [
    "acc4,auc_score4,train_score4,test_score4=gen_metrics(gaussiannb,x_train1,x_test1,y_train1,y_test1)"
   ]
  },
  {
   "cell_type": "code",
   "execution_count": 83,
   "id": "9b036dee",
   "metadata": {},
   "outputs": [
    {
     "data": {
      "text/html": [
       "<div>\n",
       "<style scoped>\n",
       "    .dataframe tbody tr th:only-of-type {\n",
       "        vertical-align: middle;\n",
       "    }\n",
       "\n",
       "    .dataframe tbody tr th {\n",
       "        vertical-align: top;\n",
       "    }\n",
       "\n",
       "    .dataframe thead th {\n",
       "        text-align: right;\n",
       "    }\n",
       "</style>\n",
       "<table border=\"1\" class=\"dataframe\">\n",
       "  <thead>\n",
       "    <tr style=\"text-align: right;\">\n",
       "      <th></th>\n",
       "      <th>Model</th>\n",
       "      <th>Accuracy</th>\n",
       "      <th>auc_score</th>\n",
       "      <th>training_score</th>\n",
       "      <th>test_score</th>\n",
       "    </tr>\n",
       "  </thead>\n",
       "  <tbody>\n",
       "    <tr>\n",
       "      <th>0</th>\n",
       "      <td>LogisticRegression</td>\n",
       "      <td>0.864306</td>\n",
       "      <td>0.933714</td>\n",
       "      <td>0.865195</td>\n",
       "      <td>0.864306</td>\n",
       "    </tr>\n",
       "    <tr>\n",
       "      <th>1</th>\n",
       "      <td>AdaBoost</td>\n",
       "      <td>0.905906</td>\n",
       "      <td>0.969340</td>\n",
       "      <td>0.905884</td>\n",
       "      <td>0.905906</td>\n",
       "    </tr>\n",
       "    <tr>\n",
       "      <th>2</th>\n",
       "      <td>Naive_gaussian</td>\n",
       "      <td>0.795501</td>\n",
       "      <td>0.882391</td>\n",
       "      <td>0.793395</td>\n",
       "      <td>0.795501</td>\n",
       "    </tr>\n",
       "    <tr>\n",
       "      <th>3</th>\n",
       "      <td>KNN</td>\n",
       "      <td>0.795501</td>\n",
       "      <td>0.882391</td>\n",
       "      <td>0.793395</td>\n",
       "      <td>0.795501</td>\n",
       "    </tr>\n",
       "  </tbody>\n",
       "</table>\n",
       "</div>"
      ],
      "text/plain": [
       "                Model  Accuracy  auc_score  training_score  test_score\n",
       "0  LogisticRegression  0.864306   0.933714        0.865195    0.864306\n",
       "1            AdaBoost  0.905906   0.969340        0.905884    0.905906\n",
       "2      Naive_gaussian  0.795501   0.882391        0.793395    0.795501\n",
       "3                 KNN  0.795501   0.882391        0.793395    0.795501"
      ]
     },
     "execution_count": 83,
     "metadata": {},
     "output_type": "execute_result"
    }
   ],
   "source": [
    "new_row = {\"Model\": \"KNN\",\"Accuracy\":acc4, \"auc_score\":auc_score4, \"training_score\":train_score4,'test_score':test_score4}\n",
    "models = models.append(new_row,ignore_index=True)\n",
    "models"
   ]
  },
  {
   "cell_type": "markdown",
   "id": "5f313ba7",
   "metadata": {},
   "source": [
    "## SVM"
   ]
  },
  {
   "cell_type": "code",
   "execution_count": 62,
   "id": "0f7b64f9",
   "metadata": {},
   "outputs": [],
   "source": [
    "from sklearn.svm import SVC"
   ]
  },
  {
   "cell_type": "code",
   "execution_count": 63,
   "id": "5c4a8fb5",
   "metadata": {},
   "outputs": [],
   "source": [
    "from sklearn.model_selection import RandomizedSearchCV,GridSearchCV"
   ]
  },
  {
   "cell_type": "markdown",
   "id": "1136613d",
   "metadata": {},
   "source": [
    "note: tried to do random search in this model but it took more than 1 hour but stiill didnt get executed so i switched to single single run"
   ]
  },
  {
   "cell_type": "code",
   "execution_count": 86,
   "id": "74f3dd77",
   "metadata": {},
   "outputs": [
    {
     "name": "stdout",
     "output_type": "stream",
     "text": [
      "{'kernel': ['linear', 'poly'], 'C': [0.001, 0.01, 0.1, 1, 10], 'degree': [1, 2, 3]}\n"
     ]
    }
   ],
   "source": [
    "hparams_svc = {'kernel':['linear','poly'],\n",
    "              'C':[0.001,0.01,0.1,1,10],\n",
    "              'degree':[1,2,3]}\n",
    "\n",
    "print(hparams_svc)"
   ]
  },
  {
   "cell_type": "markdown",
   "id": "ad3dd62c",
   "metadata": {},
   "source": [
    "model_svc = SVC()<br>\n",
    "rs = RandomizedSearchCV(model_svc,param_distributions=hparams_svc,scoring='accuracy')<br>\n",
    "acc5,auc_score5,train_score5,test_score5=gen_metrics(rs,x_train1,x_test1,y_train1,y_test1)<br>\n"
   ]
  },
  {
   "cell_type": "code",
   "execution_count": 66,
   "id": "95f2fa83",
   "metadata": {},
   "outputs": [
    {
     "name": "stdout",
     "output_type": "stream",
     "text": [
      "Prediction\n",
      " ['yes' 'no' 'no' ... 'yes' 'no' 'yes']\n",
      "Training score 0.8687710975275978\n",
      "Testing score 0.8668235809294433\n",
      "Accuracy_Score 0.8668235809294433\n",
      "Confusion Matrix\n",
      " [[7550 1657]\n",
      " [ 776 8286]]\n",
      "Classification Report\n",
      "               precision    recall  f1-score   support\n",
      "\n",
      "          no       0.91      0.82      0.86      9207\n",
      "         yes       0.83      0.91      0.87      9062\n",
      "\n",
      "    accuracy                           0.87     18269\n",
      "   macro avg       0.87      0.87      0.87     18269\n",
      "weighted avg       0.87      0.87      0.87     18269\n",
      "\n",
      "AUC Score 0.9322575239680344\n"
     ]
    }
   ],
   "source": [
    "svc1 = SVC(kernel='linear',C=1,probability=True)\n",
    "acc5,auc_score5,train_score5,test_score5=gen_metrics(svc1,x_train1,x_test1,y_train1,y_test1)"
   ]
  },
  {
   "cell_type": "code",
   "execution_count": 84,
   "id": "2273bff5",
   "metadata": {
    "scrolled": true
   },
   "outputs": [
    {
     "data": {
      "text/html": [
       "<div>\n",
       "<style scoped>\n",
       "    .dataframe tbody tr th:only-of-type {\n",
       "        vertical-align: middle;\n",
       "    }\n",
       "\n",
       "    .dataframe tbody tr th {\n",
       "        vertical-align: top;\n",
       "    }\n",
       "\n",
       "    .dataframe thead th {\n",
       "        text-align: right;\n",
       "    }\n",
       "</style>\n",
       "<table border=\"1\" class=\"dataframe\">\n",
       "  <thead>\n",
       "    <tr style=\"text-align: right;\">\n",
       "      <th></th>\n",
       "      <th>Model</th>\n",
       "      <th>Accuracy</th>\n",
       "      <th>auc_score</th>\n",
       "      <th>training_score</th>\n",
       "      <th>test_score</th>\n",
       "    </tr>\n",
       "  </thead>\n",
       "  <tbody>\n",
       "    <tr>\n",
       "      <th>0</th>\n",
       "      <td>LogisticRegression</td>\n",
       "      <td>0.864306</td>\n",
       "      <td>0.933714</td>\n",
       "      <td>0.865195</td>\n",
       "      <td>0.864306</td>\n",
       "    </tr>\n",
       "    <tr>\n",
       "      <th>1</th>\n",
       "      <td>AdaBoost</td>\n",
       "      <td>0.905906</td>\n",
       "      <td>0.969340</td>\n",
       "      <td>0.905884</td>\n",
       "      <td>0.905906</td>\n",
       "    </tr>\n",
       "    <tr>\n",
       "      <th>2</th>\n",
       "      <td>Naive_gaussian</td>\n",
       "      <td>0.795501</td>\n",
       "      <td>0.882391</td>\n",
       "      <td>0.793395</td>\n",
       "      <td>0.795501</td>\n",
       "    </tr>\n",
       "    <tr>\n",
       "      <th>3</th>\n",
       "      <td>KNN</td>\n",
       "      <td>0.795501</td>\n",
       "      <td>0.882391</td>\n",
       "      <td>0.793395</td>\n",
       "      <td>0.795501</td>\n",
       "    </tr>\n",
       "    <tr>\n",
       "      <th>4</th>\n",
       "      <td>SVM_linear</td>\n",
       "      <td>0.866824</td>\n",
       "      <td>0.932258</td>\n",
       "      <td>0.868771</td>\n",
       "      <td>0.866824</td>\n",
       "    </tr>\n",
       "  </tbody>\n",
       "</table>\n",
       "</div>"
      ],
      "text/plain": [
       "                Model  Accuracy  auc_score  training_score  test_score\n",
       "0  LogisticRegression  0.864306   0.933714        0.865195    0.864306\n",
       "1            AdaBoost  0.905906   0.969340        0.905884    0.905906\n",
       "2      Naive_gaussian  0.795501   0.882391        0.793395    0.795501\n",
       "3                 KNN  0.795501   0.882391        0.793395    0.795501\n",
       "4          SVM_linear  0.866824   0.932258        0.868771    0.866824"
      ]
     },
     "execution_count": 84,
     "metadata": {},
     "output_type": "execute_result"
    }
   ],
   "source": [
    "new_row = {\"Model\": \"SVM_linear\",\"Accuracy\":acc5, \"auc_score\":auc_score5, \"training_score\":train_score5,'test_score':test_score5}\n",
    "models = models.append(new_row,ignore_index=True)\n",
    "models"
   ]
  },
  {
   "cell_type": "code",
   "execution_count": 70,
   "id": "7aa30380",
   "metadata": {},
   "outputs": [
    {
     "name": "stdout",
     "output_type": "stream",
     "text": [
      "Prediction\n",
      " ['yes' 'no' 'no' ... 'yes' 'no' 'yes']\n",
      "Training score 0.8986406349785604\n",
      "Testing score 0.8959986862991953\n",
      "Accuracy_Score 0.8959986862991953\n",
      "Confusion Matrix\n",
      " [[7893 1314]\n",
      " [ 586 8476]]\n",
      "Classification Report\n",
      "               precision    recall  f1-score   support\n",
      "\n",
      "          no       0.93      0.86      0.89      9207\n",
      "         yes       0.87      0.94      0.90      9062\n",
      "\n",
      "    accuracy                           0.90     18269\n",
      "   macro avg       0.90      0.90      0.90     18269\n",
      "weighted avg       0.90      0.90      0.90     18269\n",
      "\n",
      "AUC Score 0.9515574101508988\n"
     ]
    }
   ],
   "source": [
    "svc2 = SVC(kernel='poly',degree=3,probability=True)\n",
    "acc6,auc_score6,train_score6,test_score6=gen_metrics(svc2,x_train1,x_test1,y_train1,y_test1)"
   ]
  },
  {
   "cell_type": "code",
   "execution_count": 85,
   "id": "be2882d6",
   "metadata": {},
   "outputs": [
    {
     "data": {
      "text/html": [
       "<div>\n",
       "<style scoped>\n",
       "    .dataframe tbody tr th:only-of-type {\n",
       "        vertical-align: middle;\n",
       "    }\n",
       "\n",
       "    .dataframe tbody tr th {\n",
       "        vertical-align: top;\n",
       "    }\n",
       "\n",
       "    .dataframe thead th {\n",
       "        text-align: right;\n",
       "    }\n",
       "</style>\n",
       "<table border=\"1\" class=\"dataframe\">\n",
       "  <thead>\n",
       "    <tr style=\"text-align: right;\">\n",
       "      <th></th>\n",
       "      <th>Model</th>\n",
       "      <th>Accuracy</th>\n",
       "      <th>auc_score</th>\n",
       "      <th>training_score</th>\n",
       "      <th>test_score</th>\n",
       "    </tr>\n",
       "  </thead>\n",
       "  <tbody>\n",
       "    <tr>\n",
       "      <th>0</th>\n",
       "      <td>LogisticRegression</td>\n",
       "      <td>0.864306</td>\n",
       "      <td>0.933714</td>\n",
       "      <td>0.865195</td>\n",
       "      <td>0.864306</td>\n",
       "    </tr>\n",
       "    <tr>\n",
       "      <th>1</th>\n",
       "      <td>AdaBoost</td>\n",
       "      <td>0.905906</td>\n",
       "      <td>0.969340</td>\n",
       "      <td>0.905884</td>\n",
       "      <td>0.905906</td>\n",
       "    </tr>\n",
       "    <tr>\n",
       "      <th>2</th>\n",
       "      <td>Naive_gaussian</td>\n",
       "      <td>0.795501</td>\n",
       "      <td>0.882391</td>\n",
       "      <td>0.793395</td>\n",
       "      <td>0.795501</td>\n",
       "    </tr>\n",
       "    <tr>\n",
       "      <th>3</th>\n",
       "      <td>KNN</td>\n",
       "      <td>0.795501</td>\n",
       "      <td>0.882391</td>\n",
       "      <td>0.793395</td>\n",
       "      <td>0.795501</td>\n",
       "    </tr>\n",
       "    <tr>\n",
       "      <th>4</th>\n",
       "      <td>SVM_linear</td>\n",
       "      <td>0.866824</td>\n",
       "      <td>0.932258</td>\n",
       "      <td>0.868771</td>\n",
       "      <td>0.866824</td>\n",
       "    </tr>\n",
       "    <tr>\n",
       "      <th>5</th>\n",
       "      <td>SVM_Poly</td>\n",
       "      <td>0.895999</td>\n",
       "      <td>0.951557</td>\n",
       "      <td>0.898641</td>\n",
       "      <td>0.895999</td>\n",
       "    </tr>\n",
       "  </tbody>\n",
       "</table>\n",
       "</div>"
      ],
      "text/plain": [
       "                Model  Accuracy  auc_score  training_score  test_score\n",
       "0  LogisticRegression  0.864306   0.933714        0.865195    0.864306\n",
       "1            AdaBoost  0.905906   0.969340        0.905884    0.905906\n",
       "2      Naive_gaussian  0.795501   0.882391        0.793395    0.795501\n",
       "3                 KNN  0.795501   0.882391        0.793395    0.795501\n",
       "4          SVM_linear  0.866824   0.932258        0.868771    0.866824\n",
       "5            SVM_Poly  0.895999   0.951557        0.898641    0.895999"
      ]
     },
     "execution_count": 85,
     "metadata": {},
     "output_type": "execute_result"
    }
   ],
   "source": [
    "new_row = {\"Model\": \"SVM_Poly\",\"Accuracy\":acc6, \"auc_score\":auc_score6, \"training_score\":train_score6,'test_score':test_score6}\n",
    "models = models.append(new_row,ignore_index=True)\n",
    "models"
   ]
  },
  {
   "cell_type": "markdown",
   "id": "2f3d0f37",
   "metadata": {},
   "source": [
    "### INFERENCE : we can see that accuracy, training and testing score of AdaBoost is far better than the other models so according to tabular performance matrix AdaBoost is best suited model"
   ]
  },
  {
   "cell_type": "code",
   "execution_count": null,
   "id": "352628a0",
   "metadata": {},
   "outputs": [],
   "source": []
  }
 ],
 "metadata": {
  "kernelspec": {
   "display_name": "Python 3 (ipykernel)",
   "language": "python",
   "name": "python3"
  },
  "language_info": {
   "codemirror_mode": {
    "name": "ipython",
    "version": 3
   },
   "file_extension": ".py",
   "mimetype": "text/x-python",
   "name": "python",
   "nbconvert_exporter": "python",
   "pygments_lexer": "ipython3",
   "version": "3.9.7"
  }
 },
 "nbformat": 4,
 "nbformat_minor": 5
}
