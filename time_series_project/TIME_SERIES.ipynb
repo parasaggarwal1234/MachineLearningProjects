{
 "cells": [
  {
   "cell_type": "code",
   "execution_count": 8,
   "id": "26fd0c0b",
   "metadata": {},
   "outputs": [],
   "source": [
    "import numpy as np\n",
    "import pandas as pd\n",
    "import matplotlib.pyplot as plt\n",
    "import seaborn as sns\n",
    "from sklearn.metrics import mean_squared_error,mean_absolute_error,r2_score\n",
    "import warnings\n",
    "warnings.filterwarnings('ignore')"
   ]
  },
  {
   "cell_type": "code",
   "execution_count": 9,
   "id": "897b1d85",
   "metadata": {},
   "outputs": [],
   "source": [
    "from sklearn.metrics import mean_squared_error\n",
    "from statsmodels.tsa.seasonal import seasonal_decompose\n",
    "from statsmodels.tsa.stattools import adfuller,kpss\n",
    "from statsmodels.graphics.tsaplots import plot_acf,plot_pacf\n",
    "from statsmodels.tsa.arima.model import ARIMA"
   ]
  },
  {
   "cell_type": "code",
   "execution_count": 10,
   "id": "16368d6d",
   "metadata": {},
   "outputs": [
    {
     "data": {
      "text/html": [
       "<div>\n",
       "<style scoped>\n",
       "    .dataframe tbody tr th:only-of-type {\n",
       "        vertical-align: middle;\n",
       "    }\n",
       "\n",
       "    .dataframe tbody tr th {\n",
       "        vertical-align: top;\n",
       "    }\n",
       "\n",
       "    .dataframe thead th {\n",
       "        text-align: right;\n",
       "    }\n",
       "</style>\n",
       "<table border=\"1\" class=\"dataframe\">\n",
       "  <thead>\n",
       "    <tr style=\"text-align: right;\">\n",
       "      <th></th>\n",
       "      <th>market</th>\n",
       "      <th>month</th>\n",
       "      <th>year</th>\n",
       "      <th>quantity</th>\n",
       "      <th>priceMin</th>\n",
       "      <th>priceMax</th>\n",
       "      <th>priceMod</th>\n",
       "      <th>state</th>\n",
       "      <th>city</th>\n",
       "      <th>date</th>\n",
       "    </tr>\n",
       "  </thead>\n",
       "  <tbody>\n",
       "    <tr>\n",
       "      <th>0</th>\n",
       "      <td>ABOHAR(PB)</td>\n",
       "      <td>January</td>\n",
       "      <td>2005</td>\n",
       "      <td>2350</td>\n",
       "      <td>404</td>\n",
       "      <td>493</td>\n",
       "      <td>446</td>\n",
       "      <td>PB</td>\n",
       "      <td>ABOHAR</td>\n",
       "      <td>January-2005</td>\n",
       "    </tr>\n",
       "    <tr>\n",
       "      <th>1</th>\n",
       "      <td>ABOHAR(PB)</td>\n",
       "      <td>January</td>\n",
       "      <td>2006</td>\n",
       "      <td>900</td>\n",
       "      <td>487</td>\n",
       "      <td>638</td>\n",
       "      <td>563</td>\n",
       "      <td>PB</td>\n",
       "      <td>ABOHAR</td>\n",
       "      <td>January-2006</td>\n",
       "    </tr>\n",
       "    <tr>\n",
       "      <th>2</th>\n",
       "      <td>ABOHAR(PB)</td>\n",
       "      <td>January</td>\n",
       "      <td>2010</td>\n",
       "      <td>790</td>\n",
       "      <td>1283</td>\n",
       "      <td>1592</td>\n",
       "      <td>1460</td>\n",
       "      <td>PB</td>\n",
       "      <td>ABOHAR</td>\n",
       "      <td>January-2010</td>\n",
       "    </tr>\n",
       "    <tr>\n",
       "      <th>3</th>\n",
       "      <td>ABOHAR(PB)</td>\n",
       "      <td>January</td>\n",
       "      <td>2011</td>\n",
       "      <td>245</td>\n",
       "      <td>3067</td>\n",
       "      <td>3750</td>\n",
       "      <td>3433</td>\n",
       "      <td>PB</td>\n",
       "      <td>ABOHAR</td>\n",
       "      <td>January-2011</td>\n",
       "    </tr>\n",
       "    <tr>\n",
       "      <th>4</th>\n",
       "      <td>ABOHAR(PB)</td>\n",
       "      <td>January</td>\n",
       "      <td>2012</td>\n",
       "      <td>1035</td>\n",
       "      <td>523</td>\n",
       "      <td>686</td>\n",
       "      <td>605</td>\n",
       "      <td>PB</td>\n",
       "      <td>ABOHAR</td>\n",
       "      <td>January-2012</td>\n",
       "    </tr>\n",
       "  </tbody>\n",
       "</table>\n",
       "</div>"
      ],
      "text/plain": [
       "       market    month  year  quantity  priceMin  priceMax  priceMod state  \\\n",
       "0  ABOHAR(PB)  January  2005      2350       404       493       446    PB   \n",
       "1  ABOHAR(PB)  January  2006       900       487       638       563    PB   \n",
       "2  ABOHAR(PB)  January  2010       790      1283      1592      1460    PB   \n",
       "3  ABOHAR(PB)  January  2011       245      3067      3750      3433    PB   \n",
       "4  ABOHAR(PB)  January  2012      1035       523       686       605    PB   \n",
       "\n",
       "     city          date  \n",
       "0  ABOHAR  January-2005  \n",
       "1  ABOHAR  January-2006  \n",
       "2  ABOHAR  January-2010  \n",
       "3  ABOHAR  January-2011  \n",
       "4  ABOHAR  January-2012  "
      ]
     },
     "execution_count": 10,
     "metadata": {},
     "output_type": "execute_result"
    }
   ],
   "source": [
    "df=pd.read_csv('MonthWiseMarketArrivals_Clean.csv')\n",
    "df.head()"
   ]
  },
  {
   "cell_type": "markdown",
   "id": "5cea1efe",
   "metadata": {},
   "source": [
    "Q1. Get the modal price of onion for each month for the Mumbai market (Hint: set monthly date as index and drop redundant columns)"
   ]
  },
  {
   "cell_type": "code",
   "execution_count": 11,
   "id": "a208af9a",
   "metadata": {},
   "outputs": [
    {
     "data": {
      "text/html": [
       "<div>\n",
       "<style scoped>\n",
       "    .dataframe tbody tr th:only-of-type {\n",
       "        vertical-align: middle;\n",
       "    }\n",
       "\n",
       "    .dataframe tbody tr th {\n",
       "        vertical-align: top;\n",
       "    }\n",
       "\n",
       "    .dataframe thead th {\n",
       "        text-align: right;\n",
       "    }\n",
       "</style>\n",
       "<table border=\"1\" class=\"dataframe\">\n",
       "  <thead>\n",
       "    <tr style=\"text-align: right;\">\n",
       "      <th></th>\n",
       "      <th>market</th>\n",
       "      <th>month</th>\n",
       "      <th>year</th>\n",
       "      <th>quantity</th>\n",
       "      <th>priceMin</th>\n",
       "      <th>priceMax</th>\n",
       "      <th>priceMod</th>\n",
       "      <th>state</th>\n",
       "      <th>city</th>\n",
       "      <th>date</th>\n",
       "    </tr>\n",
       "  </thead>\n",
       "  <tbody>\n",
       "    <tr>\n",
       "      <th>0</th>\n",
       "      <td>ABOHAR(PB)</td>\n",
       "      <td>January</td>\n",
       "      <td>2005</td>\n",
       "      <td>2350</td>\n",
       "      <td>404</td>\n",
       "      <td>493</td>\n",
       "      <td>446</td>\n",
       "      <td>PB</td>\n",
       "      <td>ABOHAR</td>\n",
       "      <td>January-2005</td>\n",
       "    </tr>\n",
       "    <tr>\n",
       "      <th>1</th>\n",
       "      <td>ABOHAR(PB)</td>\n",
       "      <td>January</td>\n",
       "      <td>2006</td>\n",
       "      <td>900</td>\n",
       "      <td>487</td>\n",
       "      <td>638</td>\n",
       "      <td>563</td>\n",
       "      <td>PB</td>\n",
       "      <td>ABOHAR</td>\n",
       "      <td>January-2006</td>\n",
       "    </tr>\n",
       "    <tr>\n",
       "      <th>2</th>\n",
       "      <td>ABOHAR(PB)</td>\n",
       "      <td>January</td>\n",
       "      <td>2010</td>\n",
       "      <td>790</td>\n",
       "      <td>1283</td>\n",
       "      <td>1592</td>\n",
       "      <td>1460</td>\n",
       "      <td>PB</td>\n",
       "      <td>ABOHAR</td>\n",
       "      <td>January-2010</td>\n",
       "    </tr>\n",
       "    <tr>\n",
       "      <th>3</th>\n",
       "      <td>ABOHAR(PB)</td>\n",
       "      <td>January</td>\n",
       "      <td>2011</td>\n",
       "      <td>245</td>\n",
       "      <td>3067</td>\n",
       "      <td>3750</td>\n",
       "      <td>3433</td>\n",
       "      <td>PB</td>\n",
       "      <td>ABOHAR</td>\n",
       "      <td>January-2011</td>\n",
       "    </tr>\n",
       "    <tr>\n",
       "      <th>4</th>\n",
       "      <td>ABOHAR(PB)</td>\n",
       "      <td>January</td>\n",
       "      <td>2012</td>\n",
       "      <td>1035</td>\n",
       "      <td>523</td>\n",
       "      <td>686</td>\n",
       "      <td>605</td>\n",
       "      <td>PB</td>\n",
       "      <td>ABOHAR</td>\n",
       "      <td>January-2012</td>\n",
       "    </tr>\n",
       "  </tbody>\n",
       "</table>\n",
       "</div>"
      ],
      "text/plain": [
       "       market    month  year  quantity  priceMin  priceMax  priceMod state  \\\n",
       "0  ABOHAR(PB)  January  2005      2350       404       493       446    PB   \n",
       "1  ABOHAR(PB)  January  2006       900       487       638       563    PB   \n",
       "2  ABOHAR(PB)  January  2010       790      1283      1592      1460    PB   \n",
       "3  ABOHAR(PB)  January  2011       245      3067      3750      3433    PB   \n",
       "4  ABOHAR(PB)  January  2012      1035       523       686       605    PB   \n",
       "\n",
       "     city          date  \n",
       "0  ABOHAR  January-2005  \n",
       "1  ABOHAR  January-2006  \n",
       "2  ABOHAR  January-2010  \n",
       "3  ABOHAR  January-2011  \n",
       "4  ABOHAR  January-2012  "
      ]
     },
     "execution_count": 11,
     "metadata": {},
     "output_type": "execute_result"
    }
   ],
   "source": [
    "df1=df.copy()\n",
    "df1.head()"
   ]
  },
  {
   "cell_type": "code",
   "execution_count": 12,
   "id": "30b8b2f3",
   "metadata": {},
   "outputs": [],
   "source": [
    "df1.date= pd.DatetimeIndex(df1.date)"
   ]
  },
  {
   "cell_type": "code",
   "execution_count": 13,
   "id": "ff688aa6",
   "metadata": {},
   "outputs": [
    {
     "data": {
      "text/html": [
       "<div>\n",
       "<style scoped>\n",
       "    .dataframe tbody tr th:only-of-type {\n",
       "        vertical-align: middle;\n",
       "    }\n",
       "\n",
       "    .dataframe tbody tr th {\n",
       "        vertical-align: top;\n",
       "    }\n",
       "\n",
       "    .dataframe thead th {\n",
       "        text-align: right;\n",
       "    }\n",
       "</style>\n",
       "<table border=\"1\" class=\"dataframe\">\n",
       "  <thead>\n",
       "    <tr style=\"text-align: right;\">\n",
       "      <th></th>\n",
       "      <th>market</th>\n",
       "      <th>month</th>\n",
       "      <th>year</th>\n",
       "      <th>quantity</th>\n",
       "      <th>priceMin</th>\n",
       "      <th>priceMax</th>\n",
       "      <th>priceMod</th>\n",
       "      <th>state</th>\n",
       "      <th>city</th>\n",
       "      <th>date</th>\n",
       "    </tr>\n",
       "  </thead>\n",
       "  <tbody>\n",
       "    <tr>\n",
       "      <th>0</th>\n",
       "      <td>ABOHAR(PB)</td>\n",
       "      <td>January</td>\n",
       "      <td>2005</td>\n",
       "      <td>2350</td>\n",
       "      <td>404</td>\n",
       "      <td>493</td>\n",
       "      <td>446</td>\n",
       "      <td>PB</td>\n",
       "      <td>ABOHAR</td>\n",
       "      <td>2005-01-01</td>\n",
       "    </tr>\n",
       "    <tr>\n",
       "      <th>1</th>\n",
       "      <td>ABOHAR(PB)</td>\n",
       "      <td>January</td>\n",
       "      <td>2006</td>\n",
       "      <td>900</td>\n",
       "      <td>487</td>\n",
       "      <td>638</td>\n",
       "      <td>563</td>\n",
       "      <td>PB</td>\n",
       "      <td>ABOHAR</td>\n",
       "      <td>2006-01-01</td>\n",
       "    </tr>\n",
       "    <tr>\n",
       "      <th>2</th>\n",
       "      <td>ABOHAR(PB)</td>\n",
       "      <td>January</td>\n",
       "      <td>2010</td>\n",
       "      <td>790</td>\n",
       "      <td>1283</td>\n",
       "      <td>1592</td>\n",
       "      <td>1460</td>\n",
       "      <td>PB</td>\n",
       "      <td>ABOHAR</td>\n",
       "      <td>2010-01-01</td>\n",
       "    </tr>\n",
       "    <tr>\n",
       "      <th>3</th>\n",
       "      <td>ABOHAR(PB)</td>\n",
       "      <td>January</td>\n",
       "      <td>2011</td>\n",
       "      <td>245</td>\n",
       "      <td>3067</td>\n",
       "      <td>3750</td>\n",
       "      <td>3433</td>\n",
       "      <td>PB</td>\n",
       "      <td>ABOHAR</td>\n",
       "      <td>2011-01-01</td>\n",
       "    </tr>\n",
       "    <tr>\n",
       "      <th>4</th>\n",
       "      <td>ABOHAR(PB)</td>\n",
       "      <td>January</td>\n",
       "      <td>2012</td>\n",
       "      <td>1035</td>\n",
       "      <td>523</td>\n",
       "      <td>686</td>\n",
       "      <td>605</td>\n",
       "      <td>PB</td>\n",
       "      <td>ABOHAR</td>\n",
       "      <td>2012-01-01</td>\n",
       "    </tr>\n",
       "  </tbody>\n",
       "</table>\n",
       "</div>"
      ],
      "text/plain": [
       "       market    month  year  quantity  priceMin  priceMax  priceMod state  \\\n",
       "0  ABOHAR(PB)  January  2005      2350       404       493       446    PB   \n",
       "1  ABOHAR(PB)  January  2006       900       487       638       563    PB   \n",
       "2  ABOHAR(PB)  January  2010       790      1283      1592      1460    PB   \n",
       "3  ABOHAR(PB)  January  2011       245      3067      3750      3433    PB   \n",
       "4  ABOHAR(PB)  January  2012      1035       523       686       605    PB   \n",
       "\n",
       "     city       date  \n",
       "0  ABOHAR 2005-01-01  \n",
       "1  ABOHAR 2006-01-01  \n",
       "2  ABOHAR 2010-01-01  \n",
       "3  ABOHAR 2011-01-01  \n",
       "4  ABOHAR 2012-01-01  "
      ]
     },
     "execution_count": 13,
     "metadata": {},
     "output_type": "execute_result"
    }
   ],
   "source": [
    "df1.head()"
   ]
  },
  {
   "cell_type": "code",
   "execution_count": 14,
   "id": "af2f3693",
   "metadata": {},
   "outputs": [
    {
     "data": {
      "text/html": [
       "<div>\n",
       "<style scoped>\n",
       "    .dataframe tbody tr th:only-of-type {\n",
       "        vertical-align: middle;\n",
       "    }\n",
       "\n",
       "    .dataframe tbody tr th {\n",
       "        vertical-align: top;\n",
       "    }\n",
       "\n",
       "    .dataframe thead th {\n",
       "        text-align: right;\n",
       "    }\n",
       "</style>\n",
       "<table border=\"1\" class=\"dataframe\">\n",
       "  <thead>\n",
       "    <tr style=\"text-align: right;\">\n",
       "      <th></th>\n",
       "      <th>market</th>\n",
       "      <th>month</th>\n",
       "      <th>year</th>\n",
       "      <th>quantity</th>\n",
       "      <th>priceMin</th>\n",
       "      <th>priceMax</th>\n",
       "      <th>priceMod</th>\n",
       "      <th>state</th>\n",
       "      <th>city</th>\n",
       "      <th>date</th>\n",
       "    </tr>\n",
       "  </thead>\n",
       "  <tbody>\n",
       "    <tr>\n",
       "      <th>5399</th>\n",
       "      <td>LASALGAON(MS)</td>\n",
       "      <td>January</td>\n",
       "      <td>1996</td>\n",
       "      <td>225063</td>\n",
       "      <td>160</td>\n",
       "      <td>257</td>\n",
       "      <td>226</td>\n",
       "      <td>MS</td>\n",
       "      <td>LASALGAON</td>\n",
       "      <td>1996-01-01</td>\n",
       "    </tr>\n",
       "    <tr>\n",
       "      <th>5420</th>\n",
       "      <td>LASALGAON(MS)</td>\n",
       "      <td>February</td>\n",
       "      <td>1996</td>\n",
       "      <td>196164</td>\n",
       "      <td>133</td>\n",
       "      <td>229</td>\n",
       "      <td>186</td>\n",
       "      <td>MS</td>\n",
       "      <td>LASALGAON</td>\n",
       "      <td>1996-02-01</td>\n",
       "    </tr>\n",
       "    <tr>\n",
       "      <th>5441</th>\n",
       "      <td>LASALGAON(MS)</td>\n",
       "      <td>March</td>\n",
       "      <td>1996</td>\n",
       "      <td>178992</td>\n",
       "      <td>155</td>\n",
       "      <td>274</td>\n",
       "      <td>243</td>\n",
       "      <td>MS</td>\n",
       "      <td>LASALGAON</td>\n",
       "      <td>1996-03-01</td>\n",
       "    </tr>\n",
       "    <tr>\n",
       "      <th>5461</th>\n",
       "      <td>LASALGAON(MS)</td>\n",
       "      <td>April</td>\n",
       "      <td>1996</td>\n",
       "      <td>192592</td>\n",
       "      <td>136</td>\n",
       "      <td>279</td>\n",
       "      <td>254</td>\n",
       "      <td>MS</td>\n",
       "      <td>LASALGAON</td>\n",
       "      <td>1996-04-01</td>\n",
       "    </tr>\n",
       "    <tr>\n",
       "      <th>5481</th>\n",
       "      <td>LASALGAON(MS)</td>\n",
       "      <td>May</td>\n",
       "      <td>1996</td>\n",
       "      <td>237574</td>\n",
       "      <td>154</td>\n",
       "      <td>312</td>\n",
       "      <td>269</td>\n",
       "      <td>MS</td>\n",
       "      <td>LASALGAON</td>\n",
       "      <td>1996-05-01</td>\n",
       "    </tr>\n",
       "  </tbody>\n",
       "</table>\n",
       "</div>"
      ],
      "text/plain": [
       "             market     month  year  quantity  priceMin  priceMax  priceMod  \\\n",
       "5399  LASALGAON(MS)   January  1996    225063       160       257       226   \n",
       "5420  LASALGAON(MS)  February  1996    196164       133       229       186   \n",
       "5441  LASALGAON(MS)     March  1996    178992       155       274       243   \n",
       "5461  LASALGAON(MS)     April  1996    192592       136       279       254   \n",
       "5481  LASALGAON(MS)       May  1996    237574       154       312       269   \n",
       "\n",
       "     state       city       date  \n",
       "5399    MS  LASALGAON 1996-01-01  \n",
       "5420    MS  LASALGAON 1996-02-01  \n",
       "5441    MS  LASALGAON 1996-03-01  \n",
       "5461    MS  LASALGAON 1996-04-01  \n",
       "5481    MS  LASALGAON 1996-05-01  "
      ]
     },
     "execution_count": 14,
     "metadata": {},
     "output_type": "execute_result"
    }
   ],
   "source": [
    "df1.sort_values('date',inplace=True)\n",
    "df1.head()"
   ]
  },
  {
   "cell_type": "code",
   "execution_count": 15,
   "id": "4184939c",
   "metadata": {},
   "outputs": [
    {
     "data": {
      "text/html": [
       "<div>\n",
       "<style scoped>\n",
       "    .dataframe tbody tr th:only-of-type {\n",
       "        vertical-align: middle;\n",
       "    }\n",
       "\n",
       "    .dataframe tbody tr th {\n",
       "        vertical-align: top;\n",
       "    }\n",
       "\n",
       "    .dataframe thead th {\n",
       "        text-align: right;\n",
       "    }\n",
       "</style>\n",
       "<table border=\"1\" class=\"dataframe\">\n",
       "  <thead>\n",
       "    <tr style=\"text-align: right;\">\n",
       "      <th></th>\n",
       "      <th>market</th>\n",
       "      <th>month</th>\n",
       "      <th>year</th>\n",
       "      <th>quantity</th>\n",
       "      <th>priceMin</th>\n",
       "      <th>priceMax</th>\n",
       "      <th>priceMod</th>\n",
       "      <th>state</th>\n",
       "      <th>city</th>\n",
       "    </tr>\n",
       "    <tr>\n",
       "      <th>date</th>\n",
       "      <th></th>\n",
       "      <th></th>\n",
       "      <th></th>\n",
       "      <th></th>\n",
       "      <th></th>\n",
       "      <th></th>\n",
       "      <th></th>\n",
       "      <th></th>\n",
       "      <th></th>\n",
       "    </tr>\n",
       "  </thead>\n",
       "  <tbody>\n",
       "    <tr>\n",
       "      <th>1996-01-01</th>\n",
       "      <td>LASALGAON(MS)</td>\n",
       "      <td>January</td>\n",
       "      <td>1996</td>\n",
       "      <td>225063</td>\n",
       "      <td>160</td>\n",
       "      <td>257</td>\n",
       "      <td>226</td>\n",
       "      <td>MS</td>\n",
       "      <td>LASALGAON</td>\n",
       "    </tr>\n",
       "    <tr>\n",
       "      <th>1996-02-01</th>\n",
       "      <td>LASALGAON(MS)</td>\n",
       "      <td>February</td>\n",
       "      <td>1996</td>\n",
       "      <td>196164</td>\n",
       "      <td>133</td>\n",
       "      <td>229</td>\n",
       "      <td>186</td>\n",
       "      <td>MS</td>\n",
       "      <td>LASALGAON</td>\n",
       "    </tr>\n",
       "    <tr>\n",
       "      <th>1996-03-01</th>\n",
       "      <td>LASALGAON(MS)</td>\n",
       "      <td>March</td>\n",
       "      <td>1996</td>\n",
       "      <td>178992</td>\n",
       "      <td>155</td>\n",
       "      <td>274</td>\n",
       "      <td>243</td>\n",
       "      <td>MS</td>\n",
       "      <td>LASALGAON</td>\n",
       "    </tr>\n",
       "    <tr>\n",
       "      <th>1996-04-01</th>\n",
       "      <td>LASALGAON(MS)</td>\n",
       "      <td>April</td>\n",
       "      <td>1996</td>\n",
       "      <td>192592</td>\n",
       "      <td>136</td>\n",
       "      <td>279</td>\n",
       "      <td>254</td>\n",
       "      <td>MS</td>\n",
       "      <td>LASALGAON</td>\n",
       "    </tr>\n",
       "    <tr>\n",
       "      <th>1996-05-01</th>\n",
       "      <td>LASALGAON(MS)</td>\n",
       "      <td>May</td>\n",
       "      <td>1996</td>\n",
       "      <td>237574</td>\n",
       "      <td>154</td>\n",
       "      <td>312</td>\n",
       "      <td>269</td>\n",
       "      <td>MS</td>\n",
       "      <td>LASALGAON</td>\n",
       "    </tr>\n",
       "  </tbody>\n",
       "</table>\n",
       "</div>"
      ],
      "text/plain": [
       "                   market     month  year  quantity  priceMin  priceMax  \\\n",
       "date                                                                      \n",
       "1996-01-01  LASALGAON(MS)   January  1996    225063       160       257   \n",
       "1996-02-01  LASALGAON(MS)  February  1996    196164       133       229   \n",
       "1996-03-01  LASALGAON(MS)     March  1996    178992       155       274   \n",
       "1996-04-01  LASALGAON(MS)     April  1996    192592       136       279   \n",
       "1996-05-01  LASALGAON(MS)       May  1996    237574       154       312   \n",
       "\n",
       "            priceMod state       city  \n",
       "date                                   \n",
       "1996-01-01       226    MS  LASALGAON  \n",
       "1996-02-01       186    MS  LASALGAON  \n",
       "1996-03-01       243    MS  LASALGAON  \n",
       "1996-04-01       254    MS  LASALGAON  \n",
       "1996-05-01       269    MS  LASALGAON  "
      ]
     },
     "execution_count": 15,
     "metadata": {},
     "output_type": "execute_result"
    }
   ],
   "source": [
    "df1.set_index('date',inplace=True)\n",
    "df1.head()"
   ]
  },
  {
   "cell_type": "code",
   "execution_count": 16,
   "id": "47223cc5",
   "metadata": {},
   "outputs": [
    {
     "data": {
      "text/html": [
       "<div>\n",
       "<style scoped>\n",
       "    .dataframe tbody tr th:only-of-type {\n",
       "        vertical-align: middle;\n",
       "    }\n",
       "\n",
       "    .dataframe tbody tr th {\n",
       "        vertical-align: top;\n",
       "    }\n",
       "\n",
       "    .dataframe thead th {\n",
       "        text-align: right;\n",
       "    }\n",
       "</style>\n",
       "<table border=\"1\" class=\"dataframe\">\n",
       "  <thead>\n",
       "    <tr style=\"text-align: right;\">\n",
       "      <th></th>\n",
       "      <th>market</th>\n",
       "      <th>month</th>\n",
       "      <th>year</th>\n",
       "      <th>quantity</th>\n",
       "      <th>priceMin</th>\n",
       "      <th>priceMax</th>\n",
       "      <th>priceMod</th>\n",
       "      <th>state</th>\n",
       "      <th>city</th>\n",
       "    </tr>\n",
       "    <tr>\n",
       "      <th>date</th>\n",
       "      <th></th>\n",
       "      <th></th>\n",
       "      <th></th>\n",
       "      <th></th>\n",
       "      <th></th>\n",
       "      <th></th>\n",
       "      <th></th>\n",
       "      <th></th>\n",
       "      <th></th>\n",
       "    </tr>\n",
       "  </thead>\n",
       "  <tbody>\n",
       "    <tr>\n",
       "      <th>2004-01-01</th>\n",
       "      <td>MUMBAI</td>\n",
       "      <td>January</td>\n",
       "      <td>2004</td>\n",
       "      <td>267100</td>\n",
       "      <td>719</td>\n",
       "      <td>971</td>\n",
       "      <td>849</td>\n",
       "      <td>MS</td>\n",
       "      <td>MUMBAI</td>\n",
       "    </tr>\n",
       "    <tr>\n",
       "      <th>2004-02-01</th>\n",
       "      <td>MUMBAI</td>\n",
       "      <td>February</td>\n",
       "      <td>2004</td>\n",
       "      <td>239350</td>\n",
       "      <td>614</td>\n",
       "      <td>834</td>\n",
       "      <td>736</td>\n",
       "      <td>MS</td>\n",
       "      <td>MUMBAI</td>\n",
       "    </tr>\n",
       "    <tr>\n",
       "      <th>2004-03-01</th>\n",
       "      <td>MUMBAI</td>\n",
       "      <td>March</td>\n",
       "      <td>2004</td>\n",
       "      <td>238000</td>\n",
       "      <td>436</td>\n",
       "      <td>557</td>\n",
       "      <td>498</td>\n",
       "      <td>MS</td>\n",
       "      <td>MUMBAI</td>\n",
       "    </tr>\n",
       "    <tr>\n",
       "      <th>2004-04-01</th>\n",
       "      <td>MUMBAI</td>\n",
       "      <td>April</td>\n",
       "      <td>2004</td>\n",
       "      <td>198200</td>\n",
       "      <td>346</td>\n",
       "      <td>475</td>\n",
       "      <td>397</td>\n",
       "      <td>MS</td>\n",
       "      <td>MUMBAI</td>\n",
       "    </tr>\n",
       "    <tr>\n",
       "      <th>2004-05-01</th>\n",
       "      <td>MUMBAI</td>\n",
       "      <td>May</td>\n",
       "      <td>2004</td>\n",
       "      <td>166430</td>\n",
       "      <td>357</td>\n",
       "      <td>466</td>\n",
       "      <td>405</td>\n",
       "      <td>MS</td>\n",
       "      <td>MUMBAI</td>\n",
       "    </tr>\n",
       "  </tbody>\n",
       "</table>\n",
       "</div>"
      ],
      "text/plain": [
       "            market     month  year  quantity  priceMin  priceMax  priceMod  \\\n",
       "date                                                                         \n",
       "2004-01-01  MUMBAI   January  2004    267100       719       971       849   \n",
       "2004-02-01  MUMBAI  February  2004    239350       614       834       736   \n",
       "2004-03-01  MUMBAI     March  2004    238000       436       557       498   \n",
       "2004-04-01  MUMBAI     April  2004    198200       346       475       397   \n",
       "2004-05-01  MUMBAI       May  2004    166430       357       466       405   \n",
       "\n",
       "           state    city  \n",
       "date                      \n",
       "2004-01-01    MS  MUMBAI  \n",
       "2004-02-01    MS  MUMBAI  \n",
       "2004-03-01    MS  MUMBAI  \n",
       "2004-04-01    MS  MUMBAI  \n",
       "2004-05-01    MS  MUMBAI  "
      ]
     },
     "execution_count": 16,
     "metadata": {},
     "output_type": "execute_result"
    }
   ],
   "source": [
    "df2 = df1.loc[df1.city == \"MUMBAI\"].copy()\n",
    "df2.head()"
   ]
  },
  {
   "cell_type": "code",
   "execution_count": 18,
   "id": "dae287c9",
   "metadata": {},
   "outputs": [],
   "source": [
    "df2 = df2.drop([\"market\",\"year\",\"priceMin\",\"priceMax\",\"state\",\"quantity\"], axis=1)"
   ]
  },
  {
   "cell_type": "code",
   "execution_count": 21,
   "id": "10c60c34",
   "metadata": {},
   "outputs": [
    {
     "data": {
      "text/html": [
       "<div>\n",
       "<style scoped>\n",
       "    .dataframe tbody tr th:only-of-type {\n",
       "        vertical-align: middle;\n",
       "    }\n",
       "\n",
       "    .dataframe tbody tr th {\n",
       "        vertical-align: top;\n",
       "    }\n",
       "\n",
       "    .dataframe thead th {\n",
       "        text-align: right;\n",
       "    }\n",
       "</style>\n",
       "<table border=\"1\" class=\"dataframe\">\n",
       "  <thead>\n",
       "    <tr style=\"text-align: right;\">\n",
       "      <th></th>\n",
       "      <th>month</th>\n",
       "      <th>priceMod</th>\n",
       "      <th>city</th>\n",
       "    </tr>\n",
       "    <tr>\n",
       "      <th>date</th>\n",
       "      <th></th>\n",
       "      <th></th>\n",
       "      <th></th>\n",
       "    </tr>\n",
       "  </thead>\n",
       "  <tbody>\n",
       "    <tr>\n",
       "      <th>2004-01-01</th>\n",
       "      <td>January</td>\n",
       "      <td>849</td>\n",
       "      <td>MUMBAI</td>\n",
       "    </tr>\n",
       "    <tr>\n",
       "      <th>2004-02-01</th>\n",
       "      <td>February</td>\n",
       "      <td>736</td>\n",
       "      <td>MUMBAI</td>\n",
       "    </tr>\n",
       "    <tr>\n",
       "      <th>2004-03-01</th>\n",
       "      <td>March</td>\n",
       "      <td>498</td>\n",
       "      <td>MUMBAI</td>\n",
       "    </tr>\n",
       "    <tr>\n",
       "      <th>2004-04-01</th>\n",
       "      <td>April</td>\n",
       "      <td>397</td>\n",
       "      <td>MUMBAI</td>\n",
       "    </tr>\n",
       "    <tr>\n",
       "      <th>2004-05-01</th>\n",
       "      <td>May</td>\n",
       "      <td>405</td>\n",
       "      <td>MUMBAI</td>\n",
       "    </tr>\n",
       "  </tbody>\n",
       "</table>\n",
       "</div>"
      ],
      "text/plain": [
       "               month  priceMod    city\n",
       "date                                  \n",
       "2004-01-01   January       849  MUMBAI\n",
       "2004-02-01  February       736  MUMBAI\n",
       "2004-03-01     March       498  MUMBAI\n",
       "2004-04-01     April       397  MUMBAI\n",
       "2004-05-01       May       405  MUMBAI"
      ]
     },
     "execution_count": 21,
     "metadata": {},
     "output_type": "execute_result"
    }
   ],
   "source": [
    "df2.head()"
   ]
  },
  {
   "cell_type": "markdown",
   "id": "4f54c196",
   "metadata": {},
   "source": [
    "# Stationarity Check"
   ]
  },
  {
   "cell_type": "code",
   "execution_count": 22,
   "id": "901e0d72",
   "metadata": {},
   "outputs": [],
   "source": [
    "def adf_test(data):\n",
    "    res = adfuller(data)\n",
    "    print('ADF Statistic:',res[0])\n",
    "    print('p-value:',res[1])\n",
    "    if res[1]>0.05:\n",
    "        print('Ho accpeted - Data is not stationary')\n",
    "    else:\n",
    "        print('H1 accpeted - Data is stationary')  "
   ]
  },
  {
   "cell_type": "code",
   "execution_count": 24,
   "id": "9157fd49",
   "metadata": {},
   "outputs": [
    {
     "name": "stdout",
     "output_type": "stream",
     "text": [
      "ADF Statistic: -4.437736321058303\n",
      "p-value: 0.00025436714348672806\n",
      "H1 accpeted - Data is stationary\n"
     ]
    }
   ],
   "source": [
    "adf_test(df2['priceMod'])"
   ]
  },
  {
   "cell_type": "code",
   "execution_count": 29,
   "id": "933fb707",
   "metadata": {},
   "outputs": [
    {
     "data": {
      "image/png": "[encoded data removed]",
      "text/plain": [
       "<Figure size 432x288 with 1 Axes>"
      ]
     },
     "metadata": {
      "needs_background": "light"
     },
     "output_type": "display_data"
    }
   ],
   "source": [
    "plt.plot(df2['priceMod'])\n",
    "plt.show()"
   ]
  },
  {
   "cell_type": "markdown",
   "id": "165dc3af",
   "metadata": {},
   "source": [
    "# Plotting ACF and PACF Functions"
   ]
  },
  {
   "cell_type": "code",
   "execution_count": 31,
   "id": "cd99a6cc",
   "metadata": {},
   "outputs": [
    {
     "data": {
      "image/png": "[encoded data removed]",
      "text/plain": [
       "<Figure size 432x288 with 1 Axes>"
      ]
     },
     "metadata": {
      "needs_background": "light"
     },
     "output_type": "display_data"
    }
   ],
   "source": [
    "plot_acf(df2['priceMod'],lags=50)\n",
    "plt.show()\n",
    "# from pacf plot we get 'q'=18 (the fist value where it go negative)"
   ]
  },
  {
   "cell_type": "code",
   "execution_count": 30,
   "id": "b75f8a6d",
   "metadata": {},
   "outputs": [
    {
     "data": {
      "image/png": "[encoded data removed]",
      "text/plain": [
       "<Figure size 432x288 with 1 Axes>"
      ]
     },
     "metadata": {
      "needs_background": "light"
     },
     "output_type": "display_data"
    }
   ],
   "source": [
    "plot_pacf(df2['priceMod'],lags=20)\n",
    "plt.show()\n",
    "# from pacf plot we get 'p'=2 (the fist value where it go negative)"
   ]
  },
  {
   "cell_type": "markdown",
   "id": "9d38af22",
   "metadata": {},
   "source": [
    "Best Approach (Most appropriate approach)\n",
    "1) Use pmdarima - It handles the effect of seasonality as well efficiently"
   ]
  },
  {
   "cell_type": "markdown",
   "id": "e2f96dd0",
   "metadata": {},
   "source": [
    "# Splitting the data into train and test"
   ]
  },
  {
   "cell_type": "code",
   "execution_count": 40,
   "id": "13884e1f",
   "metadata": {},
   "outputs": [
    {
     "data": {
      "text/html": [
       "<div>\n",
       "<style scoped>\n",
       "    .dataframe tbody tr th:only-of-type {\n",
       "        vertical-align: middle;\n",
       "    }\n",
       "\n",
       "    .dataframe tbody tr th {\n",
       "        vertical-align: top;\n",
       "    }\n",
       "\n",
       "    .dataframe thead th {\n",
       "        text-align: right;\n",
       "    }\n",
       "</style>\n",
       "<table border=\"1\" class=\"dataframe\">\n",
       "  <thead>\n",
       "    <tr style=\"text-align: right;\">\n",
       "      <th></th>\n",
       "      <th>priceMod</th>\n",
       "    </tr>\n",
       "    <tr>\n",
       "      <th>date</th>\n",
       "      <th></th>\n",
       "    </tr>\n",
       "  </thead>\n",
       "  <tbody>\n",
       "    <tr>\n",
       "      <th>2004-01-01</th>\n",
       "      <td>849</td>\n",
       "    </tr>\n",
       "    <tr>\n",
       "      <th>2004-02-01</th>\n",
       "      <td>736</td>\n",
       "    </tr>\n",
       "    <tr>\n",
       "      <th>2004-03-01</th>\n",
       "      <td>498</td>\n",
       "    </tr>\n",
       "    <tr>\n",
       "      <th>2004-04-01</th>\n",
       "      <td>397</td>\n",
       "    </tr>\n",
       "    <tr>\n",
       "      <th>2004-05-01</th>\n",
       "      <td>405</td>\n",
       "    </tr>\n",
       "  </tbody>\n",
       "</table>\n",
       "</div>"
      ],
      "text/plain": [
       "            priceMod\n",
       "date                \n",
       "2004-01-01       849\n",
       "2004-02-01       736\n",
       "2004-03-01       498\n",
       "2004-04-01       397\n",
       "2004-05-01       405"
      ]
     },
     "execution_count": 40,
     "metadata": {},
     "output_type": "execute_result"
    }
   ],
   "source": [
    "df3=df2.drop(['month','city'],axis=1)\n",
    "df3.head()"
   ]
  },
  {
   "cell_type": "code",
   "execution_count": 41,
   "id": "b5069593",
   "metadata": {},
   "outputs": [
    {
     "data": {
      "text/plain": [
       "(146, 1)"
      ]
     },
     "execution_count": 41,
     "metadata": {},
     "output_type": "execute_result"
    }
   ],
   "source": [
    "df3.shape"
   ]
  },
  {
   "cell_type": "code",
   "execution_count": 42,
   "id": "b7234e11",
   "metadata": {},
   "outputs": [
    {
     "name": "stdout",
     "output_type": "stream",
     "text": [
      "(116, 1)\n",
      "(30, 1)\n"
     ]
    }
   ],
   "source": [
    "train= df3[:116]\n",
    "test = df3[116:]\n",
    "print(train.shape)\n",
    "print(test.shape)"
   ]
  },
  {
   "cell_type": "code",
   "execution_count": 43,
   "id": "9f9143ee",
   "metadata": {},
   "outputs": [
    {
     "data": {
      "image/png": "[encoded data removed]",
      "text/plain": [
       "<Figure size 720x360 with 1 Axes>"
      ]
     },
     "metadata": {
      "needs_background": "light"
     },
     "output_type": "display_data"
    }
   ],
   "source": [
    "plt.figure(figsize=(10,5))\n",
    "plt.plot(train,label='Train')\n",
    "plt.plot(test,label='Test')\n",
    "plt.grid()\n",
    "plt.legend()\n",
    "plt.show()"
   ]
  },
  {
   "cell_type": "code",
   "execution_count": 44,
   "id": "c7eb4d05",
   "metadata": {},
   "outputs": [
    {
     "name": "stdout",
     "output_type": "stream",
     "text": [
      "            priceMod\n",
      "date                \n",
      "2013-07-01      2194\n",
      "2013-08-01      3803\n",
      "            priceMod\n",
      "date                \n",
      "2013-09-01      4550\n",
      "2013-10-01      4522\n",
      "            priceMod\n",
      "date                \n",
      "2016-01-01      1215\n",
      "2016-02-01      1128\n"
     ]
    }
   ],
   "source": [
    "print(train.tail(2))\n",
    "print(test.head(2))\n",
    "print(test.tail(2))"
   ]
  },
  {
   "cell_type": "code",
   "execution_count": 45,
   "id": "1a7e0890",
   "metadata": {},
   "outputs": [],
   "source": [
    "# Function for performace metrics"
   ]
  },
  {
   "cell_type": "code",
   "execution_count": 46,
   "id": "e6afc5c3",
   "metadata": {},
   "outputs": [],
   "source": [
    "from sklearn.metrics import mean_squared_error, mean_absolute_error, mean_absolute_percentage_error"
   ]
  },
  {
   "cell_type": "code",
   "execution_count": 47,
   "id": "4dbc3f9b",
   "metadata": {},
   "outputs": [],
   "source": [
    "def test_metrics(test,pred):\n",
    "    mse = mean_squared_error(test,pred)\n",
    "    rmse = mean_squared_error(test,pred,squared=False)\n",
    "    mape = mean_absolute_percentage_error(test,pred)\n",
    "    return mse,rmse,mape"
   ]
  },
  {
   "cell_type": "code",
   "execution_count": 49,
   "id": "4edc7339",
   "metadata": {},
   "outputs": [],
   "source": [
    "# Applying different Time Series models on train data"
   ]
  },
  {
   "cell_type": "markdown",
   "id": "59008a84",
   "metadata": {},
   "source": [
    "# Base AR Model(1,0,0)"
   ]
  },
  {
   "cell_type": "code",
   "execution_count": 50,
   "id": "e0ea4b45",
   "metadata": {},
   "outputs": [
    {
     "name": "stdout",
     "output_type": "stream",
     "text": [
      "                               SARIMAX Results                                \n",
      "==============================================================================\n",
      "Dep. Variable:               priceMod   No. Observations:                  116\n",
      "Model:                 ARIMA(1, 0, 0)   Log Likelihood                -835.495\n",
      "Date:                Mon, 25 Jul 2022   AIC                           1676.991\n",
      "Time:                        12:02:00   BIC                           1685.251\n",
      "Sample:                    01-01-2004   HQIC                          1680.344\n",
      "                         - 08-01-2013                                         \n",
      "Covariance Type:                  opg                                         \n",
      "==============================================================================\n",
      "                 coef    std err          z      P>|z|      [0.025      0.975]\n",
      "------------------------------------------------------------------------------\n",
      "const       1098.4959    525.474      2.090      0.037      68.585    2128.407\n",
      "ar.L1          0.9168      0.042     21.712      0.000       0.834       1.000\n",
      "sigma2      1.039e+05   5725.650     18.151      0.000    9.27e+04    1.15e+05\n",
      "===================================================================================\n",
      "Ljung-Box (L1) (Q):                  24.09   Jarque-Bera (JB):               505.77\n",
      "Prob(Q):                              0.00   Prob(JB):                         0.00\n",
      "Heteroskedasticity (H):               7.52   Skew:                             0.72\n",
      "Prob(H) (two-sided):                  0.00   Kurtosis:                        13.13\n",
      "===================================================================================\n",
      "\n",
      "Warnings:\n",
      "[1] Covariance matrix calculated using the outer product of gradients (complex-step).\n"
     ]
    }
   ],
   "source": [
    "m1 = ARIMA(train,order=(1,0,0))\n",
    "ar_m1 = m1.fit()\n",
    "print(ar_m1.summary())"
   ]
  },
  {
   "cell_type": "code",
   "execution_count": 54,
   "id": "b0426769",
   "metadata": {},
   "outputs": [
    {
     "data": {
      "text/plain": [
       "2013-09-01    3577.989311\n",
       "2013-10-01    3371.699175\n",
       "2013-11-01    3182.572068\n",
       "2013-12-01    3009.180054\n",
       "2014-01-01    2850.213996\n",
       "2014-02-01    2704.473675\n",
       "2014-03-01    2570.858731\n",
       "2014-04-01    2448.360350\n",
       "2014-05-01    2336.053650\n",
       "2014-06-01    2233.090700\n",
       "2014-07-01    2138.694113\n",
       "2014-08-01    2052.151181\n",
       "2014-09-01    1972.808491\n",
       "2014-10-01    1900.066994\n",
       "2014-11-01    1833.377480\n",
       "2014-12-01    1772.236434\n",
       "2015-01-01    1716.182232\n",
       "2015-02-01    1664.791655\n",
       "2015-03-01    1617.676697\n",
       "2015-04-01    1574.481633\n",
       "2015-05-01    1534.880334\n",
       "2015-06-01    1498.573803\n",
       "2015-07-01    1465.287922\n",
       "2015-08-01    1434.771376\n",
       "2015-09-01    1406.793761\n",
       "2015-10-01    1381.143841\n",
       "2015-11-01    1357.627956\n",
       "2015-12-01    1336.068558\n",
       "2016-01-01    1316.302869\n",
       "2016-02-01    1298.181657\n",
       "Freq: MS, Name: predicted_mean, dtype: float64"
      ]
     },
     "execution_count": 54,
     "metadata": {},
     "output_type": "execute_result"
    }
   ],
   "source": [
    "fcast_m1 = ar_m1.forecast(30)\n",
    "fcast_m1"
   ]
  },
  {
   "cell_type": "code",
   "execution_count": 55,
   "id": "51e9319b",
   "metadata": {},
   "outputs": [
    {
     "data": {
      "image/png": "[encoded data removed]",
      "text/plain": [
       "<Figure size 720x360 with 1 Axes>"
      ]
     },
     "metadata": {
      "needs_background": "light"
     },
     "output_type": "display_data"
    }
   ],
   "source": [
    "plt.figure(figsize=(10,5))\n",
    "plt.plot(train,label='Train')\n",
    "plt.plot(test,label='Test')\n",
    "plt.plot(fcast_m1,label='Predicted')\n",
    "plt.title('AR Model')\n",
    "plt.grid()\n",
    "plt.legend()\n",
    "plt.show()"
   ]
  },
  {
   "cell_type": "code",
   "execution_count": 56,
   "id": "eaad13cb",
   "metadata": {},
   "outputs": [
    {
     "name": "stdout",
     "output_type": "stream",
     "text": [
      "AIC 1676.9905209359097\n"
     ]
    }
   ],
   "source": [
    "aic_m1 = ar_m1.aic\n",
    "print('AIC',aic_m1)\n",
    "mse_m1,rmse_m1,mape_m1  = test_metrics(test,fcast_m1)"
   ]
  },
  {
   "cell_type": "code",
   "execution_count": 58,
   "id": "d9262d9c",
   "metadata": {},
   "outputs": [
    {
     "data": {
      "text/html": [
       "<div>\n",
       "<style scoped>\n",
       "    .dataframe tbody tr th:only-of-type {\n",
       "        vertical-align: middle;\n",
       "    }\n",
       "\n",
       "    .dataframe tbody tr th {\n",
       "        vertical-align: top;\n",
       "    }\n",
       "\n",
       "    .dataframe thead th {\n",
       "        text-align: right;\n",
       "    }\n",
       "</style>\n",
       "<table border=\"1\" class=\"dataframe\">\n",
       "  <thead>\n",
       "    <tr style=\"text-align: right;\">\n",
       "      <th></th>\n",
       "      <th>Model</th>\n",
       "      <th>MSE</th>\n",
       "      <th>RMSE</th>\n",
       "      <th>MAPE</th>\n",
       "      <th>AIC</th>\n",
       "    </tr>\n",
       "  </thead>\n",
       "  <tbody>\n",
       "    <tr>\n",
       "      <th>0</th>\n",
       "      <td>AR(1,0,0)</td>\n",
       "      <td>1.540731e+06</td>\n",
       "      <td>1241.261861</td>\n",
       "      <td>0.510138</td>\n",
       "      <td>1676.990521</td>\n",
       "    </tr>\n",
       "  </tbody>\n",
       "</table>\n",
       "</div>"
      ],
      "text/plain": [
       "       Model           MSE         RMSE      MAPE          AIC\n",
       "0  AR(1,0,0)  1.540731e+06  1241.261861  0.510138  1676.990521"
      ]
     },
     "execution_count": 58,
     "metadata": {},
     "output_type": "execute_result"
    }
   ],
   "source": [
    "m1_res = pd.DataFrame({'Model':'AR(1,0,0)','MSE':mse_m1,'RMSE':rmse_m1,\n",
    "                       'MAPE':mape_m1,'AIC':aic_m1},index=[0])\n",
    "m1_res"
   ]
  },
  {
   "cell_type": "markdown",
   "id": "a652bf26",
   "metadata": {},
   "source": [
    "# Base MA Model (0,0,1)"
   ]
  },
  {
   "cell_type": "code",
   "execution_count": 59,
   "id": "10e3d501",
   "metadata": {},
   "outputs": [
    {
     "name": "stdout",
     "output_type": "stream",
     "text": [
      "                               SARIMAX Results                                \n",
      "==============================================================================\n",
      "Dep. Variable:               priceMod   No. Observations:                  116\n",
      "Model:                 ARIMA(0, 0, 1)   Log Likelihood                -851.326\n",
      "Date:                Mon, 25 Jul 2022   AIC                           1708.652\n",
      "Time:                        12:13:09   BIC                           1716.913\n",
      "Sample:                    01-01-2004   HQIC                          1712.006\n",
      "                         - 08-01-2013                                         \n",
      "Covariance Type:                  opg                                         \n",
      "==============================================================================\n",
      "                 coef    std err          z      P>|z|      [0.025      0.975]\n",
      "------------------------------------------------------------------------------\n",
      "const        882.2191     98.627      8.945      0.000     688.914    1075.524\n",
      "ma.L1          0.9062      0.053     17.214      0.000       0.803       1.009\n",
      "sigma2      1.367e+05      1e+04     13.656      0.000    1.17e+05    1.56e+05\n",
      "===================================================================================\n",
      "Ljung-Box (L1) (Q):                  22.87   Jarque-Bera (JB):               823.55\n",
      "Prob(Q):                              0.00   Prob(JB):                         0.00\n",
      "Heteroskedasticity (H):               4.80   Skew:                             2.73\n",
      "Prob(H) (two-sided):                  0.00   Kurtosis:                        14.86\n",
      "===================================================================================\n",
      "\n",
      "Warnings:\n",
      "[1] Covariance matrix calculated using the outer product of gradients (complex-step).\n"
     ]
    }
   ],
   "source": [
    "m2 = ARIMA(train,order=(0,0,1))\n",
    "ar_m2 = m2.fit()\n",
    "print(ar_m2.summary())"
   ]
  },
  {
   "cell_type": "code",
   "execution_count": 60,
   "id": "11f7bfed",
   "metadata": {},
   "outputs": [
    {
     "data": {
      "text/plain": [
       "2013-09-01    2923.342175\n",
       "2013-10-01     882.219122\n",
       "2013-11-01     882.219122\n",
       "2013-12-01     882.219122\n",
       "2014-01-01     882.219122\n",
       "2014-02-01     882.219122\n",
       "2014-03-01     882.219122\n",
       "2014-04-01     882.219122\n",
       "2014-05-01     882.219122\n",
       "2014-06-01     882.219122\n",
       "2014-07-01     882.219122\n",
       "2014-08-01     882.219122\n",
       "2014-09-01     882.219122\n",
       "2014-10-01     882.219122\n",
       "2014-11-01     882.219122\n",
       "2014-12-01     882.219122\n",
       "2015-01-01     882.219122\n",
       "2015-02-01     882.219122\n",
       "2015-03-01     882.219122\n",
       "2015-04-01     882.219122\n",
       "2015-05-01     882.219122\n",
       "2015-06-01     882.219122\n",
       "2015-07-01     882.219122\n",
       "2015-08-01     882.219122\n",
       "2015-09-01     882.219122\n",
       "2015-10-01     882.219122\n",
       "2015-11-01     882.219122\n",
       "2015-12-01     882.219122\n",
       "2016-01-01     882.219122\n",
       "2016-02-01     882.219122\n",
       "Freq: MS, Name: predicted_mean, dtype: float64"
      ]
     },
     "execution_count": 60,
     "metadata": {},
     "output_type": "execute_result"
    }
   ],
   "source": [
    "fcast_m2 = ar_m2.forecast(30)\n",
    "fcast_m2"
   ]
  },
  {
   "cell_type": "code",
   "execution_count": 61,
   "id": "ba707704",
   "metadata": {},
   "outputs": [
    {
     "data": {
      "image/png": "[encoded data removed]",
      "text/plain": [
       "<Figure size 720x360 with 1 Axes>"
      ]
     },
     "metadata": {
      "needs_background": "light"
     },
     "output_type": "display_data"
    }
   ],
   "source": [
    "plt.figure(figsize=(10,5))\n",
    "plt.plot(train,label='Train')\n",
    "plt.plot(test,label='Test')\n",
    "plt.plot(fcast_m2,label='Predicted')\n",
    "plt.title('MA Model')\n",
    "plt.grid()\n",
    "plt.legend()\n",
    "plt.show()"
   ]
  },
  {
   "cell_type": "code",
   "execution_count": 62,
   "id": "715a38d5",
   "metadata": {},
   "outputs": [
    {
     "name": "stdout",
     "output_type": "stream",
     "text": [
      "AIC 1708.6521800731784\n"
     ]
    }
   ],
   "source": [
    "aic_m2 = ar_m2.aic\n",
    "print('AIC',aic_m2)\n",
    "mse_m2,rmse_m2,mape_m2  = test_metrics(test,fcast_m2)"
   ]
  },
  {
   "cell_type": "code",
   "execution_count": 63,
   "id": "29d2563a",
   "metadata": {},
   "outputs": [
    {
     "data": {
      "text/html": [
       "<div>\n",
       "<style scoped>\n",
       "    .dataframe tbody tr th:only-of-type {\n",
       "        vertical-align: middle;\n",
       "    }\n",
       "\n",
       "    .dataframe tbody tr th {\n",
       "        vertical-align: top;\n",
       "    }\n",
       "\n",
       "    .dataframe thead th {\n",
       "        text-align: right;\n",
       "    }\n",
       "</style>\n",
       "<table border=\"1\" class=\"dataframe\">\n",
       "  <thead>\n",
       "    <tr style=\"text-align: right;\">\n",
       "      <th></th>\n",
       "      <th>Model</th>\n",
       "      <th>MSE</th>\n",
       "      <th>RMSE</th>\n",
       "      <th>MAPE</th>\n",
       "      <th>AIC</th>\n",
       "    </tr>\n",
       "  </thead>\n",
       "  <tbody>\n",
       "    <tr>\n",
       "      <th>1</th>\n",
       "      <td>MA(0,0,1)</td>\n",
       "      <td>2.428252e+06</td>\n",
       "      <td>1558.285109</td>\n",
       "      <td>0.456706</td>\n",
       "      <td>1708.65218</td>\n",
       "    </tr>\n",
       "  </tbody>\n",
       "</table>\n",
       "</div>"
      ],
      "text/plain": [
       "       Model           MSE         RMSE      MAPE         AIC\n",
       "1  MA(0,0,1)  2.428252e+06  1558.285109  0.456706  1708.65218"
      ]
     },
     "execution_count": 63,
     "metadata": {},
     "output_type": "execute_result"
    }
   ],
   "source": [
    "m2_res = pd.DataFrame({'Model':'MA(0,0,1)','MSE':mse_m2,'RMSE':rmse_m2,\n",
    "                       'MAPE':mape_m2,'AIC':aic_m2},index=[1])\n",
    "m2_res"
   ]
  },
  {
   "cell_type": "code",
   "execution_count": 64,
   "id": "b0eb02c8",
   "metadata": {},
   "outputs": [
    {
     "data": {
      "text/html": [
       "<div>\n",
       "<style scoped>\n",
       "    .dataframe tbody tr th:only-of-type {\n",
       "        vertical-align: middle;\n",
       "    }\n",
       "\n",
       "    .dataframe tbody tr th {\n",
       "        vertical-align: top;\n",
       "    }\n",
       "\n",
       "    .dataframe thead th {\n",
       "        text-align: right;\n",
       "    }\n",
       "</style>\n",
       "<table border=\"1\" class=\"dataframe\">\n",
       "  <thead>\n",
       "    <tr style=\"text-align: right;\">\n",
       "      <th></th>\n",
       "      <th>Model</th>\n",
       "      <th>MSE</th>\n",
       "      <th>RMSE</th>\n",
       "      <th>MAPE</th>\n",
       "      <th>AIC</th>\n",
       "    </tr>\n",
       "  </thead>\n",
       "  <tbody>\n",
       "    <tr>\n",
       "      <th>0</th>\n",
       "      <td>AR(1,0,0)</td>\n",
       "      <td>1.540731e+06</td>\n",
       "      <td>1241.261861</td>\n",
       "      <td>0.510138</td>\n",
       "      <td>1676.990521</td>\n",
       "    </tr>\n",
       "    <tr>\n",
       "      <th>1</th>\n",
       "      <td>MA(0,0,1)</td>\n",
       "      <td>2.428252e+06</td>\n",
       "      <td>1558.285109</td>\n",
       "      <td>0.456706</td>\n",
       "      <td>1708.652180</td>\n",
       "    </tr>\n",
       "  </tbody>\n",
       "</table>\n",
       "</div>"
      ],
      "text/plain": [
       "       Model           MSE         RMSE      MAPE          AIC\n",
       "0  AR(1,0,0)  1.540731e+06  1241.261861  0.510138  1676.990521\n",
       "1  MA(0,0,1)  2.428252e+06  1558.285109  0.456706  1708.652180"
      ]
     },
     "execution_count": 64,
     "metadata": {},
     "output_type": "execute_result"
    }
   ],
   "source": [
    "r2 = pd.concat([m1_res,m2_res])\n",
    "r2"
   ]
  },
  {
   "cell_type": "markdown",
   "id": "ff6e8a59",
   "metadata": {},
   "source": [
    "# Base ARMA Model (1,0,1)"
   ]
  },
  {
   "cell_type": "code",
   "execution_count": 65,
   "id": "c3d4b4b6",
   "metadata": {},
   "outputs": [
    {
     "name": "stdout",
     "output_type": "stream",
     "text": [
      "                               SARIMAX Results                                \n",
      "==============================================================================\n",
      "Dep. Variable:               priceMod   No. Observations:                  116\n",
      "Model:                 ARIMA(1, 0, 1)   Log Likelihood                -816.148\n",
      "Date:                Mon, 25 Jul 2022   AIC                           1640.296\n",
      "Time:                        12:15:19   BIC                           1651.310\n",
      "Sample:                    01-01-2004   HQIC                          1644.767\n",
      "                         - 08-01-2013                                         \n",
      "Covariance Type:                  opg                                         \n",
      "==============================================================================\n",
      "                 coef    std err          z      P>|z|      [0.025      0.975]\n",
      "------------------------------------------------------------------------------\n",
      "const        865.9771    445.531      1.944      0.052      -7.247    1739.201\n",
      "ar.L1          0.8584      0.052     16.594      0.000       0.757       0.960\n",
      "ma.L1          0.5898      0.079      7.475      0.000       0.435       0.744\n",
      "sigma2      7.387e+04   4793.778     15.410      0.000    6.45e+04    8.33e+04\n",
      "===================================================================================\n",
      "Ljung-Box (L1) (Q):                   2.57   Jarque-Bera (JB):               458.87\n",
      "Prob(Q):                              0.11   Prob(JB):                         0.00\n",
      "Heteroskedasticity (H):               7.69   Skew:                             1.15\n",
      "Prob(H) (two-sided):                  0.00   Kurtosis:                        12.47\n",
      "===================================================================================\n",
      "\n",
      "Warnings:\n",
      "[1] Covariance matrix calculated using the outer product of gradients (complex-step).\n"
     ]
    }
   ],
   "source": [
    "m3 = ARIMA(train,order=(1,0,1))\n",
    "ar_m3 = m3.fit()\n",
    "print(ar_m3.summary())"
   ]
  },
  {
   "cell_type": "code",
   "execution_count": 66,
   "id": "551f4fa6",
   "metadata": {},
   "outputs": [
    {
     "data": {
      "text/plain": [
       "2013-09-01    4275.239920\n",
       "2013-10-01    3792.524970\n",
       "2013-11-01    3378.157266\n",
       "2013-12-01    3022.459572\n",
       "2014-01-01    2717.124845\n",
       "2014-02-01    2455.022233\n",
       "2014-03-01    2230.030531\n",
       "2014-04-01    2036.895234\n",
       "2014-05-01    1871.105819\n",
       "2014-06-01    1728.790401\n",
       "2014-07-01    1606.625316\n",
       "2014-08-01    1501.757493\n",
       "2014-09-01    1411.737826\n",
       "2014-10-01    1334.463976\n",
       "2014-11-01    1268.131272\n",
       "2014-12-01    1211.190565\n",
       "2015-01-01    1162.312050\n",
       "2015-02-01    1120.354207\n",
       "2015-03-01    1084.337143\n",
       "2015-04-01    1053.419708\n",
       "2015-05-01    1026.879850\n",
       "2015-06-01    1004.097750\n",
       "2015-07-01     984.541350\n",
       "2015-08-01     967.753926\n",
       "2015-09-01     953.343421\n",
       "2015-10-01     940.973288\n",
       "2015-11-01     930.354634\n",
       "2015-12-01     921.239466\n",
       "2016-01-01     913.414908\n",
       "2016-02-01     906.698224\n",
       "Freq: MS, Name: predicted_mean, dtype: float64"
      ]
     },
     "execution_count": 66,
     "metadata": {},
     "output_type": "execute_result"
    }
   ],
   "source": [
    "fcast_m3 = ar_m3.forecast(30)\n",
    "fcast_m3"
   ]
  },
  {
   "cell_type": "code",
   "execution_count": 67,
   "id": "064dd29d",
   "metadata": {},
   "outputs": [
    {
     "data": {
      "image/png": "[encoded data removed]",
      "text/plain": [
       "<Figure size 720x360 with 1 Axes>"
      ]
     },
     "metadata": {
      "needs_background": "light"
     },
     "output_type": "display_data"
    }
   ],
   "source": [
    "plt.figure(figsize=(10,5))\n",
    "plt.plot(train,label='Train')\n",
    "plt.plot(test,label='Test')\n",
    "plt.plot(fcast_m3,label='Fcast')\n",
    "plt.title('ARMA Model')\n",
    "plt.grid()\n",
    "plt.legend()\n",
    "plt.show()"
   ]
  },
  {
   "cell_type": "code",
   "execution_count": 68,
   "id": "fad4f7c4",
   "metadata": {},
   "outputs": [
    {
     "name": "stdout",
     "output_type": "stream",
     "text": [
      "AIC 1640.2955301577501\n"
     ]
    }
   ],
   "source": [
    "aic_m3 = ar_m3.aic\n",
    "print('AIC',aic_m3)\n",
    "mse_m3,rmse_m3,mape_m3  = test_metrics(test,fcast_m3)"
   ]
  },
  {
   "cell_type": "code",
   "execution_count": 69,
   "id": "b456681d",
   "metadata": {},
   "outputs": [
    {
     "data": {
      "text/html": [
       "<div>\n",
       "<style scoped>\n",
       "    .dataframe tbody tr th:only-of-type {\n",
       "        vertical-align: middle;\n",
       "    }\n",
       "\n",
       "    .dataframe tbody tr th {\n",
       "        vertical-align: top;\n",
       "    }\n",
       "\n",
       "    .dataframe thead th {\n",
       "        text-align: right;\n",
       "    }\n",
       "</style>\n",
       "<table border=\"1\" class=\"dataframe\">\n",
       "  <thead>\n",
       "    <tr style=\"text-align: right;\">\n",
       "      <th></th>\n",
       "      <th>Model</th>\n",
       "      <th>MSE</th>\n",
       "      <th>RMSE</th>\n",
       "      <th>MAPE</th>\n",
       "      <th>AIC</th>\n",
       "    </tr>\n",
       "  </thead>\n",
       "  <tbody>\n",
       "    <tr>\n",
       "      <th>2</th>\n",
       "      <td>ARMA(1,0,1)</td>\n",
       "      <td>1.770619e+06</td>\n",
       "      <td>1330.646225</td>\n",
       "      <td>0.52481</td>\n",
       "      <td>1640.29553</td>\n",
       "    </tr>\n",
       "  </tbody>\n",
       "</table>\n",
       "</div>"
      ],
      "text/plain": [
       "         Model           MSE         RMSE     MAPE         AIC\n",
       "2  ARMA(1,0,1)  1.770619e+06  1330.646225  0.52481  1640.29553"
      ]
     },
     "execution_count": 69,
     "metadata": {},
     "output_type": "execute_result"
    }
   ],
   "source": [
    "m3_res = pd.DataFrame({'Model':'ARMA(1,0,1)','MSE':mse_m3,'RMSE':rmse_m3,\n",
    "                       'MAPE':mape_m3,'AIC':aic_m3},index=[2])\n",
    "m3_res"
   ]
  },
  {
   "cell_type": "code",
   "execution_count": 70,
   "id": "872c19b9",
   "metadata": {},
   "outputs": [
    {
     "data": {
      "text/html": [
       "<div>\n",
       "<style scoped>\n",
       "    .dataframe tbody tr th:only-of-type {\n",
       "        vertical-align: middle;\n",
       "    }\n",
       "\n",
       "    .dataframe tbody tr th {\n",
       "        vertical-align: top;\n",
       "    }\n",
       "\n",
       "    .dataframe thead th {\n",
       "        text-align: right;\n",
       "    }\n",
       "</style>\n",
       "<table border=\"1\" class=\"dataframe\">\n",
       "  <thead>\n",
       "    <tr style=\"text-align: right;\">\n",
       "      <th></th>\n",
       "      <th>Model</th>\n",
       "      <th>MSE</th>\n",
       "      <th>RMSE</th>\n",
       "      <th>MAPE</th>\n",
       "      <th>AIC</th>\n",
       "    </tr>\n",
       "  </thead>\n",
       "  <tbody>\n",
       "    <tr>\n",
       "      <th>0</th>\n",
       "      <td>AR(1,0,0)</td>\n",
       "      <td>1.540731e+06</td>\n",
       "      <td>1241.261861</td>\n",
       "      <td>0.510138</td>\n",
       "      <td>1676.990521</td>\n",
       "    </tr>\n",
       "    <tr>\n",
       "      <th>1</th>\n",
       "      <td>MA(0,0,1)</td>\n",
       "      <td>2.428252e+06</td>\n",
       "      <td>1558.285109</td>\n",
       "      <td>0.456706</td>\n",
       "      <td>1708.652180</td>\n",
       "    </tr>\n",
       "    <tr>\n",
       "      <th>2</th>\n",
       "      <td>ARMA(1,0,1)</td>\n",
       "      <td>1.770619e+06</td>\n",
       "      <td>1330.646225</td>\n",
       "      <td>0.524810</td>\n",
       "      <td>1640.295530</td>\n",
       "    </tr>\n",
       "  </tbody>\n",
       "</table>\n",
       "</div>"
      ],
      "text/plain": [
       "         Model           MSE         RMSE      MAPE          AIC\n",
       "0    AR(1,0,0)  1.540731e+06  1241.261861  0.510138  1676.990521\n",
       "1    MA(0,0,1)  2.428252e+06  1558.285109  0.456706  1708.652180\n",
       "2  ARMA(1,0,1)  1.770619e+06  1330.646225  0.524810  1640.295530"
      ]
     },
     "execution_count": 70,
     "metadata": {},
     "output_type": "execute_result"
    }
   ],
   "source": [
    "r3 = pd.concat([r2,m3_res])\n",
    "r3"
   ]
  },
  {
   "cell_type": "markdown",
   "id": "aa76fa5f",
   "metadata": {},
   "source": [
    "# BASE ARIMA(1,1,1) Model"
   ]
  },
  {
   "cell_type": "code",
   "execution_count": 71,
   "id": "b46301f9",
   "metadata": {},
   "outputs": [
    {
     "name": "stdout",
     "output_type": "stream",
     "text": [
      "                               SARIMAX Results                                \n",
      "==============================================================================\n",
      "Dep. Variable:               priceMod   No. Observations:                  116\n",
      "Model:                 ARIMA(1, 1, 1)   Log Likelihood                -807.594\n",
      "Date:                Mon, 25 Jul 2022   AIC                           1621.188\n",
      "Time:                        12:16:32   BIC                           1629.423\n",
      "Sample:                    01-01-2004   HQIC                          1624.530\n",
      "                         - 08-01-2013                                         \n",
      "Covariance Type:                  opg                                         \n",
      "==============================================================================\n",
      "                 coef    std err          z      P>|z|      [0.025      0.975]\n",
      "------------------------------------------------------------------------------\n",
      "ar.L1          0.3049      0.082      3.715      0.000       0.144       0.466\n",
      "ma.L1          0.4128      0.100      4.140      0.000       0.217       0.608\n",
      "sigma2      7.332e+04   5151.366     14.233      0.000    6.32e+04    8.34e+04\n",
      "===================================================================================\n",
      "Ljung-Box (L1) (Q):                   0.08   Jarque-Bera (JB):               217.56\n",
      "Prob(Q):                              0.77   Prob(JB):                         0.00\n",
      "Heteroskedasticity (H):               6.83   Skew:                            -0.03\n",
      "Prob(H) (two-sided):                  0.00   Kurtosis:                         9.74\n",
      "===================================================================================\n",
      "\n",
      "Warnings:\n",
      "[1] Covariance matrix calculated using the outer product of gradients (complex-step).\n"
     ]
    }
   ],
   "source": [
    "m4 = ARIMA(train,order=(1,1,1))\n",
    "ar_m4 = m4.fit()\n",
    "print(ar_m4.summary())"
   ]
  },
  {
   "cell_type": "code",
   "execution_count": 72,
   "id": "89a1b467",
   "metadata": {},
   "outputs": [
    {
     "data": {
      "text/plain": [
       "2013-09-01    4803.485717\n",
       "2013-10-01    5108.487084\n",
       "2013-11-01    5201.467756\n",
       "2013-12-01    5229.813221\n",
       "2014-01-01    5238.454429\n",
       "2014-02-01    5241.088730\n",
       "2014-03-01    5241.891805\n",
       "2014-04-01    5242.136625\n",
       "2014-05-01    5242.211259\n",
       "2014-06-01    5242.234012\n",
       "2014-07-01    5242.240948\n",
       "2014-08-01    5242.243062\n",
       "2014-09-01    5242.243707\n",
       "2014-10-01    5242.243904\n",
       "2014-11-01    5242.243963\n",
       "2014-12-01    5242.243982\n",
       "2015-01-01    5242.243987\n",
       "2015-02-01    5242.243989\n",
       "2015-03-01    5242.243989\n",
       "2015-04-01    5242.243990\n",
       "2015-05-01    5242.243990\n",
       "2015-06-01    5242.243990\n",
       "2015-07-01    5242.243990\n",
       "2015-08-01    5242.243990\n",
       "2015-09-01    5242.243990\n",
       "2015-10-01    5242.243990\n",
       "2015-11-01    5242.243990\n",
       "2015-12-01    5242.243990\n",
       "2016-01-01    5242.243990\n",
       "2016-02-01    5242.243990\n",
       "Freq: MS, Name: predicted_mean, dtype: float64"
      ]
     },
     "execution_count": 72,
     "metadata": {},
     "output_type": "execute_result"
    }
   ],
   "source": [
    "fcast_m4 = ar_m4.forecast(30)\n",
    "fcast_m4"
   ]
  },
  {
   "cell_type": "code",
   "execution_count": 73,
   "id": "84dd14cb",
   "metadata": {},
   "outputs": [
    {
     "data": {
      "image/png": "[encoded data removed]",
      "text/plain": [
       "<Figure size 720x360 with 1 Axes>"
      ]
     },
     "metadata": {
      "needs_background": "light"
     },
     "output_type": "display_data"
    }
   ],
   "source": [
    "plt.figure(figsize=(10,5))\n",
    "plt.plot(train,label='Train')\n",
    "plt.plot(test,label='Test')\n",
    "plt.plot(fcast_m4,label='Fcast')\n",
    "plt.title('ARIMA Model')\n",
    "plt.grid()\n",
    "plt.legend()\n",
    "plt.show()"
   ]
  },
  {
   "cell_type": "code",
   "execution_count": 74,
   "id": "91391f7d",
   "metadata": {},
   "outputs": [
    {
     "name": "stdout",
     "output_type": "stream",
     "text": [
      "AIC 1621.1877485027421\n"
     ]
    }
   ],
   "source": [
    "aic_m4 = ar_m4.aic\n",
    "print('AIC',aic_m4)\n",
    "\n",
    "mse_m4,rmse_m4,mape_m4  = test_metrics(test,fcast_m4)"
   ]
  },
  {
   "cell_type": "code",
   "execution_count": 75,
   "id": "9d3b9d89",
   "metadata": {},
   "outputs": [
    {
     "data": {
      "text/html": [
       "<div>\n",
       "<style scoped>\n",
       "    .dataframe tbody tr th:only-of-type {\n",
       "        vertical-align: middle;\n",
       "    }\n",
       "\n",
       "    .dataframe tbody tr th {\n",
       "        vertical-align: top;\n",
       "    }\n",
       "\n",
       "    .dataframe thead th {\n",
       "        text-align: right;\n",
       "    }\n",
       "</style>\n",
       "<table border=\"1\" class=\"dataframe\">\n",
       "  <thead>\n",
       "    <tr style=\"text-align: right;\">\n",
       "      <th></th>\n",
       "      <th>Model</th>\n",
       "      <th>MSE</th>\n",
       "      <th>RMSE</th>\n",
       "      <th>MAPE</th>\n",
       "      <th>AIC</th>\n",
       "    </tr>\n",
       "  </thead>\n",
       "  <tbody>\n",
       "    <tr>\n",
       "      <th>3</th>\n",
       "      <td>ARIMA(1,1,1)</td>\n",
       "      <td>1.133690e+07</td>\n",
       "      <td>3367.030776</td>\n",
       "      <td>2.229147</td>\n",
       "      <td>1621.187749</td>\n",
       "    </tr>\n",
       "  </tbody>\n",
       "</table>\n",
       "</div>"
      ],
      "text/plain": [
       "          Model           MSE         RMSE      MAPE          AIC\n",
       "3  ARIMA(1,1,1)  1.133690e+07  3367.030776  2.229147  1621.187749"
      ]
     },
     "execution_count": 75,
     "metadata": {},
     "output_type": "execute_result"
    }
   ],
   "source": [
    "m4_res = pd.DataFrame({'Model':'ARIMA(1,1,1)','MSE':mse_m4,'RMSE':rmse_m4,\n",
    "                       'MAPE':mape_m4,'AIC':aic_m4},index=[3])\n",
    "m4_res"
   ]
  },
  {
   "cell_type": "code",
   "execution_count": 76,
   "id": "08b8ab67",
   "metadata": {},
   "outputs": [
    {
     "data": {
      "text/html": [
       "<div>\n",
       "<style scoped>\n",
       "    .dataframe tbody tr th:only-of-type {\n",
       "        vertical-align: middle;\n",
       "    }\n",
       "\n",
       "    .dataframe tbody tr th {\n",
       "        vertical-align: top;\n",
       "    }\n",
       "\n",
       "    .dataframe thead th {\n",
       "        text-align: right;\n",
       "    }\n",
       "</style>\n",
       "<table border=\"1\" class=\"dataframe\">\n",
       "  <thead>\n",
       "    <tr style=\"text-align: right;\">\n",
       "      <th></th>\n",
       "      <th>Model</th>\n",
       "      <th>MSE</th>\n",
       "      <th>RMSE</th>\n",
       "      <th>MAPE</th>\n",
       "      <th>AIC</th>\n",
       "    </tr>\n",
       "  </thead>\n",
       "  <tbody>\n",
       "    <tr>\n",
       "      <th>0</th>\n",
       "      <td>AR(1,0,0)</td>\n",
       "      <td>1.540731e+06</td>\n",
       "      <td>1241.261861</td>\n",
       "      <td>0.510138</td>\n",
       "      <td>1676.990521</td>\n",
       "    </tr>\n",
       "    <tr>\n",
       "      <th>1</th>\n",
       "      <td>MA(0,0,1)</td>\n",
       "      <td>2.428252e+06</td>\n",
       "      <td>1558.285109</td>\n",
       "      <td>0.456706</td>\n",
       "      <td>1708.652180</td>\n",
       "    </tr>\n",
       "    <tr>\n",
       "      <th>2</th>\n",
       "      <td>ARMA(1,0,1)</td>\n",
       "      <td>1.770619e+06</td>\n",
       "      <td>1330.646225</td>\n",
       "      <td>0.524810</td>\n",
       "      <td>1640.295530</td>\n",
       "    </tr>\n",
       "    <tr>\n",
       "      <th>3</th>\n",
       "      <td>ARIMA(1,1,1)</td>\n",
       "      <td>1.133690e+07</td>\n",
       "      <td>3367.030776</td>\n",
       "      <td>2.229147</td>\n",
       "      <td>1621.187749</td>\n",
       "    </tr>\n",
       "  </tbody>\n",
       "</table>\n",
       "</div>"
      ],
      "text/plain": [
       "          Model           MSE         RMSE      MAPE          AIC\n",
       "0     AR(1,0,0)  1.540731e+06  1241.261861  0.510138  1676.990521\n",
       "1     MA(0,0,1)  2.428252e+06  1558.285109  0.456706  1708.652180\n",
       "2   ARMA(1,0,1)  1.770619e+06  1330.646225  0.524810  1640.295530\n",
       "3  ARIMA(1,1,1)  1.133690e+07  3367.030776  2.229147  1621.187749"
      ]
     },
     "execution_count": 76,
     "metadata": {},
     "output_type": "execute_result"
    }
   ],
   "source": [
    "r4 = pd.concat([r3,m4_res])\n",
    "r4"
   ]
  },
  {
   "cell_type": "markdown",
   "id": "85b97664",
   "metadata": {},
   "source": [
    "# Custom Arima"
   ]
  },
  {
   "cell_type": "code",
   "execution_count": 79,
   "id": "7533e818",
   "metadata": {},
   "outputs": [],
   "source": [
    "p=list(range(0,5))\n",
    "q=list(range(0,4))\n",
    "d=list(range(0,5))\n",
    "mse_arima=[]\n",
    "rmse_arima=[]\n",
    "aic_arima=[]\n",
    "pdq=[]\n",
    "def custom_arima():\n",
    "    for i in p:\n",
    "        for j in d:\n",
    "            for k in q:\n",
    "                param=(i,j,k)\n",
    "                model1=ARIMA(train,order=param)\n",
    "                model1_fit=model1.fit()\n",
    "                ypred=model1_fit.forecast(steps=30)\n",
    "                mse=mean_squared_error(test,ypred.values)\n",
    "                rmse=np.sqrt(mse)\n",
    "                mse_arima.append(mse)\n",
    "                rmse_arima.append(rmse)\n",
    "                aic_arima.append(model1_fit.aic)\n",
    "                pdq.append((i,j,k))\n",
    "                print(f'ARIMA at (p,d,q):{i,j,k}')\n",
    "                print(f'MSE:{round(mse,3)} , RMSE:{round(rmse,3)},AIC:{round(model1_fit.aic,3)}')\n",
    "                print('-'*50) "
   ]
  },
  {
   "cell_type": "code",
   "execution_count": 80,
   "id": "df953eb1",
   "metadata": {},
   "outputs": [
    {
     "name": "stdout",
     "output_type": "stream",
     "text": [
      "ARIMA at (p,d,q):(0, 0, 0)\n",
      "MSE:2829718.476 , RMSE:1682.177,AIC:1804.086\n",
      "--------------------------------------------------\n",
      "ARIMA at (p,d,q):(0, 0, 1)\n",
      "MSE:2428252.482 , RMSE:1558.285,AIC:1708.652\n",
      "--------------------------------------------------\n",
      "ARIMA at (p,d,q):(0, 0, 2)\n",
      "MSE:2097874.078 , RMSE:1448.404,AIC:1649.782\n",
      "--------------------------------------------------\n",
      "ARIMA at (p,d,q):(0, 0, 3)\n",
      "MSE:1967963.102 , RMSE:1402.841,AIC:1641.91\n",
      "--------------------------------------------------\n",
      "ARIMA at (p,d,q):(0, 1, 0)\n",
      "MSE:4330700.667 , RMSE:2081.034,AIC:1659.194\n",
      "--------------------------------------------------\n",
      "ARIMA at (p,d,q):(0, 1, 1)\n",
      "MSE:7632265.977 , RMSE:2762.656,AIC:1623.524\n",
      "--------------------------------------------------\n",
      "ARIMA at (p,d,q):(0, 1, 2)\n",
      "MSE:10943260.449 , RMSE:3308.06,AIC:1618.317\n",
      "--------------------------------------------------\n",
      "ARIMA at (p,d,q):(0, 1, 3)\n",
      "MSE:6805425.637 , RMSE:2608.721,AIC:1618.171\n",
      "--------------------------------------------------\n",
      "ARIMA at (p,d,q):(0, 2, 0)\n",
      "MSE:906592628.9 , RMSE:30109.677,AIC:1633.969\n",
      "--------------------------------------------------\n",
      "ARIMA at (p,d,q):(0, 2, 1)\n",
      "MSE:986392791.932 , RMSE:31406.891,AIC:1635.622\n",
      "--------------------------------------------------\n",
      "ARIMA at (p,d,q):(0, 2, 2)\n",
      "MSE:10495598.89 , RMSE:3239.691,AIC:1615.354\n",
      "--------------------------------------------------\n",
      "ARIMA at (p,d,q):(0, 2, 3)\n",
      "MSE:14969236.274 , RMSE:3869.01,AIC:1609.804\n",
      "--------------------------------------------------\n",
      "ARIMA at (p,d,q):(0, 3, 0)\n",
      "MSE:50381635819.567 , RMSE:224458.539,AIC:1690.608\n",
      "--------------------------------------------------\n",
      "ARIMA at (p,d,q):(0, 3, 1)\n",
      "MSE:1097383609.619 , RMSE:33126.781,AIC:1626.922\n",
      "--------------------------------------------------\n",
      "ARIMA at (p,d,q):(0, 3, 2)\n",
      "MSE:1203577616.225 , RMSE:34692.616,AIC:1628.457\n",
      "--------------------------------------------------\n",
      "ARIMA at (p,d,q):(0, 3, 3)\n",
      "MSE:18727074.471 , RMSE:4327.479,AIC:1612.991\n",
      "--------------------------------------------------\n",
      "ARIMA at (p,d,q):(0, 4, 0)\n",
      "MSE:2296092419299.974 , RMSE:1515286.25,AIC:1784.682\n",
      "--------------------------------------------------\n",
      "ARIMA at (p,d,q):(0, 4, 1)\n",
      "MSE:58482839035.38 , RMSE:241832.254,AIC:1682.137\n",
      "--------------------------------------------------\n",
      "ARIMA at (p,d,q):(0, 4, 2)\n",
      "MSE:3108384984.682 , RMSE:55752.892,AIC:1622.957\n",
      "--------------------------------------------------\n",
      "ARIMA at (p,d,q):(0, 4, 3)\n",
      "MSE:3535156043.596 , RMSE:59457.178,AIC:1624.31\n",
      "--------------------------------------------------\n",
      "ARIMA at (p,d,q):(1, 0, 0)\n",
      "MSE:1540731.006 , RMSE:1241.262,AIC:1676.991\n",
      "--------------------------------------------------\n",
      "ARIMA at (p,d,q):(1, 0, 1)\n",
      "MSE:1770619.377 , RMSE:1330.646,AIC:1640.296\n",
      "--------------------------------------------------\n",
      "ARIMA at (p,d,q):(1, 0, 2)\n",
      "MSE:1737149.353 , RMSE:1318.01,AIC:1630.282\n",
      "--------------------------------------------------\n",
      "ARIMA at (p,d,q):(1, 0, 3)\n",
      "MSE:1740778.241 , RMSE:1319.386,AIC:1632.211\n",
      "--------------------------------------------------\n",
      "ARIMA at (p,d,q):(1, 1, 0)\n",
      "MSE:15025131.949 , RMSE:3876.227,AIC:1628.734\n",
      "--------------------------------------------------\n",
      "ARIMA at (p,d,q):(1, 1, 1)\n",
      "MSE:11336896.248 , RMSE:3367.031,AIC:1621.188\n",
      "--------------------------------------------------\n",
      "ARIMA at (p,d,q):(1, 1, 2)\n",
      "MSE:1482507.149 , RMSE:1217.583,AIC:1625.482\n",
      "--------------------------------------------------\n",
      "ARIMA at (p,d,q):(1, 1, 3)\n",
      "MSE:985714.442 , RMSE:992.832,AIC:1615.215\n",
      "--------------------------------------------------\n",
      "ARIMA at (p,d,q):(1, 2, 0)\n",
      "MSE:944400258.584 , RMSE:30731.096,AIC:1635.821\n",
      "--------------------------------------------------\n",
      "ARIMA at (p,d,q):(1, 2, 1)\n",
      "MSE:21215421.372 , RMSE:4606.02,AIC:1619.977\n",
      "--------------------------------------------------\n",
      "ARIMA at (p,d,q):(1, 2, 2)\n",
      "MSE:15850513.594 , RMSE:3981.27,AIC:1612.663\n",
      "--------------------------------------------------\n",
      "ARIMA at (p,d,q):(1, 2, 3)\n",
      "MSE:12447938.598 , RMSE:3528.164,AIC:1609.143\n",
      "--------------------------------------------------\n",
      "ARIMA at (p,d,q):(1, 3, 0)\n",
      "MSE:35768674202.736 , RMSE:189126.08,AIC:1679.95\n",
      "--------------------------------------------------\n",
      "ARIMA at (p,d,q):(1, 3, 1)\n",
      "MSE:1149525060.223 , RMSE:33904.647,AIC:1628.712\n",
      "--------------------------------------------------\n",
      "ARIMA at (p,d,q):(1, 3, 2)\n",
      "MSE:1199049153.732 , RMSE:34627.289,AIC:1629.194\n",
      "--------------------------------------------------\n",
      "ARIMA at (p,d,q):(1, 3, 3)\n",
      "MSE:1194956572.592 , RMSE:34568.144,AIC:1630.878\n",
      "--------------------------------------------------\n",
      "ARIMA at (p,d,q):(1, 4, 0)\n",
      "MSE:853240806621.652 , RMSE:923710.348,AIC:1749.93\n",
      "--------------------------------------------------\n",
      "ARIMA at (p,d,q):(1, 4, 1)\n",
      "MSE:41749670262.292 , RMSE:204327.361,AIC:1671.834\n",
      "--------------------------------------------------\n",
      "ARIMA at (p,d,q):(1, 4, 2)\n",
      "MSE:3326631101.581 , RMSE:57676.955,AIC:1624.653\n",
      "--------------------------------------------------\n",
      "ARIMA at (p,d,q):(1, 4, 3)\n",
      "MSE:3383286278.436 , RMSE:58166.023,AIC:1624.857\n",
      "--------------------------------------------------\n",
      "ARIMA at (p,d,q):(2, 0, 0)\n",
      "MSE:1704454.478 , RMSE:1305.548,AIC:1634.59\n",
      "--------------------------------------------------\n",
      "ARIMA at (p,d,q):(2, 0, 1)\n",
      "MSE:1605846.665 , RMSE:1267.22,AIC:1631.542\n",
      "--------------------------------------------------\n",
      "ARIMA at (p,d,q):(2, 0, 2)\n",
      "MSE:1754642.101 , RMSE:1324.629,AIC:1631.616\n",
      "--------------------------------------------------\n",
      "ARIMA at (p,d,q):(2, 0, 3)\n",
      "MSE:1348723.682 , RMSE:1161.346,AIC:1633.946\n",
      "--------------------------------------------------\n",
      "ARIMA at (p,d,q):(2, 1, 0)\n",
      "MSE:6066703.228 , RMSE:2463.068,AIC:1617.061\n",
      "--------------------------------------------------\n",
      "ARIMA at (p,d,q):(2, 1, 1)\n",
      "MSE:1258950.857 , RMSE:1122.03,AIC:1615.423\n",
      "--------------------------------------------------\n",
      "ARIMA at (p,d,q):(2, 1, 2)\n",
      "MSE:811020.03 , RMSE:900.567,AIC:1615.605\n",
      "--------------------------------------------------\n",
      "ARIMA at (p,d,q):(2, 1, 3)\n",
      "MSE:1081536.804 , RMSE:1039.97,AIC:1616.791\n",
      "--------------------------------------------------\n",
      "ARIMA at (p,d,q):(2, 2, 0)\n",
      "MSE:672716903.876 , RMSE:25936.787,AIC:1628.049\n",
      "--------------------------------------------------\n",
      "ARIMA at (p,d,q):(2, 2, 1)\n",
      "MSE:8730500.001 , RMSE:2954.742,AIC:1608.995\n",
      "--------------------------------------------------\n",
      "ARIMA at (p,d,q):(2, 2, 2)\n",
      "MSE:90329844.938 , RMSE:9504.201,AIC:1607.426\n",
      "--------------------------------------------------\n",
      "ARIMA at (p,d,q):(2, 2, 3)\n",
      "MSE:12984459.803 , RMSE:3603.396,AIC:1611.046\n",
      "--------------------------------------------------\n",
      "ARIMA at (p,d,q):(2, 3, 0)\n",
      "MSE:28077470970.035 , RMSE:167563.334,AIC:1663.468\n",
      "--------------------------------------------------\n",
      "ARIMA at (p,d,q):(2, 3, 1)\n",
      "MSE:826413996.336 , RMSE:28747.417,AIC:1621.386\n",
      "--------------------------------------------------\n",
      "ARIMA at (p,d,q):(2, 3, 2)\n",
      "MSE:791067701.597 , RMSE:28125.926,AIC:1604.241\n",
      "--------------------------------------------------\n",
      "ARIMA at (p,d,q):(2, 3, 3)\n",
      "MSE:1224846465.357 , RMSE:34997.807,AIC:1628.494\n",
      "--------------------------------------------------\n",
      "ARIMA at (p,d,q):(2, 4, 0)\n",
      "MSE:631071468187.973 , RMSE:794400.068,AIC:1724.83\n",
      "--------------------------------------------------\n",
      "ARIMA at (p,d,q):(2, 4, 1)\n",
      "MSE:32731387409.824 , RMSE:180918.179,AIC:1656.001\n",
      "--------------------------------------------------\n",
      "ARIMA at (p,d,q):(2, 4, 2)\n",
      "MSE:2407840502.382 , RMSE:49069.751,AIC:1617.981\n",
      "--------------------------------------------------\n",
      "ARIMA at (p,d,q):(2, 4, 3)\n",
      "MSE:3472685313.941 , RMSE:58929.494,AIC:1626.836\n",
      "--------------------------------------------------\n",
      "ARIMA at (p,d,q):(3, 0, 0)\n",
      "MSE:1546598.275 , RMSE:1243.623,AIC:1631.115\n",
      "--------------------------------------------------\n",
      "ARIMA at (p,d,q):(3, 0, 1)\n",
      "MSE:1712978.005 , RMSE:1308.808,AIC:1633.389\n",
      "--------------------------------------------------\n",
      "ARIMA at (p,d,q):(3, 0, 2)\n",
      "MSE:1240206.355 , RMSE:1113.646,AIC:1634.304\n",
      "--------------------------------------------------\n",
      "ARIMA at (p,d,q):(3, 0, 3)\n",
      "MSE:1435199.939 , RMSE:1197.998,AIC:1635.57\n",
      "--------------------------------------------------\n",
      "ARIMA at (p,d,q):(3, 1, 0)\n",
      "MSE:5215939.304 , RMSE:2283.843,AIC:1618.741\n",
      "--------------------------------------------------\n",
      "ARIMA at (p,d,q):(3, 1, 1)\n",
      "MSE:5490129.016 , RMSE:2343.102,AIC:1620.369\n",
      "--------------------------------------------------\n"
     ]
    },
    {
     "name": "stdout",
     "output_type": "stream",
     "text": [
      "ARIMA at (p,d,q):(3, 1, 2)\n",
      "MSE:1234087.966 , RMSE:1110.895,AIC:1618.184\n",
      "--------------------------------------------------\n",
      "ARIMA at (p,d,q):(3, 1, 3)\n",
      "MSE:881459.828 , RMSE:938.861,AIC:1616.401\n",
      "--------------------------------------------------\n",
      "ARIMA at (p,d,q):(3, 2, 0)\n",
      "MSE:518255032.28 , RMSE:22765.215,AIC:1627.021\n",
      "--------------------------------------------------\n",
      "ARIMA at (p,d,q):(3, 2, 1)\n",
      "MSE:7711347.947 , RMSE:2776.931,AIC:1610.787\n",
      "--------------------------------------------------\n",
      "ARIMA at (p,d,q):(3, 2, 2)\n",
      "MSE:8797342.665 , RMSE:2966.031,AIC:1612.379\n",
      "--------------------------------------------------\n",
      "ARIMA at (p,d,q):(3, 2, 3)\n",
      "MSE:11748026.368 , RMSE:3427.539,AIC:1612.949\n",
      "--------------------------------------------------\n",
      "ARIMA at (p,d,q):(3, 3, 0)\n",
      "MSE:20116163165.414 , RMSE:141831.46,AIC:1650.547\n",
      "--------------------------------------------------\n",
      "ARIMA at (p,d,q):(3, 3, 1)\n",
      "MSE:644127645.081 , RMSE:25379.67,AIC:1620.634\n",
      "--------------------------------------------------\n",
      "ARIMA at (p,d,q):(3, 3, 2)\n",
      "MSE:714351329.99 , RMSE:26727.352,AIC:1622.35\n",
      "--------------------------------------------------\n",
      "ARIMA at (p,d,q):(3, 3, 3)\n",
      "MSE:798130738.832 , RMSE:28251.208,AIC:1608.237\n",
      "--------------------------------------------------\n",
      "ARIMA at (p,d,q):(3, 4, 0)\n",
      "MSE:288007209866.442 , RMSE:536663.032,AIC:1697.084\n",
      "--------------------------------------------------\n",
      "ARIMA at (p,d,q):(3, 4, 1)\n",
      "MSE:23468068537.222 , RMSE:153192.913,AIC:1643.721\n",
      "--------------------------------------------------\n",
      "ARIMA at (p,d,q):(3, 4, 2)\n",
      "MSE:1228860361.377 , RMSE:35055.105,AIC:1624.388\n",
      "--------------------------------------------------\n",
      "ARIMA at (p,d,q):(3, 4, 3)\n",
      "MSE:2220077656.788 , RMSE:47117.7,AIC:1621.622\n",
      "--------------------------------------------------\n",
      "ARIMA at (p,d,q):(4, 0, 0)\n",
      "MSE:1714322.201 , RMSE:1309.321,AIC:1633.402\n",
      "--------------------------------------------------\n",
      "ARIMA at (p,d,q):(4, 0, 1)\n",
      "MSE:1686487.809 , RMSE:1298.648,AIC:1635.138\n",
      "--------------------------------------------------\n",
      "ARIMA at (p,d,q):(4, 0, 2)\n",
      "MSE:1747301.352 , RMSE:1321.855,AIC:1633.214\n",
      "--------------------------------------------------\n",
      "ARIMA at (p,d,q):(4, 0, 3)\n",
      "MSE:1705299.348 , RMSE:1305.871,AIC:1635.95\n",
      "--------------------------------------------------\n",
      "ARIMA at (p,d,q):(4, 1, 0)\n",
      "MSE:3841280.287 , RMSE:1959.918,AIC:1619.335\n",
      "--------------------------------------------------\n",
      "ARIMA at (p,d,q):(4, 1, 1)\n",
      "MSE:1194073.446 , RMSE:1092.737,AIC:1616.816\n",
      "--------------------------------------------------\n",
      "ARIMA at (p,d,q):(4, 1, 2)\n",
      "MSE:834612.3 , RMSE:913.571,AIC:1619.709\n",
      "--------------------------------------------------\n",
      "ARIMA at (p,d,q):(4, 1, 3)\n",
      "MSE:1235629.13 , RMSE:1111.589,AIC:1616.474\n",
      "--------------------------------------------------\n",
      "ARIMA at (p,d,q):(4, 2, 0)\n",
      "MSE:458266717.471 , RMSE:21407.165,AIC:1628.433\n",
      "--------------------------------------------------\n",
      "ARIMA at (p,d,q):(4, 2, 1)\n",
      "MSE:5797621.336 , RMSE:2407.825,AIC:1611.594\n",
      "--------------------------------------------------\n",
      "ARIMA at (p,d,q):(4, 2, 2)\n",
      "MSE:8911602.913 , RMSE:2985.231,AIC:1614.37\n",
      "--------------------------------------------------\n",
      "ARIMA at (p,d,q):(4, 2, 3)\n",
      "MSE:9403453.909 , RMSE:3066.505,AIC:1610.331\n",
      "--------------------------------------------------\n",
      "ARIMA at (p,d,q):(4, 3, 0)\n",
      "MSE:18310631773.223 , RMSE:135316.783,AIC:1649.694\n",
      "--------------------------------------------------\n",
      "ARIMA at (p,d,q):(4, 3, 1)\n",
      "MSE:577875295.448 , RMSE:24039.037,AIC:1622.21\n",
      "--------------------------------------------------\n",
      "ARIMA at (p,d,q):(4, 3, 2)\n",
      "MSE:718962210.55 , RMSE:26813.471,AIC:1624.49\n",
      "--------------------------------------------------\n",
      "ARIMA at (p,d,q):(4, 3, 3)\n",
      "MSE:841773976.831 , RMSE:29013.341,AIC:1624.593\n",
      "--------------------------------------------------\n",
      "ARIMA at (p,d,q):(4, 4, 0)\n",
      "MSE:331040269904.652 , RMSE:575360.991,AIC:1689.483\n",
      "--------------------------------------------------\n",
      "ARIMA at (p,d,q):(4, 4, 1)\n",
      "MSE:21423786416.017 , RMSE:146368.666,AIC:1643.116\n",
      "--------------------------------------------------\n",
      "ARIMA at (p,d,q):(4, 4, 2)\n",
      "MSE:24549435146.595 , RMSE:156682.594,AIC:1645.778\n",
      "--------------------------------------------------\n",
      "ARIMA at (p,d,q):(4, 4, 3)\n",
      "MSE:842897008.246 , RMSE:29032.689,AIC:1630.451\n",
      "--------------------------------------------------\n"
     ]
    }
   ],
   "source": [
    "custom_arima()"
   ]
  },
  {
   "cell_type": "code",
   "execution_count": 82,
   "id": "8baee8ad",
   "metadata": {},
   "outputs": [
    {
     "name": "stdout",
     "output_type": "stream",
     "text": [
      "811020.0300807547 46\n",
      "900.5665050848575 46\n",
      "1604.2411474404894 54\n",
      "(2, 1, 2) (2, 3, 2)\n"
     ]
    }
   ],
   "source": [
    "print(min(mse_arima),mse_arima.index(min(mse_arima)))\n",
    "print(min(rmse_arima),rmse_arima.index(min(rmse_arima)))\n",
    "print(min(aic_arima),aic_arima.index(min(aic_arima)))\n",
    "print(pdq[46],pdq[54])"
   ]
  },
  {
   "cell_type": "code",
   "execution_count": 83,
   "id": "a80aebf5",
   "metadata": {},
   "outputs": [],
   "source": [
    "# so the best value of (p,d,q) is(2,1,2) where rmse is 900.566 lets build a model on that"
   ]
  },
  {
   "cell_type": "markdown",
   "id": "b087c415",
   "metadata": {},
   "source": [
    "# MODEL CUSTOM ARIMA(2,1,2)"
   ]
  },
  {
   "cell_type": "code",
   "execution_count": 84,
   "id": "b6ea46f7",
   "metadata": {},
   "outputs": [
    {
     "name": "stdout",
     "output_type": "stream",
     "text": [
      "                               SARIMAX Results                                \n",
      "==============================================================================\n",
      "Dep. Variable:               priceMod   No. Observations:                  116\n",
      "Model:                 ARIMA(2, 1, 2)   Log Likelihood                -802.802\n",
      "Date:                Mon, 25 Jul 2022   AIC                           1615.605\n",
      "Time:                        12:22:08   BIC                           1629.330\n",
      "Sample:                    01-01-2004   HQIC                          1621.176\n",
      "                         - 08-01-2013                                         \n",
      "Covariance Type:                  opg                                         \n",
      "==============================================================================\n",
      "                 coef    std err          z      P>|z|      [0.025      0.975]\n",
      "------------------------------------------------------------------------------\n",
      "ar.L1          1.2338      0.133      9.305      0.000       0.974       1.494\n",
      "ar.L2         -0.5389      0.140     -3.856      0.000      -0.813      -0.265\n",
      "ma.L1         -0.6221      0.174     -3.581      0.000      -0.963      -0.282\n",
      "ma.L2         -0.2372      0.207     -1.148      0.251      -0.642       0.168\n",
      "sigma2      6.704e+04   5053.410     13.266      0.000    5.71e+04    7.69e+04\n",
      "===================================================================================\n",
      "Ljung-Box (L1) (Q):                   0.00   Jarque-Bera (JB):               277.17\n",
      "Prob(Q):                              1.00   Prob(JB):                         0.00\n",
      "Heteroskedasticity (H):               8.06   Skew:                             1.29\n",
      "Prob(H) (two-sided):                  0.00   Kurtosis:                        10.16\n",
      "===================================================================================\n",
      "\n",
      "Warnings:\n",
      "[1] Covariance matrix calculated using the outer product of gradients (complex-step).\n"
     ]
    }
   ],
   "source": [
    "m5 = ARIMA(train,order=(2,1,2))\n",
    "ar_m5 = m5.fit()\n",
    "print(ar_m5.summary())"
   ]
  },
  {
   "cell_type": "code",
   "execution_count": 85,
   "id": "9a526c0b",
   "metadata": {},
   "outputs": [
    {
     "data": {
      "text/plain": [
       "2013-09-01    4458.100633\n",
       "2013-10-01    4078.219199\n",
       "2013-11-01    3256.462333\n",
       "2013-12-01    2447.279477\n",
       "2014-01-01    1891.746747\n",
       "2014-02-01    1642.398957\n",
       "2014-03-01    1634.134204\n",
       "2014-04-01    1758.315645\n",
       "2014-05-01    1915.988579\n",
       "2014-06-01    2043.606319\n",
       "2014-07-01    2116.091768\n",
       "2014-08-01    2136.750673\n",
       "2014-09-01    2123.176339\n",
       "2014-10-01    2095.294391\n",
       "2014-11-01    2068.208278\n",
       "2014-12-01    2049.814763\n",
       "2015-01-01    2041.717553\n",
       "2015-02-01    2041.639616\n",
       "2015-03-01    2045.907211\n",
       "2015-04-01    2051.214703\n",
       "2015-05-01    2055.463354\n",
       "2015-06-01    2057.845152\n",
       "2015-07-01    2058.494200\n",
       "2015-08-01    2058.011415\n",
       "2015-09-01    2057.065954\n",
       "2015-10-01    2056.159598\n",
       "2015-11-01    2055.550838\n",
       "2015-12-01    2055.288184\n",
       "2016-01-01    2055.292187\n",
       "2016-02-01    2055.438677\n",
       "Freq: MS, Name: predicted_mean, dtype: float64"
      ]
     },
     "execution_count": 85,
     "metadata": {},
     "output_type": "execute_result"
    }
   ],
   "source": [
    "fcast_m5 = ar_m5.forecast(30)\n",
    "fcast_m5"
   ]
  },
  {
   "cell_type": "code",
   "execution_count": 87,
   "id": "cd76c19e",
   "metadata": {},
   "outputs": [
    {
     "data": {
      "image/png": "[encoded data removed]",
      "text/plain": [
       "<Figure size 720x360 with 1 Axes>"
      ]
     },
     "metadata": {
      "needs_background": "light"
     },
     "output_type": "display_data"
    }
   ],
   "source": [
    "plt.figure(figsize=(10,5))\n",
    "plt.plot(train,label='Train')\n",
    "plt.plot(test,label='Test')\n",
    "plt.plot(fcast_m5,label='Fcast')\n",
    "plt.title('ARIMA Model')\n",
    "plt.grid()\n",
    "plt.legend()\n",
    "plt.show()"
   ]
  },
  {
   "cell_type": "code",
   "execution_count": 88,
   "id": "8e7428e2",
   "metadata": {},
   "outputs": [
    {
     "name": "stdout",
     "output_type": "stream",
     "text": [
      "AIC 1615.6048964825661\n"
     ]
    }
   ],
   "source": [
    "aic_m5 = ar_m5.aic\n",
    "print('AIC',aic_m5)\n",
    "\n",
    "mse_m5,rmse_m5,mape_m5  = test_metrics(test,fcast_m5)"
   ]
  },
  {
   "cell_type": "code",
   "execution_count": 89,
   "id": "9b701ffd",
   "metadata": {},
   "outputs": [
    {
     "data": {
      "text/html": [
       "<div>\n",
       "<style scoped>\n",
       "    .dataframe tbody tr th:only-of-type {\n",
       "        vertical-align: middle;\n",
       "    }\n",
       "\n",
       "    .dataframe tbody tr th {\n",
       "        vertical-align: top;\n",
       "    }\n",
       "\n",
       "    .dataframe thead th {\n",
       "        text-align: right;\n",
       "    }\n",
       "</style>\n",
       "<table border=\"1\" class=\"dataframe\">\n",
       "  <thead>\n",
       "    <tr style=\"text-align: right;\">\n",
       "      <th></th>\n",
       "      <th>Model</th>\n",
       "      <th>MSE</th>\n",
       "      <th>RMSE</th>\n",
       "      <th>MAPE</th>\n",
       "      <th>AIC</th>\n",
       "    </tr>\n",
       "  </thead>\n",
       "  <tbody>\n",
       "    <tr>\n",
       "      <th>3</th>\n",
       "      <td>CUSTOM ARIMA(2,1,2)</td>\n",
       "      <td>811020.030081</td>\n",
       "      <td>900.566505</td>\n",
       "      <td>0.406001</td>\n",
       "      <td>1615.604896</td>\n",
       "    </tr>\n",
       "  </tbody>\n",
       "</table>\n",
       "</div>"
      ],
      "text/plain": [
       "                 Model            MSE        RMSE      MAPE          AIC\n",
       "3  CUSTOM ARIMA(2,1,2)  811020.030081  900.566505  0.406001  1615.604896"
      ]
     },
     "execution_count": 89,
     "metadata": {},
     "output_type": "execute_result"
    }
   ],
   "source": [
    "m5_res = pd.DataFrame({'Model':'CUSTOM ARIMA(2,1,2)','MSE':mse_m5,'RMSE':rmse_m5,\n",
    "                       'MAPE':mape_m5,'AIC':aic_m5},index=[3])\n",
    "m5_res"
   ]
  },
  {
   "cell_type": "code",
   "execution_count": 90,
   "id": "703877b6",
   "metadata": {},
   "outputs": [
    {
     "data": {
      "text/html": [
       "<div>\n",
       "<style scoped>\n",
       "    .dataframe tbody tr th:only-of-type {\n",
       "        vertical-align: middle;\n",
       "    }\n",
       "\n",
       "    .dataframe tbody tr th {\n",
       "        vertical-align: top;\n",
       "    }\n",
       "\n",
       "    .dataframe thead th {\n",
       "        text-align: right;\n",
       "    }\n",
       "</style>\n",
       "<table border=\"1\" class=\"dataframe\">\n",
       "  <thead>\n",
       "    <tr style=\"text-align: right;\">\n",
       "      <th></th>\n",
       "      <th>Model</th>\n",
       "      <th>MSE</th>\n",
       "      <th>RMSE</th>\n",
       "      <th>MAPE</th>\n",
       "      <th>AIC</th>\n",
       "    </tr>\n",
       "  </thead>\n",
       "  <tbody>\n",
       "    <tr>\n",
       "      <th>0</th>\n",
       "      <td>AR(1,0,0)</td>\n",
       "      <td>1.540731e+06</td>\n",
       "      <td>1241.261861</td>\n",
       "      <td>0.510138</td>\n",
       "      <td>1676.990521</td>\n",
       "    </tr>\n",
       "    <tr>\n",
       "      <th>1</th>\n",
       "      <td>MA(0,0,1)</td>\n",
       "      <td>2.428252e+06</td>\n",
       "      <td>1558.285109</td>\n",
       "      <td>0.456706</td>\n",
       "      <td>1708.652180</td>\n",
       "    </tr>\n",
       "    <tr>\n",
       "      <th>2</th>\n",
       "      <td>ARMA(1,0,1)</td>\n",
       "      <td>1.770619e+06</td>\n",
       "      <td>1330.646225</td>\n",
       "      <td>0.524810</td>\n",
       "      <td>1640.295530</td>\n",
       "    </tr>\n",
       "    <tr>\n",
       "      <th>3</th>\n",
       "      <td>ARIMA(1,1,1)</td>\n",
       "      <td>1.133690e+07</td>\n",
       "      <td>3367.030776</td>\n",
       "      <td>2.229147</td>\n",
       "      <td>1621.187749</td>\n",
       "    </tr>\n",
       "    <tr>\n",
       "      <th>3</th>\n",
       "      <td>CUSTOM ARIMA(2,1,2)</td>\n",
       "      <td>8.110200e+05</td>\n",
       "      <td>900.566505</td>\n",
       "      <td>0.406001</td>\n",
       "      <td>1615.604896</td>\n",
       "    </tr>\n",
       "  </tbody>\n",
       "</table>\n",
       "</div>"
      ],
      "text/plain": [
       "                 Model           MSE         RMSE      MAPE          AIC\n",
       "0            AR(1,0,0)  1.540731e+06  1241.261861  0.510138  1676.990521\n",
       "1            MA(0,0,1)  2.428252e+06  1558.285109  0.456706  1708.652180\n",
       "2          ARMA(1,0,1)  1.770619e+06  1330.646225  0.524810  1640.295530\n",
       "3         ARIMA(1,1,1)  1.133690e+07  3367.030776  2.229147  1621.187749\n",
       "3  CUSTOM ARIMA(2,1,2)  8.110200e+05   900.566505  0.406001  1615.604896"
      ]
     },
     "execution_count": 90,
     "metadata": {},
     "output_type": "execute_result"
    }
   ],
   "source": [
    "r5 = pd.concat([r4,m5_res])\n",
    "r5"
   ]
  },
  {
   "cell_type": "markdown",
   "id": "a93a70f7",
   "metadata": {},
   "source": [
    "# INFERENCE\n",
    "#### Based on RMSE score CUSTOM ARIMA(2,1,2) is the best model to predict onion price for mumbai market "
   ]
  },
  {
   "cell_type": "code",
   "execution_count": 93,
   "id": "166c581f",
   "metadata": {},
   "outputs": [],
   "source": [
    "from statsmodels.tsa.holtwinters import ExponentialSmoothing"
   ]
  },
  {
   "cell_type": "markdown",
   "id": "0aaa679c",
   "metadata": {},
   "source": [
    "# Triple Exponential Smoothing (Holt Winter Smoothing)"
   ]
  },
  {
   "cell_type": "code",
   "execution_count": 97,
   "id": "149d2c58",
   "metadata": {},
   "outputs": [],
   "source": [
    "alpha=0.3\n",
    "beta=0.1\n",
    "gamma=0.1\n",
    "tes=ExponentialSmoothing(train)\n",
    "tes_m6=tes.fit(smoothing_level=alpha,smoothing_trend=beta,smoothing_seasonal=gamma)\n",
    "df1['TES']=tes_m6.fittedvalues\n",
    "\n"
   ]
  },
  {
   "cell_type": "code",
   "execution_count": 100,
   "id": "68b73d96",
   "metadata": {},
   "outputs": [
    {
     "data": {
      "text/plain": [
       "2013-09-01    2194.940898\n",
       "2013-10-01    2194.940898\n",
       "2013-11-01    2194.940898\n",
       "2013-12-01    2194.940898\n",
       "2014-01-01    2194.940898\n",
       "2014-02-01    2194.940898\n",
       "2014-03-01    2194.940898\n",
       "2014-04-01    2194.940898\n",
       "2014-05-01    2194.940898\n",
       "2014-06-01    2194.940898\n",
       "2014-07-01    2194.940898\n",
       "2014-08-01    2194.940898\n",
       "2014-09-01    2194.940898\n",
       "2014-10-01    2194.940898\n",
       "2014-11-01    2194.940898\n",
       "2014-12-01    2194.940898\n",
       "2015-01-01    2194.940898\n",
       "2015-02-01    2194.940898\n",
       "2015-03-01    2194.940898\n",
       "2015-04-01    2194.940898\n",
       "2015-05-01    2194.940898\n",
       "2015-06-01    2194.940898\n",
       "2015-07-01    2194.940898\n",
       "2015-08-01    2194.940898\n",
       "2015-09-01    2194.940898\n",
       "2015-10-01    2194.940898\n",
       "2015-11-01    2194.940898\n",
       "2015-12-01    2194.940898\n",
       "2016-01-01    2194.940898\n",
       "2016-02-01    2194.940898\n",
       "Freq: MS, dtype: float64"
      ]
     },
     "execution_count": 100,
     "metadata": {},
     "output_type": "execute_result"
    }
   ],
   "source": [
    "fcast_m6=tes_m6.forecast(30)\n",
    "fcast_m6"
   ]
  },
  {
   "cell_type": "code",
   "execution_count": 101,
   "id": "a2b90e36",
   "metadata": {},
   "outputs": [
    {
     "data": {
      "image/png": "[encoded data removed]",
      "text/plain": [
       "<Figure size 720x648 with 1 Axes>"
      ]
     },
     "metadata": {
      "needs_background": "light"
     },
     "output_type": "display_data"
    }
   ],
   "source": [
    "plt.figure(figsize=(10,9))\n",
    "plt.plot(train,label='Train')\n",
    "plt.plot(test,label='Test')\n",
    "plt.plot(fcast_m6,label='Forecaste')\n",
    "plt.legend()\n",
    "plt.grid()\n",
    "plt.show()"
   ]
  },
  {
   "cell_type": "code",
   "execution_count": 102,
   "id": "a2597a47",
   "metadata": {},
   "outputs": [
    {
     "name": "stdout",
     "output_type": "stream",
     "text": [
      "AIC: 1427.6165266508474\n"
     ]
    }
   ],
   "source": [
    "aic_m6=tes_m6.aic\n",
    "print('AIC:',aic_m6)"
   ]
  },
  {
   "cell_type": "code",
   "execution_count": 105,
   "id": "004588bb",
   "metadata": {},
   "outputs": [],
   "source": [
    "mse_m6,rmse_m6,mape_m6  = test_metrics(test,fcast_m6)"
   ]
  },
  {
   "cell_type": "code",
   "execution_count": 106,
   "id": "8dd35587",
   "metadata": {},
   "outputs": [
    {
     "data": {
      "text/html": [
       "<div>\n",
       "<style scoped>\n",
       "    .dataframe tbody tr th:only-of-type {\n",
       "        vertical-align: middle;\n",
       "    }\n",
       "\n",
       "    .dataframe tbody tr th {\n",
       "        vertical-align: top;\n",
       "    }\n",
       "\n",
       "    .dataframe thead th {\n",
       "        text-align: right;\n",
       "    }\n",
       "</style>\n",
       "<table border=\"1\" class=\"dataframe\">\n",
       "  <thead>\n",
       "    <tr style=\"text-align: right;\">\n",
       "      <th></th>\n",
       "      <th>Model</th>\n",
       "      <th>MSE</th>\n",
       "      <th>RMSE</th>\n",
       "      <th>MAPE</th>\n",
       "      <th>AIC</th>\n",
       "    </tr>\n",
       "  </thead>\n",
       "  <tbody>\n",
       "    <tr>\n",
       "      <th>4</th>\n",
       "      <td>TES(0.3,0.1,0.1)</td>\n",
       "      <td>1.370681e+06</td>\n",
       "      <td>1170.760655</td>\n",
       "      <td>0.556452</td>\n",
       "      <td>1427.616527</td>\n",
       "    </tr>\n",
       "  </tbody>\n",
       "</table>\n",
       "</div>"
      ],
      "text/plain": [
       "              Model           MSE         RMSE      MAPE          AIC\n",
       "4  TES(0.3,0.1,0.1)  1.370681e+06  1170.760655  0.556452  1427.616527"
      ]
     },
     "execution_count": 106,
     "metadata": {},
     "output_type": "execute_result"
    }
   ],
   "source": [
    "m6_res = pd.DataFrame({'Model':'TES(0.3,0.1,0.1)','MSE':mse_m6,'RMSE':rmse_m6,\n",
    "                       'MAPE':mape_m6,'AIC':aic_m6},index=[4])\n",
    "m6_res"
   ]
  },
  {
   "cell_type": "code",
   "execution_count": 107,
   "id": "186e2935",
   "metadata": {
    "scrolled": false
   },
   "outputs": [
    {
     "data": {
      "text/html": [
       "<div>\n",
       "<style scoped>\n",
       "    .dataframe tbody tr th:only-of-type {\n",
       "        vertical-align: middle;\n",
       "    }\n",
       "\n",
       "    .dataframe tbody tr th {\n",
       "        vertical-align: top;\n",
       "    }\n",
       "\n",
       "    .dataframe thead th {\n",
       "        text-align: right;\n",
       "    }\n",
       "</style>\n",
       "<table border=\"1\" class=\"dataframe\">\n",
       "  <thead>\n",
       "    <tr style=\"text-align: right;\">\n",
       "      <th></th>\n",
       "      <th>Model</th>\n",
       "      <th>MSE</th>\n",
       "      <th>RMSE</th>\n",
       "      <th>MAPE</th>\n",
       "      <th>AIC</th>\n",
       "    </tr>\n",
       "  </thead>\n",
       "  <tbody>\n",
       "    <tr>\n",
       "      <th>0</th>\n",
       "      <td>AR(1,0,0)</td>\n",
       "      <td>1.540731e+06</td>\n",
       "      <td>1241.261861</td>\n",
       "      <td>0.510138</td>\n",
       "      <td>1676.990521</td>\n",
       "    </tr>\n",
       "    <tr>\n",
       "      <th>1</th>\n",
       "      <td>MA(0,0,1)</td>\n",
       "      <td>2.428252e+06</td>\n",
       "      <td>1558.285109</td>\n",
       "      <td>0.456706</td>\n",
       "      <td>1708.652180</td>\n",
       "    </tr>\n",
       "    <tr>\n",
       "      <th>2</th>\n",
       "      <td>ARMA(1,0,1)</td>\n",
       "      <td>1.770619e+06</td>\n",
       "      <td>1330.646225</td>\n",
       "      <td>0.524810</td>\n",
       "      <td>1640.295530</td>\n",
       "    </tr>\n",
       "    <tr>\n",
       "      <th>3</th>\n",
       "      <td>ARIMA(1,1,1)</td>\n",
       "      <td>1.133690e+07</td>\n",
       "      <td>3367.030776</td>\n",
       "      <td>2.229147</td>\n",
       "      <td>1621.187749</td>\n",
       "    </tr>\n",
       "    <tr>\n",
       "      <th>3</th>\n",
       "      <td>CUSTOM ARIMA(2,1,2)</td>\n",
       "      <td>8.110200e+05</td>\n",
       "      <td>900.566505</td>\n",
       "      <td>0.406001</td>\n",
       "      <td>1615.604896</td>\n",
       "    </tr>\n",
       "    <tr>\n",
       "      <th>4</th>\n",
       "      <td>TES(0.3,0.1,0.1)</td>\n",
       "      <td>1.370681e+06</td>\n",
       "      <td>1170.760655</td>\n",
       "      <td>0.556452</td>\n",
       "      <td>1427.616527</td>\n",
       "    </tr>\n",
       "  </tbody>\n",
       "</table>\n",
       "</div>"
      ],
      "text/plain": [
       "                 Model           MSE         RMSE      MAPE          AIC\n",
       "0            AR(1,0,0)  1.540731e+06  1241.261861  0.510138  1676.990521\n",
       "1            MA(0,0,1)  2.428252e+06  1558.285109  0.456706  1708.652180\n",
       "2          ARMA(1,0,1)  1.770619e+06  1330.646225  0.524810  1640.295530\n",
       "3         ARIMA(1,1,1)  1.133690e+07  3367.030776  2.229147  1621.187749\n",
       "3  CUSTOM ARIMA(2,1,2)  8.110200e+05   900.566505  0.406001  1615.604896\n",
       "4     TES(0.3,0.1,0.1)  1.370681e+06  1170.760655  0.556452  1427.616527"
      ]
     },
     "execution_count": 107,
     "metadata": {},
     "output_type": "execute_result"
    }
   ],
   "source": [
    "r6 = pd.concat([r5,m6_res])\n",
    "r6"
   ]
  },
  {
   "cell_type": "markdown",
   "id": "2ad71e90",
   "metadata": {},
   "source": [
    "# INFERENCE\n",
    "#### Based on RMSE score CUSTOM ARIMA(2,1,2) is the best model to predict onion price for mumbai market "
   ]
  },
  {
   "cell_type": "markdown",
   "id": "0d885bdc",
   "metadata": {},
   "source": [
    "# Forecast onion price for Mumbai market using Triple Exponential Smoothing (Holt Winter Smoothing)(alpha=0.3,beta=0.1,gamma=0.1)"
   ]
  },
  {
   "cell_type": "code",
   "execution_count": 108,
   "id": "f8325315",
   "metadata": {},
   "outputs": [
    {
     "data": {
      "text/plain": [
       "2013-09-01    2194.940898\n",
       "2013-10-01    2194.940898\n",
       "2013-11-01    2194.940898\n",
       "2013-12-01    2194.940898\n",
       "2014-01-01    2194.940898\n",
       "2014-02-01    2194.940898\n",
       "2014-03-01    2194.940898\n",
       "2014-04-01    2194.940898\n",
       "2014-05-01    2194.940898\n",
       "2014-06-01    2194.940898\n",
       "2014-07-01    2194.940898\n",
       "2014-08-01    2194.940898\n",
       "2014-09-01    2194.940898\n",
       "2014-10-01    2194.940898\n",
       "2014-11-01    2194.940898\n",
       "2014-12-01    2194.940898\n",
       "2015-01-01    2194.940898\n",
       "2015-02-01    2194.940898\n",
       "2015-03-01    2194.940898\n",
       "2015-04-01    2194.940898\n",
       "2015-05-01    2194.940898\n",
       "2015-06-01    2194.940898\n",
       "2015-07-01    2194.940898\n",
       "2015-08-01    2194.940898\n",
       "2015-09-01    2194.940898\n",
       "2015-10-01    2194.940898\n",
       "2015-11-01    2194.940898\n",
       "2015-12-01    2194.940898\n",
       "2016-01-01    2194.940898\n",
       "2016-02-01    2194.940898\n",
       "Freq: MS, dtype: float64"
      ]
     },
     "execution_count": 108,
     "metadata": {},
     "output_type": "execute_result"
    }
   ],
   "source": [
    "fcast_m6=tes_m6.forecast(30)\n",
    "fcast_m6"
   ]
  },
  {
   "cell_type": "code",
   "execution_count": null,
   "id": "6102d660",
   "metadata": {},
   "outputs": [],
   "source": []
  }
 ],
 "metadata": {
  "kernelspec": {
   "display_name": "Python 3 (ipykernel)",
   "language": "python",
   "name": "python3"
  },
  "language_info": {
   "codemirror_mode": {
    "name": "ipython",
    "version": 3
   },
   "file_extension": ".py",
   "mimetype": "text/x-python",
   "name": "python",
   "nbconvert_exporter": "python",
   "pygments_lexer": "ipython3",
   "version": "3.9.7"
  }
 },
 "nbformat": 4,
 "nbformat_minor": 5
}
